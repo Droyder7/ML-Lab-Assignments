{
  "nbformat": 4,
  "nbformat_minor": 0,
  "metadata": {
    "colab": {
      "name": "Ionosphere Dataset.ipynb",
      "provenance": [],
      "collapsed_sections": [
        "UE5cxFjn5ORe",
        "3rE3PeZdEJG-",
        "MkI_Fr8REJG-",
        "CbooBDxpEJG_",
        "ns1ka-lnEJG_",
        "ZCFnUsR8EJHA",
        "za5uQolCEJHA",
        "Uy3RG-vMEJHB",
        "UvEwotTYEJHB",
        "bQOs33IBEJHC",
        "YfSsde3GEJHC"
      ],
      "toc_visible": true
    },
    "kernelspec": {
      "display_name": "Python 3",
      "name": "python3"
    },
    "language_info": {
      "name": "python"
    }
  },
  "cells": [
    {
      "cell_type": "markdown",
      "metadata": {
        "id": "Zmsi2yEo5IIs"
      },
      "source": [
        "## Install hmmlearn"
      ]
    },
    {
      "cell_type": "code",
      "metadata": {
        "colab": {
          "base_uri": "https://localhost:8080/"
        },
        "id": "BNZ8excs3bWE",
        "outputId": "96375056-2a58-489c-d22e-fd3fff63a490"
      },
      "source": [
        "! pip install hmmlearn"
      ],
      "execution_count": null,
      "outputs": [
        {
          "name": "stdout",
          "output_type": "stream",
          "text": [
            "Collecting hmmlearn\n",
            "  Downloading hmmlearn-0.2.6-cp37-cp37m-manylinux_2_5_x86_64.manylinux1_x86_64.whl (374 kB)\n",
            "\u001b[?25l\r\u001b[K     |▉                               | 10 kB 22.8 MB/s eta 0:00:01\r\u001b[K     |█▊                              | 20 kB 28.0 MB/s eta 0:00:01\r\u001b[K     |██▋                             | 30 kB 33.2 MB/s eta 0:00:01\r\u001b[K     |███▌                            | 40 kB 35.5 MB/s eta 0:00:01\r\u001b[K     |████▍                           | 51 kB 35.1 MB/s eta 0:00:01\r\u001b[K     |█████▎                          | 61 kB 37.6 MB/s eta 0:00:01\r\u001b[K     |██████▏                         | 71 kB 27.3 MB/s eta 0:00:01\r\u001b[K     |███████                         | 81 kB 28.3 MB/s eta 0:00:01\r\u001b[K     |███████▉                        | 92 kB 29.1 MB/s eta 0:00:01\r\u001b[K     |████████▊                       | 102 kB 30.8 MB/s eta 0:00:01\r\u001b[K     |█████████▋                      | 112 kB 30.8 MB/s eta 0:00:01\r\u001b[K     |██████████▌                     | 122 kB 30.8 MB/s eta 0:00:01\r\u001b[K     |███████████▍                    | 133 kB 30.8 MB/s eta 0:00:01\r\u001b[K     |████████████▎                   | 143 kB 30.8 MB/s eta 0:00:01\r\u001b[K     |█████████████▏                  | 153 kB 30.8 MB/s eta 0:00:01\r\u001b[K     |██████████████                  | 163 kB 30.8 MB/s eta 0:00:01\r\u001b[K     |██████████████▉                 | 174 kB 30.8 MB/s eta 0:00:01\r\u001b[K     |███████████████▊                | 184 kB 30.8 MB/s eta 0:00:01\r\u001b[K     |████████████████▋               | 194 kB 30.8 MB/s eta 0:00:01\r\u001b[K     |█████████████████▌              | 204 kB 30.8 MB/s eta 0:00:01\r\u001b[K     |██████████████████▍             | 215 kB 30.8 MB/s eta 0:00:01\r\u001b[K     |███████████████████▎            | 225 kB 30.8 MB/s eta 0:00:01\r\u001b[K     |████████████████████            | 235 kB 30.8 MB/s eta 0:00:01\r\u001b[K     |█████████████████████           | 245 kB 30.8 MB/s eta 0:00:01\r\u001b[K     |█████████████████████▉          | 256 kB 30.8 MB/s eta 0:00:01\r\u001b[K     |██████████████████████▊         | 266 kB 30.8 MB/s eta 0:00:01\r\u001b[K     |███████████████████████▋        | 276 kB 30.8 MB/s eta 0:00:01\r\u001b[K     |████████████████████████▌       | 286 kB 30.8 MB/s eta 0:00:01\r\u001b[K     |█████████████████████████▍      | 296 kB 30.8 MB/s eta 0:00:01\r\u001b[K     |██████████████████████████▎     | 307 kB 30.8 MB/s eta 0:00:01\r\u001b[K     |███████████████████████████     | 317 kB 30.8 MB/s eta 0:00:01\r\u001b[K     |████████████████████████████    | 327 kB 30.8 MB/s eta 0:00:01\r\u001b[K     |████████████████████████████▉   | 337 kB 30.8 MB/s eta 0:00:01\r\u001b[K     |█████████████████████████████▊  | 348 kB 30.8 MB/s eta 0:00:01\r\u001b[K     |██████████████████████████████▋ | 358 kB 30.8 MB/s eta 0:00:01\r\u001b[K     |███████████████████████████████▌| 368 kB 30.8 MB/s eta 0:00:01\r\u001b[K     |████████████████████████████████| 374 kB 30.8 MB/s \n",
            "\u001b[?25hRequirement already satisfied: numpy>=1.10 in /usr/local/lib/python3.7/dist-packages (from hmmlearn) (1.19.5)\n",
            "Requirement already satisfied: scipy>=0.19 in /usr/local/lib/python3.7/dist-packages (from hmmlearn) (1.4.1)\n",
            "Requirement already satisfied: scikit-learn>=0.16 in /usr/local/lib/python3.7/dist-packages (from hmmlearn) (0.22.2.post1)\n",
            "Requirement already satisfied: joblib>=0.11 in /usr/local/lib/python3.7/dist-packages (from scikit-learn>=0.16->hmmlearn) (1.0.1)\n",
            "Installing collected packages: hmmlearn\n",
            "Successfully installed hmmlearn-0.2.6\n"
          ]
        }
      ]
    },
    {
      "cell_type": "markdown",
      "metadata": {
        "id": "UE5cxFjn5ORe"
      },
      "source": [
        "# GaussianHMM classifier"
      ]
    },
    {
      "cell_type": "markdown",
      "metadata": {
        "id": "Io3DRFqr5YWm"
      },
      "source": [
        "## Without Tuning"
      ]
    },
    {
      "cell_type": "markdown",
      "metadata": {
        "id": "TrFHAy1z5b91"
      },
      "source": [
        "### Train : Test = 70 : 30"
      ]
    },
    {
      "cell_type": "code",
      "metadata": {
        "colab": {
          "base_uri": "https://localhost:8080/",
          "height": 603
        },
        "id": "tK_VUQp_zcdU",
        "outputId": "b788a4e8-3ec2-4037-f83b-f872ca9692dc"
      },
      "source": [
        "import pandas as pd\n",
        "import numpy as np\n",
        "\n",
        "# Dataset Preparation\n",
        "df = pd.read_csv(\"https://archive.ics.uci.edu/ml/machine-learning-databases/ionosphere/ionosphere.data\",header=None)\n",
        "\n",
        "\n",
        "df.columns = ['1','2','3','4','5','6','7','8','9','10','11','12','13','14','15','16','17','18','19'\n",
        "           ,'20','21','22','23','24','25','26','27','28','29','30','31','32','33','34','Class']\n",
        "\n",
        "\n",
        "X = df.drop(['Class'], axis=1)\n",
        "y = df['Class']\n",
        "\n",
        "from sklearn.model_selection import train_test_split\n",
        "\n",
        "X_train, X_test, y_train, y_test = train_test_split(X,y, test_size=0.3)\n",
        "\n",
        "\n",
        "# Feature Scaling \n",
        "from sklearn.preprocessing import StandardScaler\n",
        "\n",
        "sc = StandardScaler()\n",
        "X_train = sc.fit_transform(X_train)\n",
        "X_test = sc.transform(X_test)\n",
        "\n",
        "# Classification\n",
        "from hmmlearn import hmm\n",
        "\n",
        "classifier = hmm.GaussianHMM(n_components=3, covariance_type=\"full\")\n",
        "classifier.fit(X_train)\n",
        "\n",
        "y_pred = classifier.predict(X_test)\n",
        "\n",
        "size = len(y_pred)\n",
        "strings = np.empty(size, np.unicode_)\n",
        "\n",
        "for i in range (size):\n",
        "    if y_pred[i] == 1:\n",
        "      strings[i] = (\"g\")\n",
        "    else:\n",
        "      strings[i] = (\"b\")\n",
        "\n",
        "from sklearn.metrics import classification_report, confusion_matrix, accuracy_score\n",
        "\n",
        "print(\"Confusion Matrix:\")\n",
        "cm = confusion_matrix(y_test, strings)\n",
        "print(cm)\n",
        "\n",
        "print(\"--------------------------------------------------\")\n",
        "print(\"--------------------------------------------------\")\n",
        "\n",
        "\n",
        "print(\"Performance Evaluation\")\n",
        "print(classification_report(y_test, strings))\n",
        "\n",
        "\n",
        "print(\"--------------------------------------------------\")\n",
        "print(\"--------------------------------------------------\")\n",
        "\n",
        "print(\"Accuracy:\")\n",
        "print(accuracy_score(y_test, strings))\n",
        "\n",
        "import matplotlib.pyplot as plt\n",
        "import seaborn as sns\n",
        "sns.heatmap(cm, annot=True, fmt=\"d\")\n",
        "plt.show()"
      ],
      "execution_count": null,
      "outputs": [
        {
          "output_type": "stream",
          "name": "stdout",
          "text": [
            "Confusion Matrix:\n",
            "[[39  0]\n",
            " [22 45]]\n",
            "--------------------------------------------------\n",
            "--------------------------------------------------\n",
            "Performance Evaluation\n",
            "              precision    recall  f1-score   support\n",
            "\n",
            "           b       0.64      1.00      0.78        39\n",
            "           g       1.00      0.67      0.80        67\n",
            "\n",
            "    accuracy                           0.79       106\n",
            "   macro avg       0.82      0.84      0.79       106\n",
            "weighted avg       0.87      0.79      0.79       106\n",
            "\n",
            "--------------------------------------------------\n",
            "--------------------------------------------------\n",
            "Accuracy:\n",
            "0.7924528301886793\n"
          ]
        },
        {
          "output_type": "display_data",
          "data": {
            "image/png": "[encoded data removed]",
            "text/plain": [
              "<Figure size 432x288 with 2 Axes>"
            ]
          },
          "metadata": {
            "needs_background": "light"
          }
        }
      ]
    },
    {
      "cell_type": "markdown",
      "metadata": {
        "id": "B4fPhZzd53rj"
      },
      "source": [
        "### Train : Test = 60 : 40"
      ]
    },
    {
      "cell_type": "code",
      "metadata": {
        "colab": {
          "base_uri": "https://localhost:8080/",
          "height": 599
        },
        "id": "22eGz_93M-zq",
        "outputId": "05d367c3-58e8-4b4d-ecb1-b2bb68db744a"
      },
      "source": [
        "import pandas as pd\n",
        "import numpy as np\n",
        "\n",
        "# Dataset Preparation\n",
        "df = pd.read_csv(\"https://archive.ics.uci.edu/ml/machine-learning-databases/ionosphere/ionosphere.data\",header=None)\n",
        "\n",
        "\n",
        "df.columns = ['1','2','3','4','5','6','7','8','9','10','11','12','13','14','15','16','17','18','19'\n",
        "           ,'20','21','22','23','24','25','26','27','28','29','30','31','32','33','34','Class']\n",
        "\n",
        "\n",
        "X = df.drop(['Class'], axis=1)\n",
        "y = df['Class']\n",
        "\n",
        "from sklearn.model_selection import train_test_split\n",
        "\n",
        "X_train, X_test, y_train, y_test = train_test_split(X,y, test_size=0.4)\n",
        "\n",
        "\n",
        "# Feature Scaling \n",
        "from sklearn.preprocessing import StandardScaler\n",
        "\n",
        "sc = StandardScaler()\n",
        "X_train = sc.fit_transform(X_train)\n",
        "X_test = sc.transform(X_test)\n",
        "\n",
        "# Classification\n",
        "from hmmlearn import hmm\n",
        "\n",
        "classifier = hmm.GaussianHMM(n_components=3, covariance_type=\"full\")\n",
        "classifier.fit(X_train)\n",
        "\n",
        "y_pred = classifier.predict(X_test)\n",
        "\n",
        "size = len(y_pred)\n",
        "strings = np.empty(size, np.unicode_)\n",
        "\n",
        "for i in range (size):\n",
        "    if y_pred[i] == 1:\n",
        "      strings[i] = (\"g\")\n",
        "    else:\n",
        "      strings[i] = (\"b\")\n",
        "\n",
        "from sklearn.metrics import classification_report, confusion_matrix, accuracy_score\n",
        "\n",
        "print(\"Confusion Matrix:\")\n",
        "cm = confusion_matrix(y_test, strings)\n",
        "print(cm)\n",
        "\n",
        "print(\"--------------------------------------------------\")\n",
        "print(\"--------------------------------------------------\")\n",
        "\n",
        "\n",
        "print(\"Performance Evaluation\")\n",
        "print(classification_report(y_test, strings))\n",
        "\n",
        "\n",
        "print(\"--------------------------------------------------\")\n",
        "print(\"--------------------------------------------------\")\n",
        "\n",
        "print(\"Accuracy:\")\n",
        "print(accuracy_score(y_test, strings))\n",
        "\n",
        "import matplotlib.pyplot as plt\n",
        "import seaborn as sns\n",
        "sns.heatmap(cm, annot=True, fmt=\"d\")\n",
        "plt.show()"
      ],
      "execution_count": null,
      "outputs": [
        {
          "output_type": "stream",
          "name": "stdout",
          "text": [
            "Confusion Matrix:\n",
            "[[50  7]\n",
            " [23 61]]\n",
            "--------------------------------------------------\n",
            "--------------------------------------------------\n",
            "Performance Evaluation\n",
            "              precision    recall  f1-score   support\n",
            "\n",
            "           b       0.68      0.88      0.77        57\n",
            "           g       0.90      0.73      0.80        84\n",
            "\n",
            "    accuracy                           0.79       141\n",
            "   macro avg       0.79      0.80      0.79       141\n",
            "weighted avg       0.81      0.79      0.79       141\n",
            "\n",
            "--------------------------------------------------\n",
            "--------------------------------------------------\n",
            "Accuracy:\n",
            "0.7872340425531915\n"
          ]
        },
        {
          "output_type": "display_data",
          "data": {
            "image/png": "[encoded data removed]",
            "text/plain": [
              "<Figure size 432x288 with 2 Axes>"
            ]
          },
          "metadata": {
            "needs_background": "light"
          }
        }
      ]
    },
    {
      "cell_type": "markdown",
      "metadata": {
        "id": "38nBCUgs8AbT"
      },
      "source": [
        "### Train : Test = 50 : 50"
      ]
    },
    {
      "cell_type": "code",
      "metadata": {
        "colab": {
          "base_uri": "https://localhost:8080/",
          "height": 599
        },
        "id": "baAKzc-4M_tM",
        "outputId": "e01f90d2-bf98-44c6-f86f-2daf797fd2ad"
      },
      "source": [
        "import pandas as pd\n",
        "import numpy as np\n",
        "\n",
        "# Dataset Preparation\n",
        "df = pd.read_csv(\"https://archive.ics.uci.edu/ml/machine-learning-databases/ionosphere/ionosphere.data\",header=None)\n",
        "\n",
        "\n",
        "df.columns = ['1','2','3','4','5','6','7','8','9','10','11','12','13','14','15','16','17','18','19'\n",
        "           ,'20','21','22','23','24','25','26','27','28','29','30','31','32','33','34','Class']\n",
        "\n",
        "\n",
        "X = df.drop(['Class'], axis=1)\n",
        "y = df['Class']\n",
        "\n",
        "from sklearn.model_selection import train_test_split\n",
        "\n",
        "X_train, X_test, y_train, y_test = train_test_split(X,y, test_size=0.5)\n",
        "\n",
        "\n",
        "# Feature Scaling \n",
        "from sklearn.preprocessing import StandardScaler\n",
        "\n",
        "sc = StandardScaler()\n",
        "X_train = sc.fit_transform(X_train)\n",
        "X_test = sc.transform(X_test)\n",
        "\n",
        "# Classification\n",
        "from hmmlearn import hmm\n",
        "\n",
        "classifier = hmm.GaussianHMM(n_components=3, covariance_type=\"full\")\n",
        "classifier.fit(X_train)\n",
        "\n",
        "y_pred = classifier.predict(X_test)\n",
        "\n",
        "size = len(y_pred)\n",
        "strings = np.empty(size, np.unicode_)\n",
        "\n",
        "for i in range (size):\n",
        "    if y_pred[i] == 1:\n",
        "      strings[i] = (\"g\")\n",
        "    else:\n",
        "      strings[i] = (\"b\")\n",
        "\n",
        "from sklearn.metrics import classification_report, confusion_matrix, accuracy_score\n",
        "\n",
        "print(\"Confusion Matrix:\")\n",
        "cm = confusion_matrix(y_test, strings)\n",
        "print(cm)\n",
        "\n",
        "print(\"--------------------------------------------------\")\n",
        "print(\"--------------------------------------------------\")\n",
        "\n",
        "\n",
        "print(\"Performance Evaluation\")\n",
        "print(classification_report(y_test, strings))\n",
        "\n",
        "\n",
        "print(\"--------------------------------------------------\")\n",
        "print(\"--------------------------------------------------\")\n",
        "\n",
        "print(\"Accuracy:\")\n",
        "print(accuracy_score(y_test, strings))\n",
        "\n",
        "import matplotlib.pyplot as plt\n",
        "import seaborn as sns\n",
        "sns.heatmap(cm, annot=True, fmt=\"d\")\n",
        "plt.show()"
      ],
      "execution_count": null,
      "outputs": [
        {
          "output_type": "stream",
          "name": "stdout",
          "text": [
            "Confusion Matrix:\n",
            "[[50  8]\n",
            " [34 84]]\n",
            "--------------------------------------------------\n",
            "--------------------------------------------------\n",
            "Performance Evaluation\n",
            "              precision    recall  f1-score   support\n",
            "\n",
            "           b       0.60      0.86      0.70        58\n",
            "           g       0.91      0.71      0.80       118\n",
            "\n",
            "    accuracy                           0.76       176\n",
            "   macro avg       0.75      0.79      0.75       176\n",
            "weighted avg       0.81      0.76      0.77       176\n",
            "\n",
            "--------------------------------------------------\n",
            "--------------------------------------------------\n",
            "Accuracy:\n",
            "0.7613636363636364\n"
          ]
        },
        {
          "output_type": "display_data",
          "data": {
            "image/png": "[encoded data removed]",
            "text/plain": [
              "<Figure size 432x288 with 2 Axes>"
            ]
          },
          "metadata": {
            "needs_background": "light"
          }
        }
      ]
    },
    {
      "cell_type": "markdown",
      "metadata": {
        "id": "JyNAZHv_8ETc"
      },
      "source": [
        "### Train : Test = 40 : 60"
      ]
    },
    {
      "cell_type": "code",
      "metadata": {
        "colab": {
          "base_uri": "https://localhost:8080/",
          "height": 599
        },
        "id": "Esx1XeDjNGN6",
        "outputId": "ac055ae9-5185-4f89-a0ed-093be2a31ab8"
      },
      "source": [
        "import pandas as pd\n",
        "import numpy as np\n",
        "\n",
        "# Dataset Preparation\n",
        "df = pd.read_csv(\"https://archive.ics.uci.edu/ml/machine-learning-databases/ionosphere/ionosphere.data\",header=None)\n",
        "\n",
        "\n",
        "df.columns = ['1','2','3','4','5','6','7','8','9','10','11','12','13','14','15','16','17','18','19'\n",
        "           ,'20','21','22','23','24','25','26','27','28','29','30','31','32','33','34','Class']\n",
        "\n",
        "\n",
        "X = df.drop(['Class'], axis=1)\n",
        "y = df['Class']\n",
        "\n",
        "from sklearn.model_selection import train_test_split\n",
        "\n",
        "X_train, X_test, y_train, y_test = train_test_split(X,y, test_size=0.6)\n",
        "\n",
        "\n",
        "# Feature Scaling \n",
        "from sklearn.preprocessing import StandardScaler\n",
        "\n",
        "sc = StandardScaler()\n",
        "X_train = sc.fit_transform(X_train)\n",
        "X_test = sc.transform(X_test)\n",
        "\n",
        "# Classification\n",
        "from hmmlearn import hmm\n",
        "\n",
        "classifier = hmm.GaussianHMM(n_components=3, covariance_type=\"full\")\n",
        "classifier.fit(X_train)\n",
        "\n",
        "y_pred = classifier.predict(X_test)\n",
        "\n",
        "size = len(y_pred)\n",
        "strings = np.empty(size, np.unicode_)\n",
        "\n",
        "for i in range (size):\n",
        "    if y_pred[i] == 1:\n",
        "      strings[i] = (\"g\")\n",
        "    else:\n",
        "      strings[i] = (\"b\")\n",
        "\n",
        "from sklearn.metrics import classification_report, confusion_matrix, accuracy_score\n",
        "\n",
        "print(\"Confusion Matrix:\")\n",
        "cm = confusion_matrix(y_test, strings)\n",
        "print(cm)\n",
        "\n",
        "print(\"--------------------------------------------------\")\n",
        "print(\"--------------------------------------------------\")\n",
        "\n",
        "\n",
        "print(\"Performance Evaluation\")\n",
        "print(classification_report(y_test, strings))\n",
        "\n",
        "\n",
        "print(\"--------------------------------------------------\")\n",
        "print(\"--------------------------------------------------\")\n",
        "\n",
        "print(\"Accuracy:\")\n",
        "print(accuracy_score(y_test, strings))\n",
        "\n",
        "import matplotlib.pyplot as plt\n",
        "import seaborn as sns\n",
        "sns.heatmap(cm, annot=True, fmt=\"d\")\n",
        "plt.show()"
      ],
      "execution_count": null,
      "outputs": [
        {
          "output_type": "stream",
          "name": "stdout",
          "text": [
            "Confusion Matrix:\n",
            "[[  2  73]\n",
            " [  0 136]]\n",
            "--------------------------------------------------\n",
            "--------------------------------------------------\n",
            "Performance Evaluation\n",
            "              precision    recall  f1-score   support\n",
            "\n",
            "           b       1.00      0.03      0.05        75\n",
            "           g       0.65      1.00      0.79       136\n",
            "\n",
            "    accuracy                           0.65       211\n",
            "   macro avg       0.83      0.51      0.42       211\n",
            "weighted avg       0.77      0.65      0.53       211\n",
            "\n",
            "--------------------------------------------------\n",
            "--------------------------------------------------\n",
            "Accuracy:\n",
            "0.6540284360189573\n"
          ]
        },
        {
          "output_type": "display_data",
          "data": {
            "image/png": "[encoded data removed]",
            "text/plain": [
              "<Figure size 432x288 with 2 Axes>"
            ]
          },
          "metadata": {
            "needs_background": "light"
          }
        }
      ]
    },
    {
      "cell_type": "markdown",
      "metadata": {
        "id": "4KxP9KU88PVL"
      },
      "source": [
        "### Train : Test = 30 : 70"
      ]
    },
    {
      "cell_type": "code",
      "metadata": {
        "colab": {
          "base_uri": "https://localhost:8080/",
          "height": 599
        },
        "id": "J40hrLMYP75r",
        "outputId": "d39d606c-77f0-4bd2-b5f4-4a2f5fa515e3"
      },
      "source": [
        "import pandas as pd\n",
        "import numpy as np\n",
        "\n",
        "# Dataset Preparation\n",
        "df = pd.read_csv(\"https://archive.ics.uci.edu/ml/machine-learning-databases/ionosphere/ionosphere.data\",header=None)\n",
        "\n",
        "\n",
        "df.columns = ['1','2','3','4','5','6','7','8','9','10','11','12','13','14','15','16','17','18','19'\n",
        "           ,'20','21','22','23','24','25','26','27','28','29','30','31','32','33','34','Class']\n",
        "\n",
        "\n",
        "X = df.drop(['Class'], axis=1)\n",
        "y = df['Class']\n",
        "\n",
        "from sklearn.model_selection import train_test_split\n",
        "\n",
        "X_train, X_test, y_train, y_test = train_test_split(X,y, test_size=0.7)\n",
        "\n",
        "\n",
        "# Feature Scaling \n",
        "from sklearn.preprocessing import StandardScaler\n",
        "\n",
        "sc = StandardScaler()\n",
        "X_train = sc.fit_transform(X_train)\n",
        "X_test = sc.transform(X_test)\n",
        "\n",
        "# Classification\n",
        "from hmmlearn import hmm\n",
        "\n",
        "classifier = hmm.GaussianHMM(n_components=3, covariance_type=\"full\")\n",
        "classifier.fit(X_train)\n",
        "\n",
        "y_pred = classifier.predict(X_test)\n",
        "\n",
        "size = len(y_pred)\n",
        "strings = np.empty(size, np.unicode_)\n",
        "\n",
        "for i in range (size):\n",
        "    if y_pred[i] == 1:\n",
        "      strings[i] = (\"g\")\n",
        "    else:\n",
        "      strings[i] = (\"b\")\n",
        "\n",
        "from sklearn.metrics import classification_report, confusion_matrix, accuracy_score\n",
        "\n",
        "print(\"Confusion Matrix:\")\n",
        "cm = confusion_matrix(y_test, strings)\n",
        "print(cm)\n",
        "\n",
        "print(\"--------------------------------------------------\")\n",
        "print(\"--------------------------------------------------\")\n",
        "\n",
        "\n",
        "print(\"Performance Evaluation\")\n",
        "print(classification_report(y_test, strings))\n",
        "\n",
        "\n",
        "print(\"--------------------------------------------------\")\n",
        "print(\"--------------------------------------------------\")\n",
        "\n",
        "print(\"Accuracy:\")\n",
        "print(accuracy_score(y_test, strings))\n",
        "\n",
        "import matplotlib.pyplot as plt\n",
        "import seaborn as sns\n",
        "sns.heatmap(cm, annot=True, fmt=\"d\")\n",
        "plt.show()"
      ],
      "execution_count": null,
      "outputs": [
        {
          "output_type": "stream",
          "name": "stdout",
          "text": [
            "Confusion Matrix:\n",
            "[[  1  88]\n",
            " [  1 156]]\n",
            "--------------------------------------------------\n",
            "--------------------------------------------------\n",
            "Performance Evaluation\n",
            "              precision    recall  f1-score   support\n",
            "\n",
            "           b       0.50      0.01      0.02        89\n",
            "           g       0.64      0.99      0.78       157\n",
            "\n",
            "    accuracy                           0.64       246\n",
            "   macro avg       0.57      0.50      0.40       246\n",
            "weighted avg       0.59      0.64      0.50       246\n",
            "\n",
            "--------------------------------------------------\n",
            "--------------------------------------------------\n",
            "Accuracy:\n",
            "0.6382113821138211\n"
          ]
        },
        {
          "output_type": "display_data",
          "data": {
            "image/png": "[encoded data removed]",
            "text/plain": [
              "<Figure size 432x288 with 2 Axes>"
            ]
          },
          "metadata": {
            "needs_background": "light"
          }
        }
      ]
    },
    {
      "cell_type": "markdown",
      "metadata": {
        "id": "MCDWj81p8Svs"
      },
      "source": [
        "## With Tuning"
      ]
    },
    {
      "cell_type": "markdown",
      "metadata": {
        "id": "1tCBX66q9bp3"
      },
      "source": [
        "### Train : Test = 70 : 30"
      ]
    },
    {
      "cell_type": "code",
      "metadata": {
        "colab": {
          "base_uri": "https://localhost:8080/",
          "height": 670
        },
        "id": "upd7V2nkRe09",
        "outputId": "d968b751-cb5a-46fe-f7b8-c96b0e589087"
      },
      "source": [
        "import pandas as pd\n",
        "import numpy as np\n",
        "\n",
        "# Dataset Preparation\n",
        "df = pd.read_csv(\"https://archive.ics.uci.edu/ml/machine-learning-databases/ionosphere/ionosphere.data\",header=None)\n",
        "\n",
        "\n",
        "df.columns = ['1','2','3','4','5','6','7','8','9','10','11','12','13','14','15','16','17','18','19'\n",
        "           ,'20','21','22','23','24','25','26','27','28','29','30','31','32','33','34','Class']\n",
        "\n",
        "\n",
        "X = df.drop(['Class'], axis=1)\n",
        "y = df['Class']\n",
        "\n",
        "from sklearn.model_selection import train_test_split\n",
        "\n",
        "X_train, X_test, y_train, y_test = train_test_split(X,y,test_size=0.3)\n",
        "\n",
        "\n",
        "# Feature Scaling \n",
        "from sklearn.preprocessing import StandardScaler\n",
        "\n",
        "sc = StandardScaler()\n",
        "X_train = sc.fit_transform(X_train)\n",
        "X_test = sc.transform(X_test)\n",
        "\n",
        "n_components = [int(x) for x in np.linspace(1,5, num = 5)]\n",
        "\n",
        "covariance_type = ['spherical', 'tied', 'full', 'diag']\n",
        "\n",
        "algorithm = ['viterbi', 'map']\n",
        "\n",
        "n_iter = [int(x) for x in np.linspace(10, 1000, num = 5)]\n",
        "\n",
        "# Create the random grid\n",
        "random_grid = {\n",
        "               'covariance_type': covariance_type,\n",
        "               'algorithm': algorithm,\n",
        "               'n_iter': n_iter}\n",
        "\n",
        "from pprint import pprint\n",
        "\n",
        "pprint(random_grid)\n",
        "print()\n",
        "\n",
        "# Classification\n",
        "from hmmlearn import hmm\n",
        "\n",
        "classifier = hmm.GaussianHMM(n_components=2)\n",
        "\n",
        "from sklearn.model_selection import GridSearchCV\n",
        "rf_random = GridSearchCV(classifier, random_grid, refit=True)\n",
        "\n",
        "rf_random.fit(X_train)\n",
        "\n",
        "y_pred = rf_random.predict(X_test)\n",
        "\n",
        "size = len(y_pred)\n",
        "strings = np.empty(size, np.unicode_)\n",
        "\n",
        "for i in range (size):\n",
        "    if y_pred[i] == 1:\n",
        "      strings[i] = (\"g\")\n",
        "    else:\n",
        "      strings[i] = (\"b\")\n",
        "\n",
        "from sklearn.metrics import classification_report, confusion_matrix, accuracy_score\n",
        "\n",
        "print(\"Confusion Matrix:\")\n",
        "cm = confusion_matrix(y_test, strings)\n",
        "print(cm)\n",
        "\n",
        "print(\"--------------------------------------------------\")\n",
        "print(\"--------------------------------------------------\")\n",
        "\n",
        "\n",
        "print(\"Performance Evaluation\")\n",
        "print(classification_report(y_test, strings))\n",
        "\n",
        "\n",
        "print(\"--------------------------------------------------\")\n",
        "print(\"--------------------------------------------------\")\n",
        "\n",
        "print(\"Accuracy:\")\n",
        "print(accuracy_score(y_test, strings))\n",
        "\n",
        "import matplotlib.pyplot as plt\n",
        "import seaborn as sns\n",
        "sns.heatmap(cm, annot=True, fmt=\"d\")\n",
        "plt.show()"
      ],
      "execution_count": null,
      "outputs": [
        {
          "output_type": "stream",
          "name": "stdout",
          "text": [
            "{'algorithm': ['viterbi', 'map'],\n",
            " 'covariance_type': ['spherical', 'tied', 'full', 'diag'],\n",
            " 'n_iter': [10, 257, 505, 752, 1000]}\n",
            "\n",
            "Confusion Matrix:\n",
            "[[37  5]\n",
            " [21 43]]\n",
            "--------------------------------------------------\n",
            "--------------------------------------------------\n",
            "Performance Evaluation\n",
            "              precision    recall  f1-score   support\n",
            "\n",
            "           b       0.64      0.88      0.74        42\n",
            "           g       0.90      0.67      0.77        64\n",
            "\n",
            "    accuracy                           0.75       106\n",
            "   macro avg       0.77      0.78      0.75       106\n",
            "weighted avg       0.79      0.75      0.76       106\n",
            "\n",
            "--------------------------------------------------\n",
            "--------------------------------------------------\n",
            "Accuracy:\n",
            "0.7547169811320755\n"
          ]
        },
        {
          "output_type": "display_data",
          "data": {
            "image/png": "[encoded data removed]",
            "text/plain": [
              "<Figure size 432x288 with 2 Axes>"
            ]
          },
          "metadata": {
            "needs_background": "light"
          }
        }
      ]
    },
    {
      "cell_type": "markdown",
      "metadata": {
        "id": "zH06QDRA-Ind"
      },
      "source": [
        "### Train : Test = 60 : 40"
      ]
    },
    {
      "cell_type": "code",
      "metadata": {
        "colab": {
          "base_uri": "https://localhost:8080/",
          "height": 670
        },
        "id": "VuqizMLp-Ine",
        "outputId": "28e6101a-f660-475f-90c6-d9bba874257f"
      },
      "source": [
        "import pandas as pd\n",
        "import numpy as np\n",
        "\n",
        "# Dataset Preparation\n",
        "df = pd.read_csv(\"https://archive.ics.uci.edu/ml/machine-learning-databases/ionosphere/ionosphere.data\",header=None)\n",
        "\n",
        "\n",
        "df.columns = ['1','2','3','4','5','6','7','8','9','10','11','12','13','14','15','16','17','18','19'\n",
        "           ,'20','21','22','23','24','25','26','27','28','29','30','31','32','33','34','Class']\n",
        "\n",
        "\n",
        "X = df.drop(['Class'], axis=1)\n",
        "y = df['Class']\n",
        "\n",
        "from sklearn.model_selection import train_test_split\n",
        "\n",
        "X_train, X_test, y_train, y_test = train_test_split(X,y,test_size=0.4)\n",
        "\n",
        "\n",
        "# Feature Scaling \n",
        "from sklearn.preprocessing import StandardScaler\n",
        "\n",
        "sc = StandardScaler()\n",
        "X_train = sc.fit_transform(X_train)\n",
        "X_test = sc.transform(X_test)\n",
        "\n",
        "n_components = [int(x) for x in np.linspace(1,5, num = 5)]\n",
        "\n",
        "covariance_type = ['spherical', 'tied', 'full', 'diag']\n",
        "\n",
        "algorithm = ['viterbi', 'map']\n",
        "\n",
        "n_iter = [int(x) for x in np.linspace(10, 1000, num = 5)]\n",
        "\n",
        "# Create the random grid\n",
        "random_grid = {\n",
        "               'covariance_type': covariance_type,\n",
        "               'algorithm': algorithm,\n",
        "               'n_iter': n_iter}\n",
        "\n",
        "from pprint import pprint\n",
        "\n",
        "pprint(random_grid)\n",
        "print()\n",
        "\n",
        "# Classification\n",
        "from hmmlearn import hmm\n",
        "\n",
        "classifier = hmm.GaussianHMM(n_components=2)\n",
        "\n",
        "from sklearn.model_selection import GridSearchCV\n",
        "rf_random = GridSearchCV(classifier, random_grid, refit=True)\n",
        "\n",
        "rf_random.fit(X_train)\n",
        "\n",
        "y_pred = rf_random.predict(X_test)\n",
        "\n",
        "size = len(y_pred)\n",
        "strings = np.empty(size, np.unicode_)\n",
        "\n",
        "for i in range (size):\n",
        "    if y_pred[i] == 1:\n",
        "      strings[i] = (\"g\")\n",
        "    else:\n",
        "      strings[i] = (\"b\")\n",
        "\n",
        "from sklearn.metrics import classification_report, confusion_matrix, accuracy_score\n",
        "\n",
        "print(\"Confusion Matrix:\")\n",
        "cm = confusion_matrix(y_test, strings)\n",
        "print(cm)\n",
        "\n",
        "print(\"--------------------------------------------------\")\n",
        "print(\"--------------------------------------------------\")\n",
        "\n",
        "\n",
        "print(\"Performance Evaluation\")\n",
        "print(classification_report(y_test, strings))\n",
        "\n",
        "\n",
        "print(\"--------------------------------------------------\")\n",
        "print(\"--------------------------------------------------\")\n",
        "\n",
        "print(\"Accuracy:\")\n",
        "print(accuracy_score(y_test, strings))\n",
        "\n",
        "import matplotlib.pyplot as plt\n",
        "import seaborn as sns\n",
        "sns.heatmap(cm, annot=True, fmt=\"d\")\n",
        "plt.show()"
      ],
      "execution_count": null,
      "outputs": [
        {
          "output_type": "stream",
          "name": "stdout",
          "text": [
            "{'algorithm': ['viterbi', 'map'],\n",
            " 'covariance_type': ['spherical', 'tied', 'full', 'diag'],\n",
            " 'n_iter': [10, 257, 505, 752, 1000]}\n",
            "\n",
            "Confusion Matrix:\n",
            "[[39  4]\n",
            " [41 57]]\n",
            "--------------------------------------------------\n",
            "--------------------------------------------------\n",
            "Performance Evaluation\n",
            "              precision    recall  f1-score   support\n",
            "\n",
            "           b       0.49      0.91      0.63        43\n",
            "           g       0.93      0.58      0.72        98\n",
            "\n",
            "    accuracy                           0.68       141\n",
            "   macro avg       0.71      0.74      0.68       141\n",
            "weighted avg       0.80      0.68      0.69       141\n",
            "\n",
            "--------------------------------------------------\n",
            "--------------------------------------------------\n",
            "Accuracy:\n",
            "0.6808510638297872\n"
          ]
        },
        {
          "output_type": "display_data",
          "data": {
            "image/png": "[encoded data removed]",
            "text/plain": [
              "<Figure size 432x288 with 2 Axes>"
            ]
          },
          "metadata": {
            "needs_background": "light"
          }
        }
      ]
    },
    {
      "cell_type": "markdown",
      "metadata": {
        "id": "gt-DkXb1-ZmU"
      },
      "source": [
        "### Train : Test = 50 : 50"
      ]
    },
    {
      "cell_type": "code",
      "metadata": {
        "colab": {
          "base_uri": "https://localhost:8080/",
          "height": 670
        },
        "id": "YZq0ay-6-ZmV",
        "outputId": "0aa75457-47b6-4d21-a3d5-8c9dadafd094"
      },
      "source": [
        "import pandas as pd\n",
        "import numpy as np\n",
        "\n",
        "# Dataset Preparation\n",
        "df = pd.read_csv(\"https://archive.ics.uci.edu/ml/machine-learning-databases/ionosphere/ionosphere.data\",header=None)\n",
        "\n",
        "\n",
        "df.columns = ['1','2','3','4','5','6','7','8','9','10','11','12','13','14','15','16','17','18','19'\n",
        "           ,'20','21','22','23','24','25','26','27','28','29','30','31','32','33','34','Class']\n",
        "\n",
        "\n",
        "X = df.drop(['Class'], axis=1)\n",
        "y = df['Class']\n",
        "\n",
        "from sklearn.model_selection import train_test_split\n",
        "\n",
        "X_train, X_test, y_train, y_test = train_test_split(X,y,test_size=0.5)\n",
        "\n",
        "\n",
        "# Feature Scaling \n",
        "from sklearn.preprocessing import StandardScaler\n",
        "\n",
        "sc = StandardScaler()\n",
        "X_train = sc.fit_transform(X_train)\n",
        "X_test = sc.transform(X_test)\n",
        "\n",
        "n_components = [int(x) for x in np.linspace(1,5, num = 5)]\n",
        "\n",
        "covariance_type = ['spherical', 'tied', 'full', 'diag']\n",
        "\n",
        "algorithm = ['viterbi', 'map']\n",
        "\n",
        "n_iter = [int(x) for x in np.linspace(10, 1000, num = 5)]\n",
        "\n",
        "# Create the random grid\n",
        "random_grid = {\n",
        "               'covariance_type': covariance_type,\n",
        "               'algorithm': algorithm,\n",
        "               'n_iter': n_iter}\n",
        "\n",
        "from pprint import pprint\n",
        "\n",
        "pprint(random_grid)\n",
        "print()\n",
        "\n",
        "# Classification\n",
        "from hmmlearn import hmm\n",
        "\n",
        "classifier = hmm.GaussianHMM(n_components=2)\n",
        "\n",
        "from sklearn.model_selection import GridSearchCV\n",
        "rf_random = GridSearchCV(classifier, random_grid, refit=True)\n",
        "\n",
        "rf_random.fit(X_train)\n",
        "\n",
        "y_pred = rf_random.predict(X_test)\n",
        "\n",
        "size = len(y_pred)\n",
        "strings = np.empty(size, np.unicode_)\n",
        "\n",
        "for i in range (size):\n",
        "    if y_pred[i] == 1:\n",
        "      strings[i] = (\"g\")\n",
        "    else:\n",
        "      strings[i] = (\"b\")\n",
        "\n",
        "from sklearn.metrics import classification_report, confusion_matrix, accuracy_score\n",
        "\n",
        "print(\"Confusion Matrix:\")\n",
        "cm = confusion_matrix(y_test, strings)\n",
        "print(cm)\n",
        "\n",
        "print(\"--------------------------------------------------\")\n",
        "print(\"--------------------------------------------------\")\n",
        "\n",
        "\n",
        "print(\"Performance Evaluation\")\n",
        "print(classification_report(y_test, strings))\n",
        "\n",
        "\n",
        "print(\"--------------------------------------------------\")\n",
        "print(\"--------------------------------------------------\")\n",
        "\n",
        "print(\"Accuracy:\")\n",
        "print(accuracy_score(y_test, strings))\n",
        "\n",
        "import matplotlib.pyplot as plt\n",
        "import seaborn as sns\n",
        "sns.heatmap(cm, annot=True, fmt=\"d\")\n",
        "plt.show()"
      ],
      "execution_count": null,
      "outputs": [
        {
          "output_type": "stream",
          "name": "stdout",
          "text": [
            "{'algorithm': ['viterbi', 'map'],\n",
            " 'covariance_type': ['spherical', 'tied', 'full', 'diag'],\n",
            " 'n_iter': [10, 257, 505, 752, 1000]}\n",
            "\n",
            "Confusion Matrix:\n",
            "[[60  4]\n",
            " [43 69]]\n",
            "--------------------------------------------------\n",
            "--------------------------------------------------\n",
            "Performance Evaluation\n",
            "              precision    recall  f1-score   support\n",
            "\n",
            "           b       0.58      0.94      0.72        64\n",
            "           g       0.95      0.62      0.75       112\n",
            "\n",
            "    accuracy                           0.73       176\n",
            "   macro avg       0.76      0.78      0.73       176\n",
            "weighted avg       0.81      0.73      0.74       176\n",
            "\n",
            "--------------------------------------------------\n",
            "--------------------------------------------------\n",
            "Accuracy:\n",
            "0.7329545454545454\n"
          ]
        },
        {
          "output_type": "display_data",
          "data": {
            "image/png": "[encoded data removed]",
            "text/plain": [
              "<Figure size 432x288 with 2 Axes>"
            ]
          },
          "metadata": {
            "needs_background": "light"
          }
        }
      ]
    },
    {
      "cell_type": "markdown",
      "metadata": {
        "id": "njWcJ-d3-sss"
      },
      "source": [
        "### Train : Test = 40 : 60"
      ]
    },
    {
      "cell_type": "code",
      "metadata": {
        "colab": {
          "base_uri": "https://localhost:8080/",
          "height": 670
        },
        "id": "xoy6Sc3x-ss0",
        "outputId": "84d65cbd-5238-4830-8fcf-a0a843357a63"
      },
      "source": [
        "import pandas as pd\n",
        "import numpy as np\n",
        "\n",
        "# Dataset Preparation\n",
        "df = pd.read_csv(\"https://archive.ics.uci.edu/ml/machine-learning-databases/ionosphere/ionosphere.data\",header=None)\n",
        "\n",
        "\n",
        "df.columns = ['1','2','3','4','5','6','7','8','9','10','11','12','13','14','15','16','17','18','19'\n",
        "           ,'20','21','22','23','24','25','26','27','28','29','30','31','32','33','34','Class']\n",
        "\n",
        "\n",
        "X = df.drop(['Class'], axis=1)\n",
        "y = df['Class']\n",
        "\n",
        "from sklearn.model_selection import train_test_split\n",
        "\n",
        "X_train, X_test, y_train, y_test = train_test_split(X,y,test_size=0.6)\n",
        "\n",
        "\n",
        "# Feature Scaling \n",
        "from sklearn.preprocessing import StandardScaler\n",
        "\n",
        "sc = StandardScaler()\n",
        "X_train = sc.fit_transform(X_train)\n",
        "X_test = sc.transform(X_test)\n",
        "\n",
        "n_components = [int(x) for x in np.linspace(1,5, num = 5)]\n",
        "\n",
        "covariance_type = ['spherical', 'tied', 'full', 'diag']\n",
        "\n",
        "algorithm = ['viterbi', 'map']\n",
        "\n",
        "n_iter = [int(x) for x in np.linspace(10, 1000, num = 5)]\n",
        "\n",
        "# Create the random grid\n",
        "random_grid = {\n",
        "               'covariance_type': covariance_type,\n",
        "               'algorithm': algorithm,\n",
        "               'n_iter': n_iter}\n",
        "\n",
        "from pprint import pprint\n",
        "\n",
        "pprint(random_grid)\n",
        "print()\n",
        "\n",
        "# Classification\n",
        "from hmmlearn import hmm\n",
        "\n",
        "classifier = hmm.GaussianHMM(n_components=2)\n",
        "\n",
        "from sklearn.model_selection import GridSearchCV\n",
        "rf_random = GridSearchCV(classifier, random_grid, refit=True)\n",
        "\n",
        "rf_random.fit(X_train)\n",
        "\n",
        "y_pred = rf_random.predict(X_test)\n",
        "\n",
        "size = len(y_pred)\n",
        "strings = np.empty(size, np.unicode_)\n",
        "\n",
        "for i in range (size):\n",
        "    if y_pred[i] == 1:\n",
        "      strings[i] = (\"g\")\n",
        "    else:\n",
        "      strings[i] = (\"b\")\n",
        "\n",
        "from sklearn.metrics import classification_report, confusion_matrix, accuracy_score\n",
        "\n",
        "print(\"Confusion Matrix:\")\n",
        "cm = confusion_matrix(y_test, strings)\n",
        "print(cm)\n",
        "\n",
        "print(\"--------------------------------------------------\")\n",
        "print(\"--------------------------------------------------\")\n",
        "\n",
        "\n",
        "print(\"Performance Evaluation\")\n",
        "print(classification_report(y_test, strings))\n",
        "\n",
        "\n",
        "print(\"--------------------------------------------------\")\n",
        "print(\"--------------------------------------------------\")\n",
        "\n",
        "print(\"Accuracy:\")\n",
        "print(accuracy_score(y_test, strings))\n",
        "\n",
        "import matplotlib.pyplot as plt\n",
        "import seaborn as sns\n",
        "sns.heatmap(cm, annot=True, fmt=\"d\")\n",
        "plt.show()"
      ],
      "execution_count": null,
      "outputs": [
        {
          "output_type": "stream",
          "name": "stdout",
          "text": [
            "{'algorithm': ['viterbi', 'map'],\n",
            " 'covariance_type': ['spherical', 'tied', 'full', 'diag'],\n",
            " 'n_iter': [10, 257, 505, 752, 1000]}\n",
            "\n",
            "Confusion Matrix:\n",
            "[[66  6]\n",
            " [55 84]]\n",
            "--------------------------------------------------\n",
            "--------------------------------------------------\n",
            "Performance Evaluation\n",
            "              precision    recall  f1-score   support\n",
            "\n",
            "           b       0.55      0.92      0.68        72\n",
            "           g       0.93      0.60      0.73       139\n",
            "\n",
            "    accuracy                           0.71       211\n",
            "   macro avg       0.74      0.76      0.71       211\n",
            "weighted avg       0.80      0.71      0.72       211\n",
            "\n",
            "--------------------------------------------------\n",
            "--------------------------------------------------\n",
            "Accuracy:\n",
            "0.7109004739336493\n"
          ]
        },
        {
          "output_type": "display_data",
          "data": {
            "image/png": "[encoded data removed]",
            "text/plain": [
              "<Figure size 432x288 with 2 Axes>"
            ]
          },
          "metadata": {
            "needs_background": "light"
          }
        }
      ]
    },
    {
      "cell_type": "markdown",
      "metadata": {
        "id": "mI8zL-ay-4XL"
      },
      "source": [
        "### Train : Test = 30 : 70"
      ]
    },
    {
      "cell_type": "code",
      "metadata": {
        "colab": {
          "base_uri": "https://localhost:8080/",
          "height": 670
        },
        "id": "0EHendhi-4XM",
        "outputId": "962ec347-7271-410c-f39d-084f45c5543f"
      },
      "source": [
        "import pandas as pd\n",
        "import numpy as np\n",
        "\n",
        "# Dataset Preparation\n",
        "df = pd.read_csv(\"https://archive.ics.uci.edu/ml/machine-learning-databases/ionosphere/ionosphere.data\",header=None)\n",
        "\n",
        "\n",
        "df.columns = ['1','2','3','4','5','6','7','8','9','10','11','12','13','14','15','16','17','18','19'\n",
        "           ,'20','21','22','23','24','25','26','27','28','29','30','31','32','33','34','Class']\n",
        "\n",
        "\n",
        "X = df.drop(['Class'], axis=1)\n",
        "y = df['Class']\n",
        "\n",
        "from sklearn.model_selection import train_test_split\n",
        "\n",
        "X_train, X_test, y_train, y_test = train_test_split(X,y,test_size=0.7)\n",
        "\n",
        "\n",
        "# Feature Scaling \n",
        "from sklearn.preprocessing import StandardScaler\n",
        "\n",
        "sc = StandardScaler()\n",
        "X_train = sc.fit_transform(X_train)\n",
        "X_test = sc.transform(X_test)\n",
        "\n",
        "n_components = [int(x) for x in np.linspace(1,5, num = 5)]\n",
        "\n",
        "covariance_type = ['spherical', 'tied', 'full', 'diag']\n",
        "\n",
        "algorithm = ['viterbi', 'map']\n",
        "\n",
        "n_iter = [int(x) for x in np.linspace(10, 1000, num = 5)]\n",
        "\n",
        "# Create the random grid\n",
        "random_grid = {\n",
        "               'covariance_type': covariance_type,\n",
        "               'algorithm': algorithm,\n",
        "               'n_iter': n_iter}\n",
        "\n",
        "from pprint import pprint\n",
        "\n",
        "pprint(random_grid)\n",
        "print()\n",
        "\n",
        "# Classification\n",
        "from hmmlearn import hmm\n",
        "\n",
        "classifier = hmm.GaussianHMM(n_components=2)\n",
        "\n",
        "from sklearn.model_selection import GridSearchCV\n",
        "rf_random = GridSearchCV(classifier, random_grid, refit=True)\n",
        "\n",
        "rf_random.fit(X_train)\n",
        "\n",
        "y_pred = rf_random.predict(X_test)\n",
        "\n",
        "size = len(y_pred)\n",
        "strings = np.empty(size, np.unicode_)\n",
        "\n",
        "for i in range (size):\n",
        "    if y_pred[i] == 1:\n",
        "      strings[i] = (\"g\")\n",
        "    else:\n",
        "      strings[i] = (\"b\")\n",
        "\n",
        "from sklearn.metrics import classification_report, confusion_matrix, accuracy_score\n",
        "\n",
        "print(\"Confusion Matrix:\")\n",
        "cm = confusion_matrix(y_test, strings)\n",
        "print(cm)\n",
        "\n",
        "print(\"--------------------------------------------------\")\n",
        "print(\"--------------------------------------------------\")\n",
        "\n",
        "\n",
        "print(\"Performance Evaluation\")\n",
        "print(classification_report(y_test, strings))\n",
        "\n",
        "\n",
        "print(\"--------------------------------------------------\")\n",
        "print(\"--------------------------------------------------\")\n",
        "\n",
        "print(\"Accuracy:\")\n",
        "print(accuracy_score(y_test, strings))\n",
        "\n",
        "import matplotlib.pyplot as plt\n",
        "import seaborn as sns\n",
        "sns.heatmap(cm, annot=True, fmt=\"d\")\n",
        "plt.show()"
      ],
      "execution_count": null,
      "outputs": [
        {
          "output_type": "stream",
          "name": "stdout",
          "text": [
            "{'algorithm': ['viterbi', 'map'],\n",
            " 'covariance_type': ['spherical', 'tied', 'full', 'diag'],\n",
            " 'n_iter': [10, 257, 505, 752, 1000]}\n",
            "\n",
            "Confusion Matrix:\n",
            "[[85  2]\n",
            " [87 72]]\n",
            "--------------------------------------------------\n",
            "--------------------------------------------------\n",
            "Performance Evaluation\n",
            "              precision    recall  f1-score   support\n",
            "\n",
            "           b       0.49      0.98      0.66        87\n",
            "           g       0.97      0.45      0.62       159\n",
            "\n",
            "    accuracy                           0.64       246\n",
            "   macro avg       0.73      0.71      0.64       246\n",
            "weighted avg       0.80      0.64      0.63       246\n",
            "\n",
            "--------------------------------------------------\n",
            "--------------------------------------------------\n",
            "Accuracy:\n",
            "0.6382113821138211\n"
          ]
        },
        {
          "output_type": "display_data",
          "data": {
            "image/png": "[encoded data removed]",
            "text/plain": [
              "<Figure size 432x288 with 2 Axes>"
            ]
          },
          "metadata": {
            "needs_background": "light"
          }
        }
      ]
    },
    {
      "cell_type": "markdown",
      "metadata": {
        "id": "o3wudpXINCDW"
      },
      "source": [
        "# GMMHMM classifier"
      ]
    },
    {
      "cell_type": "markdown",
      "metadata": {
        "id": "0jsxCpKlNCDn"
      },
      "source": [
        "## Without Tuning"
      ]
    },
    {
      "cell_type": "markdown",
      "metadata": {
        "id": "3El7ECQgNCDn"
      },
      "source": [
        "### Train : Test = 70 : 30"
      ]
    },
    {
      "cell_type": "code",
      "metadata": {
        "colab": {
          "base_uri": "https://localhost:8080/",
          "height": 617
        },
        "id": "tvhbAhCUNCDn",
        "outputId": "6b9ce97a-4ab7-41ef-f2a2-637755a3a2d6"
      },
      "source": [
        "import pandas as pd\n",
        "import numpy as np\n",
        "\n",
        "# Dataset Preparation\n",
        "df = pd.read_csv(\"https://archive.ics.uci.edu/ml/machine-learning-databases/ionosphere/ionosphere.data\",header=None)\n",
        "\n",
        "\n",
        "df.columns = ['1','2','3','4','5','6','7','8','9','10','11','12','13','14','15','16','17','18','19'\n",
        "           ,'20','21','22','23','24','25','26','27','28','29','30','31','32','33','34','Class']\n",
        "\n",
        "\n",
        "X = df.drop(['Class'], axis=1)\n",
        "y = df['Class']\n",
        "\n",
        "from sklearn.model_selection import train_test_split\n",
        "\n",
        "X_train, X_test, y_train, y_test = train_test_split(X,y, test_size=0.3)\n",
        "\n",
        "\n",
        "# Feature Scaling \n",
        "from sklearn.preprocessing import StandardScaler\n",
        "\n",
        "sc = StandardScaler()\n",
        "X_train = sc.fit_transform(X_train)\n",
        "X_test = sc.transform(X_test)\n",
        "\n",
        "# Classification\n",
        "from hmmlearn import hmm\n",
        "\n",
        "classifier = hmm.GMMHMM(n_components=3)\n",
        "classifier.fit(X_train)\n",
        "\n",
        "y_pred = classifier.predict(X_test)\n",
        "\n",
        "size = len(y_pred)\n",
        "strings = np.empty(size, np.unicode_)\n",
        "\n",
        "for i in range (size):\n",
        "    if y_pred[i] == 1:\n",
        "      strings[i] = (\"g\")\n",
        "    else:\n",
        "      strings[i] = (\"b\")\n",
        "\n",
        "from sklearn.metrics import classification_report, confusion_matrix, accuracy_score\n",
        "\n",
        "print(\"Confusion Matrix:\")\n",
        "cm = confusion_matrix(y_test, strings)\n",
        "print(cm)\n",
        "\n",
        "print(\"--------------------------------------------------\")\n",
        "print(\"--------------------------------------------------\")\n",
        "\n",
        "\n",
        "print(\"Performance Evaluation\")\n",
        "print(classification_report(y_test, strings))\n",
        "\n",
        "\n",
        "print(\"--------------------------------------------------\")\n",
        "print(\"--------------------------------------------------\")\n",
        "\n",
        "print(\"Accuracy:\")\n",
        "print(accuracy_score(y_test, strings))\n",
        "\n",
        "import matplotlib.pyplot as plt\n",
        "import seaborn as sns\n",
        "sns.heatmap(cm, annot=True, fmt=\"d\")\n",
        "plt.show()"
      ],
      "execution_count": null,
      "outputs": [
        {
          "output_type": "stream",
          "name": "stderr",
          "text": [
            "Degenerate mixture covariance\n"
          ]
        },
        {
          "output_type": "stream",
          "name": "stdout",
          "text": [
            "Confusion Matrix:\n",
            "[[13 23]\n",
            " [52 18]]\n",
            "--------------------------------------------------\n",
            "--------------------------------------------------\n",
            "Performance Evaluation\n",
            "              precision    recall  f1-score   support\n",
            "\n",
            "           b       0.20      0.36      0.26        36\n",
            "           g       0.44      0.26      0.32        70\n",
            "\n",
            "    accuracy                           0.29       106\n",
            "   macro avg       0.32      0.31      0.29       106\n",
            "weighted avg       0.36      0.29      0.30       106\n",
            "\n",
            "--------------------------------------------------\n",
            "--------------------------------------------------\n",
            "Accuracy:\n",
            "0.29245283018867924\n"
          ]
        },
        {
          "output_type": "display_data",
          "data": {
            "image/png": "[encoded data removed]",
            "text/plain": [
              "<Figure size 432x288 with 2 Axes>"
            ]
          },
          "metadata": {
            "needs_background": "light"
          }
        }
      ]
    },
    {
      "cell_type": "markdown",
      "metadata": {
        "id": "s--WYInvNCDo"
      },
      "source": [
        "### Train : Test = 60 : 40"
      ]
    },
    {
      "cell_type": "code",
      "metadata": {
        "colab": {
          "base_uri": "https://localhost:8080/",
          "height": 617
        },
        "id": "1vG5z4c8NCDo",
        "outputId": "7eeafe5a-06ec-4213-e93a-7be907d131c6"
      },
      "source": [
        "import pandas as pd\n",
        "import numpy as np\n",
        "\n",
        "# Dataset Preparation\n",
        "df = pd.read_csv(\"https://archive.ics.uci.edu/ml/machine-learning-databases/ionosphere/ionosphere.data\",header=None)\n",
        "\n",
        "\n",
        "df.columns = ['1','2','3','4','5','6','7','8','9','10','11','12','13','14','15','16','17','18','19'\n",
        "           ,'20','21','22','23','24','25','26','27','28','29','30','31','32','33','34','Class']\n",
        "\n",
        "\n",
        "X = df.drop(['Class'], axis=1)\n",
        "y = df['Class']\n",
        "\n",
        "from sklearn.model_selection import train_test_split\n",
        "\n",
        "X_train, X_test, y_train, y_test = train_test_split(X,y, test_size=0.4)\n",
        "\n",
        "\n",
        "# Feature Scaling \n",
        "from sklearn.preprocessing import StandardScaler\n",
        "\n",
        "sc = StandardScaler()\n",
        "X_train = sc.fit_transform(X_train)\n",
        "X_test = sc.transform(X_test)\n",
        "\n",
        "# Classification\n",
        "from hmmlearn import hmm\n",
        "\n",
        "classifier = hmm.GMMHMM(n_components=3)\n",
        "classifier.fit(X_train)\n",
        "\n",
        "y_pred = classifier.predict(X_test)\n",
        "\n",
        "size = len(y_pred)\n",
        "strings = np.empty(size, np.unicode_)\n",
        "\n",
        "for i in range (size):\n",
        "    if y_pred[i] == 1:\n",
        "      strings[i] = (\"g\")\n",
        "    else:\n",
        "      strings[i] = (\"b\")\n",
        "\n",
        "from sklearn.metrics import classification_report, confusion_matrix, accuracy_score\n",
        "\n",
        "print(\"Confusion Matrix:\")\n",
        "cm = confusion_matrix(y_test, strings)\n",
        "print(cm)\n",
        "\n",
        "print(\"--------------------------------------------------\")\n",
        "print(\"--------------------------------------------------\")\n",
        "\n",
        "\n",
        "print(\"Performance Evaluation\")\n",
        "print(classification_report(y_test, strings))\n",
        "\n",
        "\n",
        "print(\"--------------------------------------------------\")\n",
        "print(\"--------------------------------------------------\")\n",
        "\n",
        "print(\"Accuracy:\")\n",
        "print(accuracy_score(y_test, strings))\n",
        "\n",
        "import matplotlib.pyplot as plt\n",
        "import seaborn as sns\n",
        "sns.heatmap(cm, annot=True, fmt=\"d\")\n",
        "plt.show()"
      ],
      "execution_count": null,
      "outputs": [
        {
          "output_type": "stream",
          "name": "stderr",
          "text": [
            "Degenerate mixture covariance\n"
          ]
        },
        {
          "output_type": "stream",
          "name": "stdout",
          "text": [
            "Confusion Matrix:\n",
            "[[31 16]\n",
            " [94  0]]\n",
            "--------------------------------------------------\n",
            "--------------------------------------------------\n",
            "Performance Evaluation\n",
            "              precision    recall  f1-score   support\n",
            "\n",
            "           b       0.25      0.66      0.36        47\n",
            "           g       0.00      0.00      0.00        94\n",
            "\n",
            "    accuracy                           0.22       141\n",
            "   macro avg       0.12      0.33      0.18       141\n",
            "weighted avg       0.08      0.22      0.12       141\n",
            "\n",
            "--------------------------------------------------\n",
            "--------------------------------------------------\n",
            "Accuracy:\n",
            "0.2198581560283688\n"
          ]
        },
        {
          "output_type": "display_data",
          "data": {
            "image/png": "[encoded data removed]",
            "text/plain": [
              "<Figure size 432x288 with 2 Axes>"
            ]
          },
          "metadata": {
            "needs_background": "light"
          }
        }
      ]
    },
    {
      "cell_type": "markdown",
      "metadata": {
        "id": "RNpvhFKcNCDp"
      },
      "source": [
        "### Train : Test = 50 : 50"
      ]
    },
    {
      "cell_type": "code",
      "metadata": {
        "colab": {
          "base_uri": "https://localhost:8080/",
          "height": 617
        },
        "id": "UFZcFvY8NCDp",
        "outputId": "3740a480-0eb7-487f-c645-620d077bc4ec"
      },
      "source": [
        "import pandas as pd\n",
        "import numpy as np\n",
        "\n",
        "# Dataset Preparation\n",
        "df = pd.read_csv(\"https://archive.ics.uci.edu/ml/machine-learning-databases/ionosphere/ionosphere.data\",header=None)\n",
        "\n",
        "\n",
        "df.columns = ['1','2','3','4','5','6','7','8','9','10','11','12','13','14','15','16','17','18','19'\n",
        "           ,'20','21','22','23','24','25','26','27','28','29','30','31','32','33','34','Class']\n",
        "\n",
        "\n",
        "X = df.drop(['Class'], axis=1)\n",
        "y = df['Class']\n",
        "\n",
        "from sklearn.model_selection import train_test_split\n",
        "\n",
        "X_train, X_test, y_train, y_test = train_test_split(X,y, test_size=0.5)\n",
        "\n",
        "\n",
        "# Feature Scaling \n",
        "from sklearn.preprocessing import StandardScaler\n",
        "\n",
        "sc = StandardScaler()\n",
        "X_train = sc.fit_transform(X_train)\n",
        "X_test = sc.transform(X_test)\n",
        "\n",
        "# Classification\n",
        "from hmmlearn import hmm\n",
        "\n",
        "classifier = hmm.GMMHMM(n_components=3)\n",
        "classifier.fit(X_train)\n",
        "\n",
        "y_pred = classifier.predict(X_test)\n",
        "\n",
        "size = len(y_pred)\n",
        "strings = np.empty(size, np.unicode_)\n",
        "\n",
        "for i in range (size):\n",
        "    if y_pred[i] == 1:\n",
        "      strings[i] = (\"g\")\n",
        "    else:\n",
        "      strings[i] = (\"b\")\n",
        "\n",
        "from sklearn.metrics import classification_report, confusion_matrix, accuracy_score\n",
        "\n",
        "print(\"Confusion Matrix:\")\n",
        "cm = confusion_matrix(y_test, strings)\n",
        "print(cm)\n",
        "\n",
        "print(\"--------------------------------------------------\")\n",
        "print(\"--------------------------------------------------\")\n",
        "\n",
        "\n",
        "print(\"Performance Evaluation\")\n",
        "print(classification_report(y_test, strings))\n",
        "\n",
        "\n",
        "print(\"--------------------------------------------------\")\n",
        "print(\"--------------------------------------------------\")\n",
        "\n",
        "print(\"Accuracy:\")\n",
        "print(accuracy_score(y_test, strings))\n",
        "\n",
        "import matplotlib.pyplot as plt\n",
        "import seaborn as sns\n",
        "sns.heatmap(cm, annot=True, fmt=\"d\")\n",
        "plt.show()"
      ],
      "execution_count": null,
      "outputs": [
        {
          "output_type": "stream",
          "name": "stderr",
          "text": [
            "Degenerate mixture covariance\n"
          ]
        },
        {
          "output_type": "stream",
          "name": "stdout",
          "text": [
            "Confusion Matrix:\n",
            "[[25 43]\n",
            " [72 36]]\n",
            "--------------------------------------------------\n",
            "--------------------------------------------------\n",
            "Performance Evaluation\n",
            "              precision    recall  f1-score   support\n",
            "\n",
            "           b       0.26      0.37      0.30        68\n",
            "           g       0.46      0.33      0.39       108\n",
            "\n",
            "    accuracy                           0.35       176\n",
            "   macro avg       0.36      0.35      0.34       176\n",
            "weighted avg       0.38      0.35      0.35       176\n",
            "\n",
            "--------------------------------------------------\n",
            "--------------------------------------------------\n",
            "Accuracy:\n",
            "0.3465909090909091\n"
          ]
        },
        {
          "output_type": "display_data",
          "data": {
            "image/png": "[encoded data removed]",
            "text/plain": [
              "<Figure size 432x288 with 2 Axes>"
            ]
          },
          "metadata": {
            "needs_background": "light"
          }
        }
      ]
    },
    {
      "cell_type": "markdown",
      "metadata": {
        "id": "AMZTT5BaNCDp"
      },
      "source": [
        "### Train : Test = 40 : 60"
      ]
    },
    {
      "cell_type": "code",
      "metadata": {
        "colab": {
          "base_uri": "https://localhost:8080/",
          "height": 617
        },
        "id": "jKtlxWeTNCDp",
        "outputId": "6cc4a425-1a51-46fc-d81f-b3bc7cbd352c"
      },
      "source": [
        "import pandas as pd\n",
        "import numpy as np\n",
        "\n",
        "# Dataset Preparation\n",
        "df = pd.read_csv(\"https://archive.ics.uci.edu/ml/machine-learning-databases/ionosphere/ionosphere.data\",header=None)\n",
        "\n",
        "\n",
        "df.columns = ['1','2','3','4','5','6','7','8','9','10','11','12','13','14','15','16','17','18','19'\n",
        "           ,'20','21','22','23','24','25','26','27','28','29','30','31','32','33','34','Class']\n",
        "\n",
        "\n",
        "X = df.drop(['Class'], axis=1)\n",
        "y = df['Class']\n",
        "\n",
        "from sklearn.model_selection import train_test_split\n",
        "\n",
        "X_train, X_test, y_train, y_test = train_test_split(X,y, test_size=0.6)\n",
        "\n",
        "\n",
        "# Feature Scaling \n",
        "from sklearn.preprocessing import StandardScaler\n",
        "\n",
        "sc = StandardScaler()\n",
        "X_train = sc.fit_transform(X_train)\n",
        "X_test = sc.transform(X_test)\n",
        "\n",
        "# Classification\n",
        "from hmmlearn import hmm\n",
        "\n",
        "classifier = hmm.GMMHMM(n_components=3)\n",
        "classifier.fit(X_train)\n",
        "\n",
        "y_pred = classifier.predict(X_test)\n",
        "\n",
        "size = len(y_pred)\n",
        "strings = np.empty(size, np.unicode_)\n",
        "\n",
        "for i in range (size):\n",
        "    if y_pred[i] == 1:\n",
        "      strings[i] = (\"g\")\n",
        "    else:\n",
        "      strings[i] = (\"b\")\n",
        "\n",
        "from sklearn.metrics import classification_report, confusion_matrix, accuracy_score\n",
        "\n",
        "print(\"Confusion Matrix:\")\n",
        "cm = confusion_matrix(y_test, strings)\n",
        "print(cm)\n",
        "\n",
        "print(\"--------------------------------------------------\")\n",
        "print(\"--------------------------------------------------\")\n",
        "\n",
        "\n",
        "print(\"Performance Evaluation\")\n",
        "print(classification_report(y_test, strings))\n",
        "\n",
        "\n",
        "print(\"--------------------------------------------------\")\n",
        "print(\"--------------------------------------------------\")\n",
        "\n",
        "print(\"Accuracy:\")\n",
        "print(accuracy_score(y_test, strings))\n",
        "\n",
        "import matplotlib.pyplot as plt\n",
        "import seaborn as sns\n",
        "sns.heatmap(cm, annot=True, fmt=\"d\")\n",
        "plt.show()"
      ],
      "execution_count": null,
      "outputs": [
        {
          "output_type": "stream",
          "name": "stderr",
          "text": [
            "Degenerate mixture covariance\n"
          ]
        },
        {
          "output_type": "stream",
          "name": "stdout",
          "text": [
            "Confusion Matrix:\n",
            "[[59 15]\n",
            " [43 94]]\n",
            "--------------------------------------------------\n",
            "--------------------------------------------------\n",
            "Performance Evaluation\n",
            "              precision    recall  f1-score   support\n",
            "\n",
            "           b       0.58      0.80      0.67        74\n",
            "           g       0.86      0.69      0.76       137\n",
            "\n",
            "    accuracy                           0.73       211\n",
            "   macro avg       0.72      0.74      0.72       211\n",
            "weighted avg       0.76      0.73      0.73       211\n",
            "\n",
            "--------------------------------------------------\n",
            "--------------------------------------------------\n",
            "Accuracy:\n",
            "0.7251184834123223\n"
          ]
        },
        {
          "output_type": "display_data",
          "data": {
            "image/png": "[encoded data removed]",
            "text/plain": [
              "<Figure size 432x288 with 2 Axes>"
            ]
          },
          "metadata": {
            "needs_background": "light"
          }
        }
      ]
    },
    {
      "cell_type": "markdown",
      "metadata": {
        "id": "on8mGp9-NCDq"
      },
      "source": [
        "### Train : Test = 30 : 70"
      ]
    },
    {
      "cell_type": "code",
      "metadata": {
        "colab": {
          "base_uri": "https://localhost:8080/",
          "height": 617
        },
        "id": "XAxVD-xSNCDq",
        "outputId": "5c15e648-cafe-4d5e-9510-95a3f49615ae"
      },
      "source": [
        "import pandas as pd\n",
        "import numpy as np\n",
        "\n",
        "# Dataset Preparation\n",
        "df = pd.read_csv(\"https://archive.ics.uci.edu/ml/machine-learning-databases/ionosphere/ionosphere.data\",header=None)\n",
        "\n",
        "\n",
        "df.columns = ['1','2','3','4','5','6','7','8','9','10','11','12','13','14','15','16','17','18','19'\n",
        "           ,'20','21','22','23','24','25','26','27','28','29','30','31','32','33','34','Class']\n",
        "\n",
        "\n",
        "X = df.drop(['Class'], axis=1)\n",
        "y = df['Class']\n",
        "\n",
        "from sklearn.model_selection import train_test_split\n",
        "\n",
        "X_train, X_test, y_train, y_test = train_test_split(X,y, test_size=0.7)\n",
        "\n",
        "\n",
        "# Feature Scaling \n",
        "from sklearn.preprocessing import StandardScaler\n",
        "\n",
        "sc = StandardScaler()\n",
        "X_train = sc.fit_transform(X_train)\n",
        "X_test = sc.transform(X_test)\n",
        "\n",
        "# Classification\n",
        "from hmmlearn import hmm\n",
        "\n",
        "classifier = hmm.GMMHMM(n_components=3)\n",
        "classifier.fit(X_train)\n",
        "\n",
        "y_pred = classifier.predict(X_test)\n",
        "\n",
        "size = len(y_pred)\n",
        "strings = np.empty(size, np.unicode_)\n",
        "\n",
        "for i in range (size):\n",
        "    if y_pred[i] == 1:\n",
        "      strings[i] = (\"g\")\n",
        "    else:\n",
        "      strings[i] = (\"b\")\n",
        "\n",
        "from sklearn.metrics import classification_report, confusion_matrix, accuracy_score\n",
        "\n",
        "print(\"Confusion Matrix:\")\n",
        "cm = confusion_matrix(y_test, strings)\n",
        "print(cm)\n",
        "\n",
        "print(\"--------------------------------------------------\")\n",
        "print(\"--------------------------------------------------\")\n",
        "\n",
        "\n",
        "print(\"Performance Evaluation\")\n",
        "print(classification_report(y_test, strings))\n",
        "\n",
        "\n",
        "print(\"--------------------------------------------------\")\n",
        "print(\"--------------------------------------------------\")\n",
        "\n",
        "print(\"Accuracy:\")\n",
        "print(accuracy_score(y_test, strings))\n",
        "\n",
        "import matplotlib.pyplot as plt\n",
        "import seaborn as sns\n",
        "sns.heatmap(cm, annot=True, fmt=\"d\")\n",
        "plt.show()"
      ],
      "execution_count": null,
      "outputs": [
        {
          "output_type": "stream",
          "name": "stderr",
          "text": [
            "Degenerate mixture covariance\n"
          ]
        },
        {
          "output_type": "stream",
          "name": "stdout",
          "text": [
            "Confusion Matrix:\n",
            "[[ 96   4]\n",
            " [144   2]]\n",
            "--------------------------------------------------\n",
            "--------------------------------------------------\n",
            "Performance Evaluation\n",
            "              precision    recall  f1-score   support\n",
            "\n",
            "           b       0.40      0.96      0.56       100\n",
            "           g       0.33      0.01      0.03       146\n",
            "\n",
            "    accuracy                           0.40       246\n",
            "   macro avg       0.37      0.49      0.30       246\n",
            "weighted avg       0.36      0.40      0.25       246\n",
            "\n",
            "--------------------------------------------------\n",
            "--------------------------------------------------\n",
            "Accuracy:\n",
            "0.3983739837398374\n"
          ]
        },
        {
          "output_type": "display_data",
          "data": {
            "image/png": "[encoded data removed]",
            "text/plain": [
              "<Figure size 432x288 with 2 Axes>"
            ]
          },
          "metadata": {
            "needs_background": "light"
          }
        }
      ]
    },
    {
      "cell_type": "markdown",
      "metadata": {
        "id": "G5m0oJmMNCDq"
      },
      "source": [
        "## With Tuning"
      ]
    },
    {
      "cell_type": "markdown",
      "metadata": {
        "id": "bUNRCEy3NCDr"
      },
      "source": [
        "### Train : Test = 70 : 30"
      ]
    },
    {
      "cell_type": "code",
      "metadata": {
        "colab": {
          "base_uri": "https://localhost:8080/",
          "height": 1000
        },
        "id": "pcYdnTV5NCDr",
        "outputId": "325b789b-70c4-4a05-aa22-6307762e7d88"
      },
      "source": [
        "import pandas as pd\n",
        "import numpy as np\n",
        "\n",
        "# Dataset Preparation\n",
        "df = pd.read_csv(\"https://archive.ics.uci.edu/ml/machine-learning-databases/ionosphere/ionosphere.data\",header=None)\n",
        "\n",
        "\n",
        "df.columns = ['1','2','3','4','5','6','7','8','9','10','11','12','13','14','15','16','17','18','19'\n",
        "           ,'20','21','22','23','24','25','26','27','28','29','30','31','32','33','34','Class']\n",
        "\n",
        "\n",
        "X = df.drop(['Class'], axis=1)\n",
        "y = df['Class']\n",
        "\n",
        "from sklearn.model_selection import train_test_split\n",
        "\n",
        "X_train, X_test, y_train, y_test = train_test_split(X,y,test_size=0.3)\n",
        "\n",
        "\n",
        "# Feature Scaling \n",
        "from sklearn.preprocessing import StandardScaler\n",
        "\n",
        "sc = StandardScaler()\n",
        "X_train = sc.fit_transform(X_train)\n",
        "X_test = sc.transform(X_test)\n",
        "\n",
        "n_components = [int(x) for x in np.linspace(1,5, num = 5)]\n",
        "\n",
        "covariance_type = ['spherical', 'tied',  'diag']\n",
        "\n",
        "algorithm = ['viterbi', 'map']\n",
        "\n",
        "n_iter = [int(x) for x in np.linspace(10, 1000, num = 5)]\n",
        "\n",
        "# Create the random grid\n",
        "random_grid = {\n",
        "               'algorithm': algorithm,\n",
        "               'n_iter': n_iter}\n",
        "\n",
        "from pprint import pprint\n",
        "\n",
        "pprint(random_grid)\n",
        "print()\n",
        "\n",
        "# Classification\n",
        "from hmmlearn import hmm\n",
        "\n",
        "classifier = hmm.GMMHMM(n_components=2)\n",
        "\n",
        "from sklearn.model_selection import GridSearchCV\n",
        "rf_random = GridSearchCV(classifier, random_grid, refit=True)\n",
        "\n",
        "rf_random.fit(X_train)\n",
        "\n",
        "y_pred = rf_random.predict(X_test)\n",
        "\n",
        "size = len(y_pred)\n",
        "strings = np.empty(size, np.unicode_)\n",
        "\n",
        "for i in range (size):\n",
        "    if y_pred[i] == 1:\n",
        "      strings[i] = (\"g\")\n",
        "    else:\n",
        "      strings[i] = (\"b\")\n",
        "\n",
        "from sklearn.metrics import classification_report, confusion_matrix, accuracy_score\n",
        "\n",
        "print(\"Confusion Matrix:\")\n",
        "cm = confusion_matrix(y_test, strings)\n",
        "print(cm)\n",
        "\n",
        "print(\"--------------------------------------------------\")\n",
        "print(\"--------------------------------------------------\")\n",
        "\n",
        "\n",
        "print(\"Performance Evaluation\")\n",
        "print(classification_report(y_test, strings))\n",
        "\n",
        "\n",
        "print(\"--------------------------------------------------\")\n",
        "print(\"--------------------------------------------------\")\n",
        "\n",
        "print(\"Accuracy:\")\n",
        "print(accuracy_score(y_test, strings))\n",
        "\n",
        "import matplotlib.pyplot as plt\n",
        "import seaborn as sns\n",
        "sns.heatmap(cm, annot=True, fmt=\"d\")\n",
        "plt.show()"
      ],
      "execution_count": null,
      "outputs": [
        {
          "output_type": "stream",
          "name": "stderr",
          "text": [
            "Degenerate mixture covariance\n",
            "Degenerate mixture covariance\n"
          ]
        },
        {
          "output_type": "stream",
          "name": "stdout",
          "text": [
            "{'algorithm': ['viterbi', 'map'], 'n_iter': [10, 257, 505, 752, 1000]}\n",
            "\n"
          ]
        },
        {
          "output_type": "stream",
          "name": "stderr",
          "text": [
            "Degenerate mixture covariance\n",
            "Degenerate mixture covariance\n",
            "Degenerate mixture covariance\n",
            "Degenerate mixture covariance\n",
            "Degenerate mixture covariance\n",
            "Degenerate mixture covariance\n",
            "Degenerate mixture covariance\n",
            "Degenerate mixture covariance\n",
            "Degenerate mixture covariance\n",
            "Degenerate mixture covariance\n",
            "Degenerate mixture covariance\n",
            "Degenerate mixture covariance\n",
            "Degenerate mixture covariance\n",
            "Degenerate mixture covariance\n",
            "Degenerate mixture covariance\n",
            "Degenerate mixture covariance\n",
            "Degenerate mixture covariance\n",
            "Degenerate mixture covariance\n",
            "Degenerate mixture covariance\n",
            "Degenerate mixture covariance\n",
            "Degenerate mixture covariance\n",
            "Degenerate mixture covariance\n",
            "Degenerate mixture covariance\n",
            "Degenerate mixture covariance\n",
            "Degenerate mixture covariance\n",
            "Degenerate mixture covariance\n",
            "Degenerate mixture covariance\n",
            "Degenerate mixture covariance\n",
            "Degenerate mixture covariance\n",
            "Degenerate mixture covariance\n",
            "Degenerate mixture covariance\n",
            "Degenerate mixture covariance\n",
            "Degenerate mixture covariance\n",
            "Degenerate mixture covariance\n",
            "Degenerate mixture covariance\n",
            "Degenerate mixture covariance\n",
            "Degenerate mixture covariance\n",
            "Degenerate mixture covariance\n",
            "Degenerate mixture covariance\n",
            "Degenerate mixture covariance\n",
            "Degenerate mixture covariance\n",
            "Degenerate mixture covariance\n",
            "Degenerate mixture covariance\n",
            "Degenerate mixture covariance\n",
            "Degenerate mixture covariance\n",
            "Degenerate mixture covariance\n",
            "Degenerate mixture covariance\n",
            "Degenerate mixture covariance\n",
            "Degenerate mixture covariance\n",
            "Degenerate mixture covariance\n"
          ]
        },
        {
          "output_type": "stream",
          "name": "stdout",
          "text": [
            "Confusion Matrix:\n",
            "[[ 8 30]\n",
            " [44 24]]\n",
            "--------------------------------------------------\n",
            "--------------------------------------------------\n",
            "Performance Evaluation\n",
            "              precision    recall  f1-score   support\n",
            "\n",
            "           b       0.15      0.21      0.18        38\n",
            "           g       0.44      0.35      0.39        68\n",
            "\n",
            "    accuracy                           0.30       106\n",
            "   macro avg       0.30      0.28      0.29       106\n",
            "weighted avg       0.34      0.30      0.32       106\n",
            "\n",
            "--------------------------------------------------\n",
            "--------------------------------------------------\n",
            "Accuracy:\n",
            "0.3018867924528302\n"
          ]
        },
        {
          "output_type": "display_data",
          "data": {
            "image/png": "[encoded data removed]",
            "text/plain": [
              "<Figure size 432x288 with 2 Axes>"
            ]
          },
          "metadata": {
            "needs_background": "light"
          }
        }
      ]
    },
    {
      "cell_type": "markdown",
      "metadata": {
        "id": "dUdYa8d8NCDr"
      },
      "source": [
        "### Train : Test = 60 : 40"
      ]
    },
    {
      "cell_type": "code",
      "metadata": {
        "colab": {
          "base_uri": "https://localhost:8080/",
          "height": 634
        },
        "id": "Dme4rZ2ANCDr",
        "outputId": "6434fc5c-8602-4e48-c361-c1cc38b8f1c8"
      },
      "source": [
        "import pandas as pd\n",
        "import numpy as np\n",
        "\n",
        "# Dataset Preparation\n",
        "df = pd.read_csv(\"https://archive.ics.uci.edu/ml/machine-learning-databases/ionosphere/ionosphere.data\",header=None)\n",
        "\n",
        "\n",
        "df.columns = ['1','2','3','4','5','6','7','8','9','10','11','12','13','14','15','16','17','18','19'\n",
        "           ,'20','21','22','23','24','25','26','27','28','29','30','31','32','33','34','Class']\n",
        "\n",
        "\n",
        "X = df.drop(['Class'], axis=1)\n",
        "y = df['Class']\n",
        "\n",
        "from sklearn.model_selection import train_test_split\n",
        "\n",
        "X_train, X_test, y_train, y_test = train_test_split(X,y,test_size=0.4)\n",
        "\n",
        "\n",
        "# Feature Scaling \n",
        "from sklearn.preprocessing import StandardScaler\n",
        "\n",
        "sc = StandardScaler()\n",
        "X_train = sc.fit_transform(X_train)\n",
        "X_test = sc.transform(X_test)\n",
        "\n",
        "n_components = [int(x) for x in np.linspace(1,5, num = 5)]\n",
        "\n",
        "covariance_type = ['spherical', 'tied', 'full', 'diag']\n",
        "\n",
        "algorithm = ['viterbi', 'map']\n",
        "\n",
        "n_iter = [int(x) for x in np.linspace(10, 1000, num = 5)]\n",
        "\n",
        "# Create the random grid\n",
        "random_grid = {\n",
        "               'algorithm': algorithm,\n",
        "               'n_iter': n_iter}\n",
        "\n",
        "from pprint import pprint\n",
        "\n",
        "pprint(random_grid)\n",
        "print()\n",
        "\n",
        "# Classification\n",
        "from hmmlearn import hmm\n",
        "\n",
        "classifier = hmm.GaussianHMM(n_components=2)\n",
        "\n",
        "from sklearn.model_selection import GridSearchCV\n",
        "rf_random = GridSearchCV(classifier, random_grid, refit=True)\n",
        "\n",
        "rf_random.fit(X_train)\n",
        "\n",
        "y_pred = rf_random.predict(X_test)\n",
        "\n",
        "size = len(y_pred)\n",
        "strings = np.empty(size, np.unicode_)\n",
        "\n",
        "for i in range (size):\n",
        "    if y_pred[i] == 1:\n",
        "      strings[i] = (\"g\")\n",
        "    else:\n",
        "      strings[i] = (\"b\")\n",
        "\n",
        "from sklearn.metrics import classification_report, confusion_matrix, accuracy_score\n",
        "\n",
        "print(\"Confusion Matrix:\")\n",
        "cm = confusion_matrix(y_test, strings)\n",
        "print(cm)\n",
        "\n",
        "print(\"--------------------------------------------------\")\n",
        "print(\"--------------------------------------------------\")\n",
        "\n",
        "\n",
        "print(\"Performance Evaluation\")\n",
        "print(classification_report(y_test, strings))\n",
        "\n",
        "\n",
        "print(\"--------------------------------------------------\")\n",
        "print(\"--------------------------------------------------\")\n",
        "\n",
        "print(\"Accuracy:\")\n",
        "print(accuracy_score(y_test, strings))\n",
        "\n",
        "import matplotlib.pyplot as plt\n",
        "import seaborn as sns\n",
        "sns.heatmap(cm, annot=True, fmt=\"d\")\n",
        "plt.show()"
      ],
      "execution_count": null,
      "outputs": [
        {
          "output_type": "stream",
          "name": "stdout",
          "text": [
            "{'algorithm': ['viterbi', 'map'], 'n_iter': [10, 257, 505, 752, 1000]}\n",
            "\n",
            "Confusion Matrix:\n",
            "[[ 4 51]\n",
            " [53 33]]\n",
            "--------------------------------------------------\n",
            "--------------------------------------------------\n",
            "Performance Evaluation\n",
            "              precision    recall  f1-score   support\n",
            "\n",
            "           b       0.07      0.07      0.07        55\n",
            "           g       0.39      0.38      0.39        86\n",
            "\n",
            "    accuracy                           0.26       141\n",
            "   macro avg       0.23      0.23      0.23       141\n",
            "weighted avg       0.27      0.26      0.26       141\n",
            "\n",
            "--------------------------------------------------\n",
            "--------------------------------------------------\n",
            "Accuracy:\n",
            "0.2624113475177305\n"
          ]
        },
        {
          "output_type": "display_data",
          "data": {
            "image/png": "[encoded data removed]",
            "text/plain": [
              "<Figure size 432x288 with 2 Axes>"
            ]
          },
          "metadata": {
            "needs_background": "light"
          }
        }
      ]
    },
    {
      "cell_type": "markdown",
      "metadata": {
        "id": "mOccH-mPNCDs"
      },
      "source": [
        "### Train : Test = 50 : 50"
      ]
    },
    {
      "cell_type": "code",
      "metadata": {
        "colab": {
          "base_uri": "https://localhost:8080/",
          "height": 634
        },
        "id": "mwXDXXjxNCDs",
        "outputId": "8412b5f6-54eb-4009-ea12-6a60e6956b59"
      },
      "source": [
        "import pandas as pd\n",
        "import numpy as np\n",
        "\n",
        "# Dataset Preparation\n",
        "df = pd.read_csv(\"https://archive.ics.uci.edu/ml/machine-learning-databases/ionosphere/ionosphere.data\",header=None)\n",
        "\n",
        "\n",
        "df.columns = ['1','2','3','4','5','6','7','8','9','10','11','12','13','14','15','16','17','18','19'\n",
        "           ,'20','21','22','23','24','25','26','27','28','29','30','31','32','33','34','Class']\n",
        "\n",
        "\n",
        "X = df.drop(['Class'], axis=1)\n",
        "y = df['Class']\n",
        "\n",
        "from sklearn.model_selection import train_test_split\n",
        "\n",
        "X_train, X_test, y_train, y_test = train_test_split(X,y,test_size=0.5)\n",
        "\n",
        "\n",
        "# Feature Scaling \n",
        "from sklearn.preprocessing import StandardScaler\n",
        "\n",
        "sc = StandardScaler()\n",
        "X_train = sc.fit_transform(X_train)\n",
        "X_test = sc.transform(X_test)\n",
        "\n",
        "n_components = [int(x) for x in np.linspace(1,5, num = 5)]\n",
        "\n",
        "covariance_type = ['spherical', 'tied', 'full', 'diag']\n",
        "\n",
        "algorithm = ['viterbi', 'map']\n",
        "\n",
        "n_iter = [int(x) for x in np.linspace(10, 1000, num = 5)]\n",
        "\n",
        "# Create the random grid\n",
        "random_grid = {\n",
        "               'algorithm': algorithm,\n",
        "               'n_iter': n_iter}\n",
        "\n",
        "from pprint import pprint\n",
        "\n",
        "pprint(random_grid)\n",
        "print()\n",
        "\n",
        "# Classification\n",
        "from hmmlearn import hmm\n",
        "\n",
        "classifier = hmm.GaussianHMM(n_components=2)\n",
        "\n",
        "from sklearn.model_selection import GridSearchCV\n",
        "rf_random = GridSearchCV(classifier, random_grid, refit=True)\n",
        "\n",
        "rf_random.fit(X_train)\n",
        "\n",
        "y_pred = rf_random.predict(X_test)\n",
        "\n",
        "size = len(y_pred)\n",
        "strings = np.empty(size, np.unicode_)\n",
        "\n",
        "for i in range (size):\n",
        "    if y_pred[i] == 1:\n",
        "      strings[i] = (\"g\")\n",
        "    else:\n",
        "      strings[i] = (\"b\")\n",
        "\n",
        "from sklearn.metrics import classification_report, confusion_matrix, accuracy_score\n",
        "\n",
        "print(\"Confusion Matrix:\")\n",
        "cm = confusion_matrix(y_test, strings)\n",
        "print(cm)\n",
        "\n",
        "print(\"--------------------------------------------------\")\n",
        "print(\"--------------------------------------------------\")\n",
        "\n",
        "\n",
        "print(\"Performance Evaluation\")\n",
        "print(classification_report(y_test, strings))\n",
        "\n",
        "\n",
        "print(\"--------------------------------------------------\")\n",
        "print(\"--------------------------------------------------\")\n",
        "\n",
        "print(\"Accuracy:\")\n",
        "print(accuracy_score(y_test, strings))\n",
        "\n",
        "import matplotlib.pyplot as plt\n",
        "import seaborn as sns\n",
        "sns.heatmap(cm, annot=True, fmt=\"d\")\n",
        "plt.show()"
      ],
      "execution_count": null,
      "outputs": [
        {
          "output_type": "stream",
          "name": "stdout",
          "text": [
            "{'algorithm': ['viterbi', 'map'], 'n_iter': [10, 257, 505, 752, 1000]}\n",
            "\n",
            "Confusion Matrix:\n",
            "[[ 3 60]\n",
            " [68 45]]\n",
            "--------------------------------------------------\n",
            "--------------------------------------------------\n",
            "Performance Evaluation\n",
            "              precision    recall  f1-score   support\n",
            "\n",
            "           b       0.04      0.05      0.04        63\n",
            "           g       0.43      0.40      0.41       113\n",
            "\n",
            "    accuracy                           0.27       176\n",
            "   macro avg       0.24      0.22      0.23       176\n",
            "weighted avg       0.29      0.27      0.28       176\n",
            "\n",
            "--------------------------------------------------\n",
            "--------------------------------------------------\n",
            "Accuracy:\n",
            "0.2727272727272727\n"
          ]
        },
        {
          "output_type": "display_data",
          "data": {
            "image/png": "[encoded data removed]",
            "text/plain": [
              "<Figure size 432x288 with 2 Axes>"
            ]
          },
          "metadata": {
            "needs_background": "light"
          }
        }
      ]
    },
    {
      "cell_type": "markdown",
      "metadata": {
        "id": "8FsGSTDLNCDs"
      },
      "source": [
        "### Train : Test = 40 : 60"
      ]
    },
    {
      "cell_type": "code",
      "metadata": {
        "colab": {
          "base_uri": "https://localhost:8080/",
          "height": 634
        },
        "id": "zxYTpOkRNCDs",
        "outputId": "f43f25ec-0b23-4389-9d94-53d0310be2f6"
      },
      "source": [
        "import pandas as pd\n",
        "import numpy as np\n",
        "\n",
        "# Dataset Preparation\n",
        "df = pd.read_csv(\"https://archive.ics.uci.edu/ml/machine-learning-databases/ionosphere/ionosphere.data\",header=None)\n",
        "\n",
        "\n",
        "df.columns = ['1','2','3','4','5','6','7','8','9','10','11','12','13','14','15','16','17','18','19'\n",
        "           ,'20','21','22','23','24','25','26','27','28','29','30','31','32','33','34','Class']\n",
        "\n",
        "\n",
        "X = df.drop(['Class'], axis=1)\n",
        "y = df['Class']\n",
        "\n",
        "from sklearn.model_selection import train_test_split\n",
        "\n",
        "X_train, X_test, y_train, y_test = train_test_split(X,y,test_size=0.6)\n",
        "\n",
        "\n",
        "# Feature Scaling \n",
        "from sklearn.preprocessing import StandardScaler\n",
        "\n",
        "sc = StandardScaler()\n",
        "X_train = sc.fit_transform(X_train)\n",
        "X_test = sc.transform(X_test)\n",
        "\n",
        "n_components = [int(x) for x in np.linspace(1,5, num = 5)]\n",
        "\n",
        "covariance_type = ['spherical', 'tied', 'full', 'diag']\n",
        "\n",
        "algorithm = ['viterbi', 'map']\n",
        "\n",
        "n_iter = [int(x) for x in np.linspace(10, 1000, num = 5)]\n",
        "\n",
        "# Create the random grid\n",
        "random_grid = {\n",
        "               'algorithm': algorithm,\n",
        "               'n_iter': n_iter}\n",
        "\n",
        "from pprint import pprint\n",
        "\n",
        "pprint(random_grid)\n",
        "print()\n",
        "\n",
        "# Classification\n",
        "from hmmlearn import hmm\n",
        "\n",
        "classifier = hmm.GaussianHMM(n_components=2)\n",
        "\n",
        "from sklearn.model_selection import GridSearchCV\n",
        "rf_random = GridSearchCV(classifier, random_grid, refit=True)\n",
        "\n",
        "rf_random.fit(X_train)\n",
        "\n",
        "y_pred = rf_random.predict(X_test)\n",
        "\n",
        "size = len(y_pred)\n",
        "strings = np.empty(size, np.unicode_)\n",
        "\n",
        "for i in range (size):\n",
        "    if y_pred[i] == 1:\n",
        "      strings[i] = (\"g\")\n",
        "    else:\n",
        "      strings[i] = (\"b\")\n",
        "\n",
        "from sklearn.metrics import classification_report, confusion_matrix, accuracy_score\n",
        "\n",
        "print(\"Confusion Matrix:\")\n",
        "cm = confusion_matrix(y_test, strings)\n",
        "print(cm)\n",
        "\n",
        "print(\"--------------------------------------------------\")\n",
        "print(\"--------------------------------------------------\")\n",
        "\n",
        "\n",
        "print(\"Performance Evaluation\")\n",
        "print(classification_report(y_test, strings))\n",
        "\n",
        "\n",
        "print(\"--------------------------------------------------\")\n",
        "print(\"--------------------------------------------------\")\n",
        "\n",
        "print(\"Accuracy:\")\n",
        "print(accuracy_score(y_test, strings))\n",
        "\n",
        "import matplotlib.pyplot as plt\n",
        "import seaborn as sns\n",
        "sns.heatmap(cm, annot=True, fmt=\"d\")\n",
        "plt.show()"
      ],
      "execution_count": null,
      "outputs": [
        {
          "output_type": "stream",
          "name": "stdout",
          "text": [
            "{'algorithm': ['viterbi', 'map'], 'n_iter': [10, 257, 505, 752, 1000]}\n",
            "\n",
            "Confusion Matrix:\n",
            "[[ 6 69]\n",
            " [93 43]]\n",
            "--------------------------------------------------\n",
            "--------------------------------------------------\n",
            "Performance Evaluation\n",
            "              precision    recall  f1-score   support\n",
            "\n",
            "           b       0.06      0.08      0.07        75\n",
            "           g       0.38      0.32      0.35       136\n",
            "\n",
            "    accuracy                           0.23       211\n",
            "   macro avg       0.22      0.20      0.21       211\n",
            "weighted avg       0.27      0.23      0.25       211\n",
            "\n",
            "--------------------------------------------------\n",
            "--------------------------------------------------\n",
            "Accuracy:\n",
            "0.23222748815165878\n"
          ]
        },
        {
          "output_type": "display_data",
          "data": {
            "image/png": "[encoded data removed]",
            "text/plain": [
              "<Figure size 432x288 with 2 Axes>"
            ]
          },
          "metadata": {
            "needs_background": "light"
          }
        }
      ]
    },
    {
      "cell_type": "markdown",
      "metadata": {
        "id": "8CyaC4zKNCDt"
      },
      "source": [
        "### Train : Test = 30 : 70"
      ]
    },
    {
      "cell_type": "code",
      "metadata": {
        "colab": {
          "base_uri": "https://localhost:8080/",
          "height": 638
        },
        "id": "434nRg0ZNCDt",
        "outputId": "5bdb35db-7f65-4641-95c5-6f6ee9a35d85"
      },
      "source": [
        "import pandas as pd\n",
        "import numpy as np\n",
        "\n",
        "# Dataset Preparation\n",
        "df = pd.read_csv(\"https://archive.ics.uci.edu/ml/machine-learning-databases/ionosphere/ionosphere.data\",header=None)\n",
        "\n",
        "\n",
        "df.columns = ['1','2','3','4','5','6','7','8','9','10','11','12','13','14','15','16','17','18','19'\n",
        "           ,'20','21','22','23','24','25','26','27','28','29','30','31','32','33','34','Class']\n",
        "\n",
        "\n",
        "X = df.drop(['Class'], axis=1)\n",
        "y = df['Class']\n",
        "\n",
        "from sklearn.model_selection import train_test_split\n",
        "\n",
        "X_train, X_test, y_train, y_test = train_test_split(X,y,test_size=0.7)\n",
        "\n",
        "\n",
        "# Feature Scaling \n",
        "from sklearn.preprocessing import StandardScaler\n",
        "\n",
        "sc = StandardScaler()\n",
        "X_train = sc.fit_transform(X_train)\n",
        "X_test = sc.transform(X_test)\n",
        "\n",
        "n_components = [int(x) for x in np.linspace(1,5, num = 5)]\n",
        "\n",
        "covariance_type = ['spherical', 'tied', 'full', 'diag']\n",
        "\n",
        "algorithm = ['viterbi', 'map']\n",
        "\n",
        "n_iter = [int(x) for x in np.linspace(10, 1000, num = 5)]\n",
        "\n",
        "# Create the random grid\n",
        "random_grid = {\n",
        "               'algorithm': algorithm,\n",
        "               'n_iter': n_iter}\n",
        "\n",
        "from pprint import pprint\n",
        "\n",
        "pprint(random_grid)\n",
        "print()\n",
        "\n",
        "# Classification\n",
        "from hmmlearn import hmm\n",
        "\n",
        "classifier = hmm.GaussianHMM(n_components=2)\n",
        "\n",
        "from sklearn.model_selection import GridSearchCV\n",
        "rf_random = GridSearchCV(classifier, random_grid, refit=True)\n",
        "\n",
        "rf_random.fit(X_train)\n",
        "\n",
        "y_pred = rf_random.predict(X_test)\n",
        "\n",
        "size = len(y_pred)\n",
        "strings = np.empty(size, np.unicode_)\n",
        "\n",
        "for i in range (size):\n",
        "    if y_pred[i] == 1:\n",
        "      strings[i] = (\"g\")\n",
        "    else:\n",
        "      strings[i] = (\"b\")\n",
        "\n",
        "from sklearn.metrics import classification_report, confusion_matrix, accuracy_score\n",
        "\n",
        "print(\"Confusion Matrix:\")\n",
        "cm = confusion_matrix(y_test, strings)\n",
        "print(cm)\n",
        "\n",
        "print(\"--------------------------------------------------\")\n",
        "print(\"--------------------------------------------------\")\n",
        "\n",
        "\n",
        "print(\"Performance Evaluation\")\n",
        "print(classification_report(y_test, strings))\n",
        "\n",
        "\n",
        "print(\"--------------------------------------------------\")\n",
        "print(\"--------------------------------------------------\")\n",
        "\n",
        "print(\"Accuracy:\")\n",
        "print(accuracy_score(y_test, strings))\n",
        "\n",
        "import matplotlib.pyplot as plt\n",
        "import seaborn as sns\n",
        "sns.heatmap(cm, annot=True, fmt=\"d\")\n",
        "plt.show()"
      ],
      "execution_count": null,
      "outputs": [
        {
          "output_type": "stream",
          "name": "stdout",
          "text": [
            "{'algorithm': ['viterbi', 'map'], 'n_iter': [10, 257, 505, 752, 1000]}\n",
            "\n",
            "Confusion Matrix:\n",
            "[[  3  80]\n",
            " [100  63]]\n",
            "--------------------------------------------------\n",
            "--------------------------------------------------\n",
            "Performance Evaluation\n",
            "              precision    recall  f1-score   support\n",
            "\n",
            "           b       0.03      0.04      0.03        83\n",
            "           g       0.44      0.39      0.41       163\n",
            "\n",
            "    accuracy                           0.27       246\n",
            "   macro avg       0.23      0.21      0.22       246\n",
            "weighted avg       0.30      0.27      0.28       246\n",
            "\n",
            "--------------------------------------------------\n",
            "--------------------------------------------------\n",
            "Accuracy:\n",
            "0.2682926829268293\n"
          ]
        },
        {
          "output_type": "display_data",
          "data": {
            "image/png": "[encoded data removed]",
            "text/plain": [
              "<Figure size 432x288 with 2 Axes>"
            ]
          },
          "metadata": {
            "needs_background": "light"
          }
        }
      ]
    },
    {
      "cell_type": "markdown",
      "metadata": {
        "id": "YTQORU37EJG1"
      },
      "source": [
        "# MultinomialHMM classifier"
      ]
    },
    {
      "cell_type": "markdown",
      "metadata": {
        "id": "83wu7eTBEJG-"
      },
      "source": [
        "## Without Tuning"
      ]
    },
    {
      "cell_type": "markdown",
      "metadata": {
        "id": "3rE3PeZdEJG-"
      },
      "source": [
        "### Train : Test = 70 : 30"
      ]
    },
    {
      "cell_type": "code",
      "metadata": {
        "colab": {
          "base_uri": "https://localhost:8080/",
          "height": 653
        },
        "id": "VjMlY9RuH0Vo",
        "outputId": "36021666-315f-40a0-f768-60626e06a68f"
      },
      "source": [
        "# IONOSPHERE DATASET\n",
        "# MultinomialHMM(Without Tuning)[70-30 split]\n",
        "\n",
        "\n",
        "import pandas as pd\n",
        "import numpy as np\n",
        "\n",
        "# Dataset Preparation\n",
        "col_name = ['1','2','3','4','5','6','7','8','9','10','11','12','13','14','15','16','17','18','19'\n",
        "           ,'20','21','22','23','24','25','26','27','28','29','30','31','32','33','34','Class']\n",
        "\n",
        "\n",
        "df.columns = col_name\n",
        "\n",
        "\n",
        "X = df.drop(['1','2','Class'], axis=1)\n",
        "y = df['Class']\n",
        "\n",
        "\n",
        "X = df.drop(['1','Class'], axis=1)\n",
        "y = df['Class']\n",
        "\n",
        "from sklearn.model_selection import train_test_split\n",
        "\n",
        "X_train, X_test, y_train, y_test = train_test_split(X,y,train_size=0.7,test_size=0.3,random_state=10)\n",
        "\n",
        "\n",
        "# Feature Scaling \n",
        "from sklearn.preprocessing import StandardScaler\n",
        "\n",
        "sc = StandardScaler()\n",
        "X_train = sc.fit_transform(X_train)\n",
        "X_test = sc.transform(X_test)\n",
        "\n",
        "# Classification\n",
        "# from hmmlearn import hmm\n",
        "import hmmlearn\n",
        "classifier = hmmlearn.hmm.MultinomialHMM(n_components=4, random_state=15,n_iter=10,algorithm='viterbi',params='ste')\n",
        "\n",
        "import math\n",
        "row = len(X_train)\n",
        "col = len(X_train[0])\n",
        "new = [1] * 33\n",
        "for i in range(row):\n",
        "    for j in range(col):\n",
        "        X_train[i][j] = X_train[i][j]*10\n",
        "        X_train[i][j] = math.floor(X_train[i][j])\n",
        "    x = X_train[i].astype(np.int)\n",
        "    new = np.vstack([new,x])\n",
        "\n",
        "y = new\n",
        "y = np.absolute(y)\n",
        "X_train = y\n",
        "\n",
        "\n",
        "import math\n",
        "row = len(X_test)\n",
        "col = len(X_test[0])\n",
        "new \n",
        "for i in range(row):\n",
        "    for j in range(col):\n",
        "        X_test[i][j] = X_test[i][j]*10\n",
        "        X_test[i][j] = math.floor(X_test[i][j])\n",
        "    x = X_test[i].astype(np.int)\n",
        "    new = np.vstack([new,x])\n",
        "\n",
        "y = new\n",
        "y = np.absolute(y)\n",
        "X_test = y\n",
        "\n",
        "\n",
        "classifier.fit(X_train)\n",
        "\n",
        "y_pred = classifier.predict(X_test)\n",
        "\n",
        "size = len(y_pred)\n",
        "strings = np.empty(size, np.unicode_)\n",
        "\n",
        "for i in range (size):\n",
        "    if y_pred[i] == 1:\n",
        "      strings[i] = (\"g\")\n",
        "    else:\n",
        "      strings[i] = (\"b\")\n",
        "\n",
        "strings\n",
        "strings = strings[0:106]\n",
        "\n",
        "\n",
        "from sklearn.metrics import classification_report, confusion_matrix, accuracy_score\n",
        "\n",
        "print(\"Confusion Matrix:\")\n",
        "print(confusion_matrix(y_test, strings))\n",
        "\n",
        "print(\"--------------------------------------------------\")\n",
        "print(\"--------------------------------------------------\")\n",
        "\n",
        "\n",
        "print(\"Performance Evaluation\")\n",
        "print(classification_report(y_test, strings))\n",
        "\n",
        "\n",
        "print(\"--------------------------------------------------\")\n",
        "print(\"--------------------------------------------------\")\n",
        "\n",
        "print(\"Accuracy:\")\n",
        "print(accuracy_score(y_test, strings))\n",
        "\n",
        "import matplotlib.pyplot as plt\n",
        "import seaborn as sns\n",
        "cm = confusion_matrix(y_test, strings)\n",
        "sns.heatmap(cm, annot=True, fmt=\"d\",cmap='Blues')\n",
        "plt.show()"
      ],
      "execution_count": null,
      "outputs": [
        {
          "output_type": "stream",
          "name": "stdout",
          "text": [
            "Confusion Matrix:\n",
            "[[34  6]\n",
            " [52 14]]\n",
            "--------------------------------------------------\n",
            "--------------------------------------------------\n",
            "Performance Evaluation\n",
            "              precision    recall  f1-score   support\n",
            "\n",
            "           b       0.40      0.85      0.54        40\n",
            "           g       0.70      0.21      0.33        66\n",
            "\n",
            "    accuracy                           0.45       106\n",
            "   macro avg       0.55      0.53      0.43       106\n",
            "weighted avg       0.59      0.45      0.41       106\n",
            "\n",
            "--------------------------------------------------\n",
            "--------------------------------------------------\n",
            "Accuracy:\n",
            "0.4528301886792453\n"
          ]
        },
        {
          "output_type": "display_data",
          "data": {
            "image/png": "[encoded data removed]",
            "text/plain": [
              "<Figure size 432x288 with 2 Axes>"
            ]
          },
          "metadata": {
            "needs_background": "light"
          }
        }
      ]
    },
    {
      "cell_type": "markdown",
      "metadata": {
        "id": "MkI_Fr8REJG-"
      },
      "source": [
        "### Train : Test = 60 : 40"
      ]
    },
    {
      "cell_type": "code",
      "metadata": {
        "colab": {
          "base_uri": "https://localhost:8080/",
          "height": 653
        },
        "id": "ZM-216R8IqRd",
        "outputId": "f20bd099-5883-4868-8568-6238b7d208e0"
      },
      "source": [
        "# IONOSPHERE DATASET\n",
        "# MultinomialHMM(Without Tuning)[60-40 split]\n",
        "\n",
        "\n",
        "import pandas as pd\n",
        "import numpy as np\n",
        "\n",
        "# Dataset Preparation\n",
        "col_name = ['1','2','3','4','5','6','7','8','9','10','11','12','13','14','15','16','17','18','19'\n",
        "           ,'20','21','22','23','24','25','26','27','28','29','30','31','32','33','34','Class']\n",
        "\n",
        "\n",
        "df.columns = col_name\n",
        "\n",
        "\n",
        "X = df.drop(['1','2','Class'], axis=1)\n",
        "y = df['Class']\n",
        "\n",
        "\n",
        "X = df.drop(['1','Class'], axis=1)\n",
        "y = df['Class']\n",
        "\n",
        "from sklearn.model_selection import train_test_split\n",
        "\n",
        "X_train, X_test, y_train, y_test = train_test_split(X,y,train_size=0.6,test_size=0.4,random_state=10)\n",
        "\n",
        "\n",
        "# Feature Scaling \n",
        "from sklearn.preprocessing import StandardScaler\n",
        "\n",
        "sc = StandardScaler()\n",
        "X_train = sc.fit_transform(X_train)\n",
        "X_test = sc.transform(X_test)\n",
        "\n",
        "# Classification\n",
        "# from hmmlearn import hmm\n",
        "import hmmlearn\n",
        "classifier = hmmlearn.hmm.MultinomialHMM(n_components=4, random_state=15,n_iter=10,algorithm='viterbi',params='ste')\n",
        "\n",
        "import math\n",
        "row = len(X_train)\n",
        "col = len(X_train[0])\n",
        "new = [1] * 33\n",
        "for i in range(row):\n",
        "    for j in range(col):\n",
        "        X_train[i][j] = X_train[i][j]*10\n",
        "        X_train[i][j] = math.floor(X_train[i][j])\n",
        "    x = X_train[i].astype(np.int)\n",
        "    new = np.vstack([new,x])\n",
        "\n",
        "y = new\n",
        "y = np.absolute(y)\n",
        "X_train = y\n",
        "\n",
        "\n",
        "import math\n",
        "row = len(X_test)\n",
        "col = len(X_test[0])\n",
        "new \n",
        "for i in range(row):\n",
        "    for j in range(col):\n",
        "        X_test[i][j] = X_test[i][j]*10\n",
        "        X_test[i][j] = math.floor(X_test[i][j])\n",
        "    x = X_test[i].astype(np.int)\n",
        "    new = np.vstack([new,x])\n",
        "\n",
        "y = new\n",
        "y = np.absolute(y)\n",
        "X_test = y\n",
        "\n",
        "\n",
        "classifier.fit(X_train)\n",
        "\n",
        "y_pred = classifier.predict(X_test)\n",
        "\n",
        "size = len(y_pred)\n",
        "strings = np.empty(size, np.unicode_)\n",
        "\n",
        "for i in range (size):\n",
        "    if y_pred[i] == 1:\n",
        "      strings[i] = (\"g\")\n",
        "    else:\n",
        "      strings[i] = (\"b\")\n",
        "\n",
        "strings\n",
        "strings = strings[0:141]\n",
        "\n",
        "\n",
        "from sklearn.metrics import classification_report, confusion_matrix, accuracy_score\n",
        "\n",
        "print(\"Confusion Matrix:\")\n",
        "print(confusion_matrix(y_test, strings))\n",
        "\n",
        "print(\"--------------------------------------------------\")\n",
        "print(\"--------------------------------------------------\")\n",
        "\n",
        "\n",
        "print(\"Performance Evaluation\")\n",
        "print(classification_report(y_test, strings))\n",
        "\n",
        "\n",
        "print(\"--------------------------------------------------\")\n",
        "print(\"--------------------------------------------------\")\n",
        "\n",
        "print(\"Accuracy:\")\n",
        "print(accuracy_score(y_test, strings))\n",
        "\n",
        "import matplotlib.pyplot as plt\n",
        "import seaborn as sns\n",
        "cm = confusion_matrix(y_test, strings)\n",
        "sns.heatmap(cm, annot=True, fmt=\"d\",cmap='Blues')\n",
        "plt.show()"
      ],
      "execution_count": null,
      "outputs": [
        {
          "output_type": "stream",
          "name": "stdout",
          "text": [
            "Confusion Matrix:\n",
            "[[49  6]\n",
            " [78  8]]\n",
            "--------------------------------------------------\n",
            "--------------------------------------------------\n",
            "Performance Evaluation\n",
            "              precision    recall  f1-score   support\n",
            "\n",
            "           b       0.39      0.89      0.54        55\n",
            "           g       0.57      0.09      0.16        86\n",
            "\n",
            "    accuracy                           0.40       141\n",
            "   macro avg       0.48      0.49      0.35       141\n",
            "weighted avg       0.50      0.40      0.31       141\n",
            "\n",
            "--------------------------------------------------\n",
            "--------------------------------------------------\n",
            "Accuracy:\n",
            "0.40425531914893614\n"
          ]
        },
        {
          "output_type": "display_data",
          "data": {
            "image/png": "[encoded data removed]",
            "text/plain": [
              "<Figure size 432x288 with 2 Axes>"
            ]
          },
          "metadata": {
            "needs_background": "light"
          }
        }
      ]
    },
    {
      "cell_type": "markdown",
      "metadata": {
        "id": "CbooBDxpEJG_"
      },
      "source": [
        "### Train : Test = 50 : 50"
      ]
    },
    {
      "cell_type": "code",
      "metadata": {
        "colab": {
          "base_uri": "https://localhost:8080/",
          "height": 653
        },
        "id": "jDwXuk-kIxWL",
        "outputId": "a2406f47-b31c-4315-c8b7-95c63c8c4ab7"
      },
      "source": [
        "# IONOSPHERE DATASET\n",
        "# MultinomialHMM(Without Tuning)[50-50 split]\n",
        "\n",
        "\n",
        "import pandas as pd\n",
        "import numpy as np\n",
        "\n",
        "# Dataset Preparation\n",
        "col_name = ['1','2','3','4','5','6','7','8','9','10','11','12','13','14','15','16','17','18','19'\n",
        "           ,'20','21','22','23','24','25','26','27','28','29','30','31','32','33','34','Class']\n",
        "\n",
        "\n",
        "df.columns = col_name\n",
        "\n",
        "\n",
        "X = df.drop(['1','2','Class'], axis=1)\n",
        "y = df['Class']\n",
        "\n",
        "\n",
        "X = df.drop(['1','Class'], axis=1)\n",
        "y = df['Class']\n",
        "\n",
        "from sklearn.model_selection import train_test_split\n",
        "\n",
        "X_train, X_test, y_train, y_test = train_test_split(X,y,train_size=0.5,test_size=0.5,random_state=10)\n",
        "\n",
        "\n",
        "# Feature Scaling \n",
        "from sklearn.preprocessing import StandardScaler\n",
        "\n",
        "sc = StandardScaler()\n",
        "X_train = sc.fit_transform(X_train)\n",
        "X_test = sc.transform(X_test)\n",
        "\n",
        "# Classification\n",
        "# from hmmlearn import hmm\n",
        "import hmmlearn\n",
        "classifier = hmmlearn.hmm.MultinomialHMM(n_components=4, random_state=15,n_iter=10,algorithm='viterbi',params='ste')\n",
        "\n",
        "import math\n",
        "row = len(X_train)\n",
        "col = len(X_train[0])\n",
        "new = [1] * 33\n",
        "for i in range(row):\n",
        "    for j in range(col):\n",
        "        X_train[i][j] = X_train[i][j]*10\n",
        "        X_train[i][j] = math.floor(X_train[i][j])\n",
        "    x = X_train[i].astype(np.int)\n",
        "    new = np.vstack([new,x])\n",
        "\n",
        "y = new\n",
        "y = np.absolute(y)\n",
        "X_train = y\n",
        "\n",
        "\n",
        "import math\n",
        "row = len(X_test)\n",
        "col = len(X_test[0])\n",
        "new \n",
        "for i in range(row):\n",
        "    for j in range(col):\n",
        "        X_test[i][j] = X_test[i][j]*10\n",
        "        X_test[i][j] = math.floor(X_test[i][j])\n",
        "    x = X_test[i].astype(np.int)\n",
        "    new = np.vstack([new,x])\n",
        "\n",
        "y = new\n",
        "y = np.absolute(y)\n",
        "X_test = y\n",
        "\n",
        "\n",
        "classifier.fit(X_train)\n",
        "\n",
        "y_pred = classifier.predict(X_test)\n",
        "\n",
        "size = len(y_pred)\n",
        "strings = np.empty(size, np.unicode_)\n",
        "\n",
        "for i in range (size):\n",
        "    if y_pred[i] == 1:\n",
        "      strings[i] = (\"b\")\n",
        "    else:\n",
        "      strings[i] = (\"g\")\n",
        "\n",
        "strings\n",
        "strings = strings[0:176]\n",
        "\n",
        "\n",
        "from sklearn.metrics import classification_report, confusion_matrix, accuracy_score\n",
        "\n",
        "print(\"Confusion Matrix:\")\n",
        "print(confusion_matrix(y_test, strings))\n",
        "\n",
        "print(\"--------------------------------------------------\")\n",
        "print(\"--------------------------------------------------\")\n",
        "\n",
        "\n",
        "print(\"Performance Evaluation\")\n",
        "print(classification_report(y_test, strings))\n",
        "\n",
        "\n",
        "print(\"--------------------------------------------------\")\n",
        "print(\"--------------------------------------------------\")\n",
        "\n",
        "print(\"Accuracy:\")\n",
        "print(accuracy_score(y_test, strings))\n",
        "\n",
        "import matplotlib.pyplot as plt\n",
        "import seaborn as sns\n",
        "cm = confusion_matrix(y_test, strings)\n",
        "sns.heatmap(cm, annot=True, fmt=\"d\",cmap='Blues')\n",
        "plt.show()"
      ],
      "execution_count": null,
      "outputs": [
        {
          "output_type": "stream",
          "name": "stdout",
          "text": [
            "Confusion Matrix:\n",
            "[[11 54]\n",
            " [16 95]]\n",
            "--------------------------------------------------\n",
            "--------------------------------------------------\n",
            "Performance Evaluation\n",
            "              precision    recall  f1-score   support\n",
            "\n",
            "           b       0.41      0.17      0.24        65\n",
            "           g       0.64      0.86      0.73       111\n",
            "\n",
            "    accuracy                           0.60       176\n",
            "   macro avg       0.52      0.51      0.48       176\n",
            "weighted avg       0.55      0.60      0.55       176\n",
            "\n",
            "--------------------------------------------------\n",
            "--------------------------------------------------\n",
            "Accuracy:\n",
            "0.6022727272727273\n"
          ]
        },
        {
          "output_type": "display_data",
          "data": {
            "image/png": "[encoded data removed]",
            "text/plain": [
              "<Figure size 432x288 with 2 Axes>"
            ]
          },
          "metadata": {
            "needs_background": "light"
          }
        }
      ]
    },
    {
      "cell_type": "markdown",
      "metadata": {
        "id": "ns1ka-lnEJG_"
      },
      "source": [
        "### Train : Test = 40 : 60"
      ]
    },
    {
      "cell_type": "code",
      "metadata": {
        "colab": {
          "base_uri": "https://localhost:8080/",
          "height": 653
        },
        "id": "XEwRO4YEKo4W",
        "outputId": "ba192b21-4f92-4a4d-9751-f175fbc605a5"
      },
      "source": [
        "# IONOSPHERE DATASET\n",
        "# MultinomialHMM(Without Tuning)[40-60 split]\n",
        "\n",
        "\n",
        "import pandas as pd\n",
        "import numpy as np\n",
        "\n",
        "# Dataset Preparation\n",
        "col_name = ['1','2','3','4','5','6','7','8','9','10','11','12','13','14','15','16','17','18','19'\n",
        "           ,'20','21','22','23','24','25','26','27','28','29','30','31','32','33','34','Class']\n",
        "\n",
        "\n",
        "df.columns = col_name\n",
        "\n",
        "\n",
        "X = df.drop(['1','2','Class'], axis=1)\n",
        "y = df['Class']\n",
        "\n",
        "\n",
        "X = df.drop(['1','Class'], axis=1)\n",
        "y = df['Class']\n",
        "\n",
        "from sklearn.model_selection import train_test_split\n",
        "\n",
        "X_train, X_test, y_train, y_test = train_test_split(X,y,train_size=0.4,test_size=0.6,random_state=10)\n",
        "\n",
        "\n",
        "# Feature Scaling \n",
        "from sklearn.preprocessing import StandardScaler\n",
        "\n",
        "sc = StandardScaler()\n",
        "X_train = sc.fit_transform(X_train)\n",
        "X_test = sc.transform(X_test)\n",
        "\n",
        "# Classification\n",
        "# from hmmlearn import hmm\n",
        "import hmmlearn\n",
        "classifier = hmmlearn.hmm.MultinomialHMM(n_components=4, random_state=15,n_iter=10,algorithm='viterbi',params='ste')\n",
        "\n",
        "import math\n",
        "row = len(X_train)\n",
        "col = len(X_train[0])\n",
        "new = [1] * 33\n",
        "for i in range(row):\n",
        "    for j in range(col):\n",
        "        X_train[i][j] = X_train[i][j]*10\n",
        "        X_train[i][j] = math.floor(X_train[i][j])\n",
        "    x = X_train[i].astype(np.int)\n",
        "    new = np.vstack([new,x])\n",
        "\n",
        "y = new\n",
        "y = np.absolute(y)\n",
        "X_train = y\n",
        "\n",
        "\n",
        "import math\n",
        "row = len(X_test)\n",
        "col = len(X_test[0])\n",
        "new \n",
        "for i in range(row):\n",
        "    for j in range(col):\n",
        "        X_test[i][j] = X_test[i][j]*10\n",
        "        X_test[i][j] = math.floor(X_test[i][j])\n",
        "    x = X_test[i].astype(np.int)\n",
        "    new = np.vstack([new,x])\n",
        "\n",
        "y = new\n",
        "y = np.absolute(y)\n",
        "X_test = y\n",
        "\n",
        "\n",
        "classifier.fit(X_train)\n",
        "\n",
        "y_pred = classifier.predict(X_test)\n",
        "\n",
        "size = len(y_pred)\n",
        "strings = np.empty(size, np.unicode_)\n",
        "\n",
        "for i in range (size):\n",
        "    if y_pred[i] == 1:\n",
        "      strings[i] = (\"b\")\n",
        "    else:\n",
        "      strings[i] = (\"g\")\n",
        "\n",
        "strings\n",
        "strings = strings[0:211]\n",
        "\n",
        "\n",
        "from sklearn.metrics import classification_report, confusion_matrix, accuracy_score\n",
        "\n",
        "print(\"Confusion Matrix:\")\n",
        "print(confusion_matrix(y_test, strings))\n",
        "\n",
        "print(\"--------------------------------------------------\")\n",
        "print(\"--------------------------------------------------\")\n",
        "\n",
        "\n",
        "print(\"Performance Evaluation\")\n",
        "print(classification_report(y_test, strings))\n",
        "\n",
        "\n",
        "print(\"--------------------------------------------------\")\n",
        "print(\"--------------------------------------------------\")\n",
        "\n",
        "print(\"Accuracy:\")\n",
        "print(accuracy_score(y_test, strings))\n",
        "\n",
        "import matplotlib.pyplot as plt\n",
        "import seaborn as sns\n",
        "cm = confusion_matrix(y_test, strings)\n",
        "sns.heatmap(cm, annot=True, fmt=\"d\",cmap='Blues')\n",
        "plt.show()"
      ],
      "execution_count": null,
      "outputs": [
        {
          "output_type": "stream",
          "name": "stdout",
          "text": [
            "Confusion Matrix:\n",
            "[[ 25  51]\n",
            " [ 21 114]]\n",
            "--------------------------------------------------\n",
            "--------------------------------------------------\n",
            "Performance Evaluation\n",
            "              precision    recall  f1-score   support\n",
            "\n",
            "           b       0.54      0.33      0.41        76\n",
            "           g       0.69      0.84      0.76       135\n",
            "\n",
            "    accuracy                           0.66       211\n",
            "   macro avg       0.62      0.59      0.58       211\n",
            "weighted avg       0.64      0.66      0.63       211\n",
            "\n",
            "--------------------------------------------------\n",
            "--------------------------------------------------\n",
            "Accuracy:\n",
            "0.6587677725118484\n"
          ]
        },
        {
          "output_type": "display_data",
          "data": {
            "image/png": "[encoded data removed]",
            "text/plain": [
              "<Figure size 432x288 with 2 Axes>"
            ]
          },
          "metadata": {
            "needs_background": "light"
          }
        }
      ]
    },
    {
      "cell_type": "markdown",
      "metadata": {
        "id": "ZCFnUsR8EJHA"
      },
      "source": [
        "### Train : Test = 30 : 70"
      ]
    },
    {
      "cell_type": "code",
      "metadata": {
        "colab": {
          "base_uri": "https://localhost:8080/",
          "height": 653
        },
        "id": "gmqHPoMHLHV9",
        "outputId": "1a1dc2a5-7021-42fc-e937-fa2ac54dbb09"
      },
      "source": [
        "# IONOSPHERE DATASET\n",
        "# MultinomialHMM(Without Tuning)[30-70 split]\n",
        "\n",
        "\n",
        "import pandas as pd\n",
        "import numpy as np\n",
        "\n",
        "# Dataset Preparation\n",
        "col_name = ['1','2','3','4','5','6','7','8','9','10','11','12','13','14','15','16','17','18','19'\n",
        "           ,'20','21','22','23','24','25','26','27','28','29','30','31','32','33','34','Class']\n",
        "\n",
        "\n",
        "df.columns = col_name\n",
        "\n",
        "\n",
        "X = df.drop(['1','2','Class'], axis=1)\n",
        "y = df['Class']\n",
        "\n",
        "\n",
        "X = df.drop(['1','Class'], axis=1)\n",
        "y = df['Class']\n",
        "\n",
        "from sklearn.model_selection import train_test_split\n",
        "\n",
        "X_train, X_test, y_train, y_test = train_test_split(X,y,train_size=0.3,test_size=0.7,random_state=10)\n",
        "\n",
        "\n",
        "# Feature Scaling \n",
        "from sklearn.preprocessing import StandardScaler\n",
        "\n",
        "sc = StandardScaler()\n",
        "X_train = sc.fit_transform(X_train)\n",
        "X_test = sc.transform(X_test)\n",
        "\n",
        "# Classification\n",
        "# from hmmlearn import hmm\n",
        "import hmmlearn\n",
        "classifier = hmmlearn.hmm.MultinomialHMM(n_components=4, random_state=15,n_iter=10,algorithm='viterbi',params='ste')\n",
        "\n",
        "import math\n",
        "row = len(X_train)\n",
        "col = len(X_train[0])\n",
        "new = [1] * 33\n",
        "for i in range(row):\n",
        "    for j in range(col):\n",
        "        X_train[i][j] = X_train[i][j]*10\n",
        "        X_train[i][j] = math.floor(X_train[i][j])\n",
        "    x = X_train[i].astype(np.int)\n",
        "    new = np.vstack([new,x])\n",
        "\n",
        "y = new\n",
        "y = np.absolute(y)\n",
        "X_train = y\n",
        "\n",
        "\n",
        "import math\n",
        "row = len(X_test)\n",
        "col = len(X_test[0])\n",
        "new \n",
        "for i in range(row):\n",
        "    for j in range(col):\n",
        "        X_test[i][j] = X_test[i][j]*10\n",
        "        X_test[i][j] = math.floor(X_test[i][j])\n",
        "    x = X_test[i].astype(np.int)\n",
        "    new = np.vstack([new,x])\n",
        "\n",
        "y = new\n",
        "y = np.absolute(y)\n",
        "X_test = y\n",
        "\n",
        "\n",
        "classifier.fit(X_train)\n",
        "\n",
        "y_pred = classifier.predict(X_test)\n",
        "\n",
        "size = len(y_pred)\n",
        "strings = np.empty(size, np.unicode_)\n",
        "\n",
        "for i in range (size):\n",
        "    if y_pred[i] == 1:\n",
        "      strings[i] = (\"b\")\n",
        "    else:\n",
        "      strings[i] = (\"g\")\n",
        "\n",
        "strings\n",
        "strings = strings[0:246]\n",
        "\n",
        "\n",
        "from sklearn.metrics import classification_report, confusion_matrix, accuracy_score\n",
        "\n",
        "print(\"Confusion Matrix:\")\n",
        "print(confusion_matrix(y_test, strings))\n",
        "\n",
        "print(\"--------------------------------------------------\")\n",
        "print(\"--------------------------------------------------\")\n",
        "\n",
        "\n",
        "print(\"Performance Evaluation\")\n",
        "print(classification_report(y_test, strings))\n",
        "\n",
        "\n",
        "print(\"--------------------------------------------------\")\n",
        "print(\"--------------------------------------------------\")\n",
        "\n",
        "print(\"Accuracy:\")\n",
        "print(accuracy_score(y_test, strings))\n",
        "\n",
        "import matplotlib.pyplot as plt\n",
        "import seaborn as sns\n",
        "cm = confusion_matrix(y_test, strings)\n",
        "sns.heatmap(cm, annot=True, fmt=\"d\",cmap='Blues')\n",
        "plt.show()"
      ],
      "execution_count": null,
      "outputs": [
        {
          "output_type": "stream",
          "name": "stdout",
          "text": [
            "Confusion Matrix:\n",
            "[[ 17  67]\n",
            " [ 31 131]]\n",
            "--------------------------------------------------\n",
            "--------------------------------------------------\n",
            "Performance Evaluation\n",
            "              precision    recall  f1-score   support\n",
            "\n",
            "           b       0.35      0.20      0.26        84\n",
            "           g       0.66      0.81      0.73       162\n",
            "\n",
            "    accuracy                           0.60       246\n",
            "   macro avg       0.51      0.51      0.49       246\n",
            "weighted avg       0.56      0.60      0.57       246\n",
            "\n",
            "--------------------------------------------------\n",
            "--------------------------------------------------\n",
            "Accuracy:\n",
            "0.6016260162601627\n"
          ]
        },
        {
          "output_type": "display_data",
          "data": {
            "image/png": "[encoded data removed]",
            "text/plain": [
              "<Figure size 432x288 with 2 Axes>"
            ]
          },
          "metadata": {
            "needs_background": "light"
          }
        }
      ]
    }
  ]
}