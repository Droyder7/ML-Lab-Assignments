{
  "cells": [
    {
      "cell_type": "markdown",
      "metadata": {
        "id": "Zmsi2yEo5IIs"
      },
      "source": [
        "## Install hmmlearn"
      ]
    },
    {
      "cell_type": "code",
      "execution_count": null,
      "metadata": {
        "colab": {
          "base_uri": "https://localhost:8080/"
        },
        "id": "BNZ8excs3bWE",
        "outputId": "bfc6d4c8-8698-42d6-e05c-9bfe066f97f9"
      },
      "outputs": [
        {
          "name": "stdout",
          "output_type": "stream",
          "text": [
            "Collecting hmmlearn\n",
            "  Downloading hmmlearn-0.2.6-cp37-cp37m-manylinux_2_5_x86_64.manylinux1_x86_64.whl (374 kB)\n",
            "\u001b[?25l\r\u001b[K     |▉                               | 10 kB 26.3 MB/s eta 0:00:01\r\u001b[K     |█▊                              | 20 kB 30.0 MB/s eta 0:00:01\r\u001b[K     |██▋                             | 30 kB 11.7 MB/s eta 0:00:01\r\u001b[K     |███▌                            | 40 kB 9.3 MB/s eta 0:00:01\r\u001b[K     |████▍                           | 51 kB 5.2 MB/s eta 0:00:01\r\u001b[K     |█████▎                          | 61 kB 5.7 MB/s eta 0:00:01\r\u001b[K     |██████▏                         | 71 kB 5.4 MB/s eta 0:00:01\r\u001b[K     |███████                         | 81 kB 6.1 MB/s eta 0:00:01\r\u001b[K     |███████▉                        | 92 kB 4.5 MB/s eta 0:00:01\r\u001b[K     |████████▊                       | 102 kB 4.9 MB/s eta 0:00:01\r\u001b[K     |█████████▋                      | 112 kB 4.9 MB/s eta 0:00:01\r\u001b[K     |██████████▌                     | 122 kB 4.9 MB/s eta 0:00:01\r\u001b[K     |███████████▍                    | 133 kB 4.9 MB/s eta 0:00:01\r\u001b[K     |████████████▎                   | 143 kB 4.9 MB/s eta 0:00:01\r\u001b[K     |█████████████▏                  | 153 kB 4.9 MB/s eta 0:00:01\r\u001b[K     |██████████████                  | 163 kB 4.9 MB/s eta 0:00:01\r\u001b[K     |██████████████▉                 | 174 kB 4.9 MB/s eta 0:00:01\r\u001b[K     |███████████████▊                | 184 kB 4.9 MB/s eta 0:00:01\r\u001b[K     |████████████████▋               | 194 kB 4.9 MB/s eta 0:00:01\r\u001b[K     |█████████████████▌              | 204 kB 4.9 MB/s eta 0:00:01\r\u001b[K     |██████████████████▍             | 215 kB 4.9 MB/s eta 0:00:01\r\u001b[K     |███████████████████▎            | 225 kB 4.9 MB/s eta 0:00:01\r\u001b[K     |████████████████████            | 235 kB 4.9 MB/s eta 0:00:01\r\u001b[K     |█████████████████████           | 245 kB 4.9 MB/s eta 0:00:01\r\u001b[K     |█████████████████████▉          | 256 kB 4.9 MB/s eta 0:00:01\r\u001b[K     |██████████████████████▊         | 266 kB 4.9 MB/s eta 0:00:01\r\u001b[K     |███████████████████████▋        | 276 kB 4.9 MB/s eta 0:00:01\r\u001b[K     |████████████████████████▌       | 286 kB 4.9 MB/s eta 0:00:01\r\u001b[K     |█████████████████████████▍      | 296 kB 4.9 MB/s eta 0:00:01\r\u001b[K     |██████████████████████████▎     | 307 kB 4.9 MB/s eta 0:00:01\r\u001b[K     |███████████████████████████     | 317 kB 4.9 MB/s eta 0:00:01\r\u001b[K     |████████████████████████████    | 327 kB 4.9 MB/s eta 0:00:01\r\u001b[K     |████████████████████████████▉   | 337 kB 4.9 MB/s eta 0:00:01\r\u001b[K     |█████████████████████████████▊  | 348 kB 4.9 MB/s eta 0:00:01\r\u001b[K     |██████████████████████████████▋ | 358 kB 4.9 MB/s eta 0:00:01\r\u001b[K     |███████████████████████████████▌| 368 kB 4.9 MB/s eta 0:00:01\r\u001b[K     |████████████████████████████████| 374 kB 4.9 MB/s \n",
            "\u001b[?25hRequirement already satisfied: scipy>=0.19 in /usr/local/lib/python3.7/dist-packages (from hmmlearn) (1.4.1)\n",
            "Requirement already satisfied: numpy>=1.10 in /usr/local/lib/python3.7/dist-packages (from hmmlearn) (1.19.5)\n",
            "Requirement already satisfied: scikit-learn>=0.16 in /usr/local/lib/python3.7/dist-packages (from hmmlearn) (0.22.2.post1)\n",
            "Requirement already satisfied: joblib>=0.11 in /usr/local/lib/python3.7/dist-packages (from scikit-learn>=0.16->hmmlearn) (1.0.1)\n",
            "Installing collected packages: hmmlearn\n",
            "Successfully installed hmmlearn-0.2.6\n"
          ]
        }
      ],
      "source": [
        "! pip install hmmlearn"
      ]
    },
    {
      "cell_type": "markdown",
      "metadata": {
        "id": "UE5cxFjn5ORe"
      },
      "source": [
        "# GaussianHMM classifier"
      ]
    },
    {
      "cell_type": "markdown",
      "metadata": {
        "id": "Io3DRFqr5YWm"
      },
      "source": [
        "## Without Tuning"
      ]
    },
    {
      "cell_type": "markdown",
      "metadata": {
        "id": "TrFHAy1z5b91"
      },
      "source": [
        "### Train : Test = 70 : 30"
      ]
    },
    {
      "cell_type": "code",
      "execution_count": null,
      "metadata": {
        "colab": {
          "base_uri": "https://localhost:8080/",
          "height": 599
        },
        "id": "tK_VUQp_zcdU",
        "outputId": "c86626f4-cd16-423a-efb7-937bab5d5db5"
      },
      "outputs": [
        {
          "name": "stdout",
          "output_type": "stream",
          "text": [
            "Confusion Matrix:\n",
            "[[107   7]\n",
            " [  6  51]]\n",
            "--------------------------------------------------\n",
            "--------------------------------------------------\n",
            "Performance Evaluation\n",
            "              precision    recall  f1-score   support\n",
            "\n",
            "           B       0.95      0.94      0.94       114\n",
            "           M       0.88      0.89      0.89        57\n",
            "\n",
            "    accuracy                           0.92       171\n",
            "   macro avg       0.91      0.92      0.91       171\n",
            "weighted avg       0.92      0.92      0.92       171\n",
            "\n",
            "--------------------------------------------------\n",
            "--------------------------------------------------\n",
            "Accuracy:\n",
            "0.9239766081871345\n"
          ]
        },
        {
          "data": {
            "image/png": "[encoded data removed]",
            "text/plain": [
              "<Figure size 432x288 with 2 Axes>"
            ]
          },
          "metadata": {
            "needs_background": "light"
          },
          "output_type": "display_data"
        }
      ],
      "source": [
        "import pandas as pd\n",
        "import numpy as np\n",
        "\n",
        "# Dataset Preparation\n",
        "df = pd.read_csv(\"https://archive.ics.uci.edu/ml/machine-learning-databases/breast-cancer-wisconsin/wdbc.data\",header=None)\n",
        "\n",
        "df.columns = ['1','Class','3','4','5','6','7','8','9','10','11','12','13','14','15','16','17','18','19'\n",
        "           ,'20','21','22','23','24','25','26','27','28','29','30','31','32']\n",
        "\n",
        "\n",
        "X = df.drop(['1','Class'], axis=1)\n",
        "y = df['Class']\n",
        "\n",
        "from sklearn.model_selection import train_test_split\n",
        "\n",
        "X_train, X_test, y_train, y_test = train_test_split(X,y, test_size=0.3)\n",
        "\n",
        "# Feature Scaling \n",
        "from sklearn.preprocessing import StandardScaler\n",
        "\n",
        "sc = StandardScaler()\n",
        "X_train = sc.fit_transform(X_train)\n",
        "X_test = sc.transform(X_test)\n",
        "\n",
        "# Classification\n",
        "from hmmlearn import hmm\n",
        "\n",
        "classifier = hmm.GaussianHMM(n_components=2, covariance_type=\"full\")\n",
        "classifier.fit(X_train)\n",
        "\n",
        "y_pred = classifier.predict(X_test)\n",
        "\n",
        "size = len(y_pred)\n",
        "strings = np.empty(size, np.unicode_)\n",
        "\n",
        "for i in range (size):\n",
        "    if y_pred[i] == 1:\n",
        "      strings[i] = (\"M\")\n",
        "    else:\n",
        "      strings[i] = (\"B\")\n",
        "\n",
        "from sklearn.metrics import classification_report, confusion_matrix, accuracy_score\n",
        "\n",
        "print(\"Confusion Matrix:\")\n",
        "cm = confusion_matrix(y_test, strings)\n",
        "print(cm)\n",
        "\n",
        "print(\"--------------------------------------------------\")\n",
        "print(\"--------------------------------------------------\")\n",
        "\n",
        "\n",
        "print(\"Performance Evaluation\")\n",
        "print(classification_report(y_test, strings))\n",
        "\n",
        "\n",
        "print(\"--------------------------------------------------\")\n",
        "print(\"--------------------------------------------------\")\n",
        "\n",
        "print(\"Accuracy:\")\n",
        "print(accuracy_score(y_test, strings))\n",
        "\n",
        "import matplotlib.pyplot as plt\n",
        "import seaborn as sns\n",
        "sns.heatmap(cm, annot=True, fmt=\"d\")\n",
        "plt.show()"
      ]
    },
    {
      "cell_type": "markdown",
      "metadata": {
        "id": "B4fPhZzd53rj"
      },
      "source": [
        "### Train : Test = 60 : 40"
      ]
    },
    {
      "cell_type": "code",
      "execution_count": null,
      "metadata": {
        "colab": {
          "base_uri": "https://localhost:8080/",
          "height": 599
        },
        "id": "22eGz_93M-zq",
        "outputId": "5267122a-b0a8-40e2-89a3-1ad6bfe2fb3f"
      },
      "outputs": [
        {
          "name": "stdout",
          "output_type": "stream",
          "text": [
            "Confusion Matrix:\n",
            "[[131  11]\n",
            " [ 12  74]]\n",
            "--------------------------------------------------\n",
            "--------------------------------------------------\n",
            "Performance Evaluation\n",
            "              precision    recall  f1-score   support\n",
            "\n",
            "           B       0.92      0.92      0.92       142\n",
            "           M       0.87      0.86      0.87        86\n",
            "\n",
            "    accuracy                           0.90       228\n",
            "   macro avg       0.89      0.89      0.89       228\n",
            "weighted avg       0.90      0.90      0.90       228\n",
            "\n",
            "--------------------------------------------------\n",
            "--------------------------------------------------\n",
            "Accuracy:\n",
            "0.8991228070175439\n"
          ]
        },
        {
          "data": {
            "image/png": "[encoded data removed]",
            "text/plain": [
              "<Figure size 432x288 with 2 Axes>"
            ]
          },
          "metadata": {
            "needs_background": "light"
          },
          "output_type": "display_data"
        }
      ],
      "source": [
        "import pandas as pd\n",
        "import numpy as np\n",
        "\n",
        "# Dataset Preparation\n",
        "df = pd.read_csv(\"https://archive.ics.uci.edu/ml/machine-learning-databases/breast-cancer-wisconsin/wdbc.data\",header=None)\n",
        "\n",
        "df.columns = ['1','Class','3','4','5','6','7','8','9','10','11','12','13','14','15','16','17','18','19'\n",
        "           ,'20','21','22','23','24','25','26','27','28','29','30','31','32']\n",
        "\n",
        "\n",
        "X = df.drop(['1','Class'], axis=1)\n",
        "y = df['Class']\n",
        "\n",
        "from sklearn.model_selection import train_test_split\n",
        "\n",
        "X_train, X_test, y_train, y_test = train_test_split(X,y, test_size=0.4)\n",
        "\n",
        "# Feature Scaling \n",
        "from sklearn.preprocessing import StandardScaler\n",
        "\n",
        "sc = StandardScaler()\n",
        "X_train = sc.fit_transform(X_train)\n",
        "X_test = sc.transform(X_test)\n",
        "\n",
        "# Classification\n",
        "from hmmlearn import hmm\n",
        "\n",
        "classifier = hmm.GaussianHMM(n_components=2, covariance_type=\"full\")\n",
        "classifier.fit(X_train)\n",
        "\n",
        "y_pred = classifier.predict(X_test)\n",
        "\n",
        "size = len(y_pred)\n",
        "strings = np.empty(size, np.unicode_)\n",
        "\n",
        "for i in range (size):\n",
        "    if y_pred[i] == 1:\n",
        "      strings[i] = (\"M\")\n",
        "    else:\n",
        "      strings[i] = (\"B\")\n",
        "\n",
        "from sklearn.metrics import classification_report, confusion_matrix, accuracy_score\n",
        "\n",
        "print(\"Confusion Matrix:\")\n",
        "cm = confusion_matrix(y_test, strings)\n",
        "print(cm)\n",
        "\n",
        "print(\"--------------------------------------------------\")\n",
        "print(\"--------------------------------------------------\")\n",
        "\n",
        "\n",
        "print(\"Performance Evaluation\")\n",
        "print(classification_report(y_test, strings))\n",
        "\n",
        "\n",
        "print(\"--------------------------------------------------\")\n",
        "print(\"--------------------------------------------------\")\n",
        "\n",
        "print(\"Accuracy:\")\n",
        "print(accuracy_score(y_test, strings))\n",
        "\n",
        "import matplotlib.pyplot as plt\n",
        "import seaborn as sns\n",
        "sns.heatmap(cm, annot=True, fmt=\"d\")\n",
        "plt.show()"
      ]
    },
    {
      "cell_type": "markdown",
      "metadata": {
        "id": "38nBCUgs8AbT"
      },
      "source": [
        "### Train : Test = 50 : 50"
      ]
    },
    {
      "cell_type": "code",
      "execution_count": null,
      "metadata": {
        "colab": {
          "base_uri": "https://localhost:8080/",
          "height": 602
        },
        "id": "baAKzc-4M_tM",
        "outputId": "9479cddc-1e01-470f-9e66-b4405d51b14c"
      },
      "outputs": [
        {
          "name": "stdout",
          "output_type": "stream",
          "text": [
            "Confusion Matrix:\n",
            "[[181  11]\n",
            " [ 11  82]]\n",
            "--------------------------------------------------\n",
            "--------------------------------------------------\n",
            "Performance Evaluation\n",
            "              precision    recall  f1-score   support\n",
            "\n",
            "           B       0.94      0.94      0.94       192\n",
            "           M       0.88      0.88      0.88        93\n",
            "\n",
            "    accuracy                           0.92       285\n",
            "   macro avg       0.91      0.91      0.91       285\n",
            "weighted avg       0.92      0.92      0.92       285\n",
            "\n",
            "--------------------------------------------------\n",
            "--------------------------------------------------\n",
            "Accuracy:\n",
            "0.9228070175438596\n"
          ]
        },
        {
          "data": {
            "image/png": "[encoded data removed]",
            "text/plain": [
              "<Figure size 432x288 with 2 Axes>"
            ]
          },
          "metadata": {
            "needs_background": "light"
          },
          "output_type": "display_data"
        }
      ],
      "source": [
        "import pandas as pd\n",
        "import numpy as np\n",
        "\n",
        "# Dataset Preparation\n",
        "df = pd.read_csv(\"https://archive.ics.uci.edu/ml/machine-learning-databases/breast-cancer-wisconsin/wdbc.data\",header=None)\n",
        "\n",
        "df.columns = ['1','Class','3','4','5','6','7','8','9','10','11','12','13','14','15','16','17','18','19'\n",
        "           ,'20','21','22','23','24','25','26','27','28','29','30','31','32']\n",
        "\n",
        "\n",
        "X = df.drop(['1','Class'], axis=1)\n",
        "y = df['Class']\n",
        "\n",
        "from sklearn.model_selection import train_test_split\n",
        "\n",
        "X_train, X_test, y_train, y_test = train_test_split(X,y, test_size=0.5)\n",
        "\n",
        "# Feature Scaling \n",
        "from sklearn.preprocessing import StandardScaler\n",
        "\n",
        "sc = StandardScaler()\n",
        "X_train = sc.fit_transform(X_train)\n",
        "X_test = sc.transform(X_test)\n",
        "\n",
        "# Classification\n",
        "from hmmlearn import hmm\n",
        "\n",
        "classifier = hmm.GaussianHMM(n_components=2, covariance_type=\"full\")\n",
        "classifier.fit(X_train)\n",
        "\n",
        "y_pred = classifier.predict(X_test)\n",
        "\n",
        "size = len(y_pred)\n",
        "strings = np.empty(size, np.unicode_)\n",
        "\n",
        "for i in range (size):\n",
        "    if y_pred[i] == 1:\n",
        "      strings[i] = (\"M\")\n",
        "    else:\n",
        "      strings[i] = (\"B\")\n",
        "\n",
        "from sklearn.metrics import classification_report, confusion_matrix, accuracy_score\n",
        "\n",
        "print(\"Confusion Matrix:\")\n",
        "cm = confusion_matrix(y_test, strings)\n",
        "print(cm)\n",
        "\n",
        "print(\"--------------------------------------------------\")\n",
        "print(\"--------------------------------------------------\")\n",
        "\n",
        "\n",
        "print(\"Performance Evaluation\")\n",
        "print(classification_report(y_test, strings))\n",
        "\n",
        "\n",
        "print(\"--------------------------------------------------\")\n",
        "print(\"--------------------------------------------------\")\n",
        "\n",
        "print(\"Accuracy:\")\n",
        "print(accuracy_score(y_test, strings))\n",
        "\n",
        "import matplotlib.pyplot as plt\n",
        "import seaborn as sns\n",
        "sns.heatmap(cm, annot=True, fmt=\"d\")\n",
        "plt.show()"
      ]
    },
    {
      "cell_type": "markdown",
      "metadata": {
        "id": "JyNAZHv_8ETc"
      },
      "source": [
        "### Train : Test = 40 : 60"
      ]
    },
    {
      "cell_type": "code",
      "execution_count": null,
      "metadata": {
        "colab": {
          "base_uri": "https://localhost:8080/",
          "height": 599
        },
        "id": "Esx1XeDjNGN6",
        "outputId": "35c3d306-0d43-45ce-93c4-688cc99f6b5e"
      },
      "outputs": [
        {
          "name": "stdout",
          "output_type": "stream",
          "text": [
            "Confusion Matrix:\n",
            "[[199  17]\n",
            " [ 18 108]]\n",
            "--------------------------------------------------\n",
            "--------------------------------------------------\n",
            "Performance Evaluation\n",
            "              precision    recall  f1-score   support\n",
            "\n",
            "           B       0.92      0.92      0.92       216\n",
            "           M       0.86      0.86      0.86       126\n",
            "\n",
            "    accuracy                           0.90       342\n",
            "   macro avg       0.89      0.89      0.89       342\n",
            "weighted avg       0.90      0.90      0.90       342\n",
            "\n",
            "--------------------------------------------------\n",
            "--------------------------------------------------\n",
            "Accuracy:\n",
            "0.8976608187134503\n"
          ]
        },
        {
          "data": {
            "image/png": "[encoded data removed]",
            "text/plain": [
              "<Figure size 432x288 with 2 Axes>"
            ]
          },
          "metadata": {
            "needs_background": "light"
          },
          "output_type": "display_data"
        }
      ],
      "source": [
        "import pandas as pd\n",
        "import numpy as np\n",
        "\n",
        "# Dataset Preparation\n",
        "df = pd.read_csv(\"https://archive.ics.uci.edu/ml/machine-learning-databases/breast-cancer-wisconsin/wdbc.data\",header=None)\n",
        "\n",
        "df.columns = ['1','Class','3','4','5','6','7','8','9','10','11','12','13','14','15','16','17','18','19'\n",
        "           ,'20','21','22','23','24','25','26','27','28','29','30','31','32']\n",
        "\n",
        "\n",
        "X = df.drop(['1','Class'], axis=1)\n",
        "y = df['Class']\n",
        "\n",
        "from sklearn.model_selection import train_test_split\n",
        "\n",
        "X_train, X_test, y_train, y_test = train_test_split(X,y, test_size=0.6)\n",
        "\n",
        "# Feature Scaling \n",
        "from sklearn.preprocessing import StandardScaler\n",
        "\n",
        "sc = StandardScaler()\n",
        "X_train = sc.fit_transform(X_train)\n",
        "X_test = sc.transform(X_test)\n",
        "\n",
        "# Classification\n",
        "from hmmlearn import hmm\n",
        "\n",
        "classifier = hmm.GaussianHMM(n_components=2, covariance_type=\"full\")\n",
        "classifier.fit(X_train)\n",
        "\n",
        "y_pred = classifier.predict(X_test)\n",
        "\n",
        "size = len(y_pred)\n",
        "strings = np.empty(size, np.unicode_)\n",
        "\n",
        "for i in range (size):\n",
        "    if y_pred[i] == 1:\n",
        "      strings[i] = (\"M\")\n",
        "    else:\n",
        "      strings[i] = (\"B\")\n",
        "\n",
        "from sklearn.metrics import classification_report, confusion_matrix, accuracy_score\n",
        "\n",
        "print(\"Confusion Matrix:\")\n",
        "cm = confusion_matrix(y_test, strings)\n",
        "print(cm)\n",
        "\n",
        "print(\"--------------------------------------------------\")\n",
        "print(\"--------------------------------------------------\")\n",
        "\n",
        "\n",
        "print(\"Performance Evaluation\")\n",
        "print(classification_report(y_test, strings))\n",
        "\n",
        "\n",
        "print(\"--------------------------------------------------\")\n",
        "print(\"--------------------------------------------------\")\n",
        "\n",
        "print(\"Accuracy:\")\n",
        "print(accuracy_score(y_test, strings))\n",
        "\n",
        "import matplotlib.pyplot as plt\n",
        "import seaborn as sns\n",
        "sns.heatmap(cm, annot=True, fmt=\"d\")\n",
        "plt.show()"
      ]
    },
    {
      "cell_type": "markdown",
      "metadata": {
        "id": "4KxP9KU88PVL"
      },
      "source": [
        "### Train : Test = 30 : 70"
      ]
    },
    {
      "cell_type": "code",
      "execution_count": null,
      "metadata": {
        "colab": {
          "base_uri": "https://localhost:8080/",
          "height": 599
        },
        "id": "J40hrLMYP75r",
        "outputId": "5ecbf3d7-1df2-45d8-9f73-b25392fdb1c7"
      },
      "outputs": [
        {
          "name": "stdout",
          "output_type": "stream",
          "text": [
            "Confusion Matrix:\n",
            "[[232  23]\n",
            " [ 27 117]]\n",
            "--------------------------------------------------\n",
            "--------------------------------------------------\n",
            "Performance Evaluation\n",
            "              precision    recall  f1-score   support\n",
            "\n",
            "           B       0.90      0.91      0.90       255\n",
            "           M       0.84      0.81      0.82       144\n",
            "\n",
            "    accuracy                           0.87       399\n",
            "   macro avg       0.87      0.86      0.86       399\n",
            "weighted avg       0.87      0.87      0.87       399\n",
            "\n",
            "--------------------------------------------------\n",
            "--------------------------------------------------\n",
            "Accuracy:\n",
            "0.87468671679198\n"
          ]
        },
        {
          "data": {
            "image/png": "[encoded data removed]",
            "text/plain": [
              "<Figure size 432x288 with 2 Axes>"
            ]
          },
          "metadata": {
            "needs_background": "light"
          },
          "output_type": "display_data"
        }
      ],
      "source": [
        "import pandas as pd\n",
        "import numpy as np\n",
        "\n",
        "# Dataset Preparation\n",
        "df = pd.read_csv(\"https://archive.ics.uci.edu/ml/machine-learning-databases/breast-cancer-wisconsin/wdbc.data\",header=None)\n",
        "\n",
        "df.columns = ['1','Class','3','4','5','6','7','8','9','10','11','12','13','14','15','16','17','18','19'\n",
        "           ,'20','21','22','23','24','25','26','27','28','29','30','31','32']\n",
        "\n",
        "\n",
        "X = df.drop(['1','Class'], axis=1)\n",
        "y = df['Class']\n",
        "\n",
        "from sklearn.model_selection import train_test_split\n",
        "\n",
        "X_train, X_test, y_train, y_test = train_test_split(X,y, test_size=0.7)\n",
        "\n",
        "# Feature Scaling \n",
        "from sklearn.preprocessing import StandardScaler\n",
        "\n",
        "sc = StandardScaler()\n",
        "X_train = sc.fit_transform(X_train)\n",
        "X_test = sc.transform(X_test)\n",
        "\n",
        "# Classification\n",
        "from hmmlearn import hmm\n",
        "\n",
        "classifier = hmm.GaussianHMM(n_components=2, covariance_type=\"full\")\n",
        "classifier.fit(X_train)\n",
        "\n",
        "y_pred = classifier.predict(X_test)\n",
        "\n",
        "size = len(y_pred)\n",
        "strings = np.empty(size, np.unicode_)\n",
        "\n",
        "for i in range (size):\n",
        "    if y_pred[i] == 1:\n",
        "      strings[i] = (\"M\")\n",
        "    else:\n",
        "      strings[i] = (\"B\")\n",
        "\n",
        "from sklearn.metrics import classification_report, confusion_matrix, accuracy_score\n",
        "\n",
        "print(\"Confusion Matrix:\")\n",
        "cm = confusion_matrix(y_test, strings)\n",
        "print(cm)\n",
        "\n",
        "print(\"--------------------------------------------------\")\n",
        "print(\"--------------------------------------------------\")\n",
        "\n",
        "\n",
        "print(\"Performance Evaluation\")\n",
        "print(classification_report(y_test, strings))\n",
        "\n",
        "\n",
        "print(\"--------------------------------------------------\")\n",
        "print(\"--------------------------------------------------\")\n",
        "\n",
        "print(\"Accuracy:\")\n",
        "print(accuracy_score(y_test, strings))\n",
        "\n",
        "import matplotlib.pyplot as plt\n",
        "import seaborn as sns\n",
        "sns.heatmap(cm, annot=True, fmt=\"d\")\n",
        "plt.show()"
      ]
    },
    {
      "cell_type": "markdown",
      "metadata": {
        "id": "MCDWj81p8Svs"
      },
      "source": [
        "## With Tuning"
      ]
    },
    {
      "cell_type": "markdown",
      "metadata": {
        "id": "1tCBX66q9bp3"
      },
      "source": [
        "### Train : Test = 70 : 30"
      ]
    },
    {
      "cell_type": "code",
      "execution_count": null,
      "metadata": {
        "colab": {
          "base_uri": "https://localhost:8080/",
          "height": 670
        },
        "id": "kXt9fdnEwToU",
        "outputId": "6cd93929-0ab5-46e7-a99d-c4ceaf9caff6"
      },
      "outputs": [
        {
          "name": "stdout",
          "output_type": "stream",
          "text": [
            "{'algorithm': ['viterbi', 'map'],\n",
            " 'covariance_type': ['spherical', 'tied', 'full', 'diag'],\n",
            " 'n_iter': [10, 257, 505, 752, 1000]}\n",
            "\n",
            "Confusion Matrix:\n",
            "[[99  8]\n",
            " [ 4 60]]\n",
            "--------------------------------------------------\n",
            "--------------------------------------------------\n",
            "Performance Evaluation\n",
            "              precision    recall  f1-score   support\n",
            "\n",
            "           B       0.96      0.93      0.94       107\n",
            "           M       0.88      0.94      0.91        64\n",
            "\n",
            "    accuracy                           0.93       171\n",
            "   macro avg       0.92      0.93      0.93       171\n",
            "weighted avg       0.93      0.93      0.93       171\n",
            "\n",
            "--------------------------------------------------\n",
            "--------------------------------------------------\n",
            "Accuracy:\n",
            "0.9298245614035088\n"
          ]
        },
        {
          "data": {
            "image/png": "[encoded data removed]",
            "text/plain": [
              "<Figure size 432x288 with 2 Axes>"
            ]
          },
          "metadata": {
            "needs_background": "light"
          },
          "output_type": "display_data"
        }
      ],
      "source": [
        "import pandas as pd\n",
        "import numpy as np\n",
        "\n",
        "# Dataset Preparation\n",
        "df = pd.read_csv(\"https://archive.ics.uci.edu/ml/machine-learning-databases/breast-cancer-wisconsin/wdbc.data\",header=None)\n",
        "\n",
        "df.columns = ['1','Class','3','4','5','6','7','8','9','10','11','12','13','14','15','16','17','18','19'\n",
        "           ,'20','21','22','23','24','25','26','27','28','29','30','31','32']\n",
        "\n",
        "\n",
        "X = df.drop(['1','Class'], axis=1)\n",
        "y = df['Class']\n",
        "\n",
        "from sklearn.model_selection import train_test_split\n",
        "\n",
        "X_train, X_test, y_train, y_test = train_test_split(X,y, test_size=0.3)\n",
        "\n",
        "# Feature Scaling \n",
        "from sklearn.preprocessing import StandardScaler\n",
        "\n",
        "sc = StandardScaler()\n",
        "X_train = sc.fit_transform(X_train)\n",
        "X_test = sc.transform(X_test)\n",
        "\n",
        "# values for random grid\n",
        "n_components = [int(x) for x in np.linspace(1,5, num = 5)]\n",
        "\n",
        "covariance_type = ['spherical', 'tied', 'full', 'diag']\n",
        "\n",
        "algorithm = ['viterbi', 'map']\n",
        "\n",
        "n_iter = [int(x) for x in np.linspace(10, 1000, num = 5)]\n",
        "\n",
        "# Create the random grid\n",
        "random_grid = {\n",
        "               'covariance_type': covariance_type,\n",
        "               'algorithm': algorithm,\n",
        "               'n_iter': n_iter}\n",
        "\n",
        "from pprint import pprint\n",
        "\n",
        "pprint(random_grid)\n",
        "print()\n",
        "\n",
        "# Classification\n",
        "from hmmlearn import hmm\n",
        "\n",
        "classifier = hmm.GaussianHMM(n_components=2)\n",
        "\n",
        "from sklearn.model_selection import GridSearchCV\n",
        "rf_random = GridSearchCV(classifier, random_grid, refit=True)\n",
        "\n",
        "rf_random.fit(X_train)\n",
        "\n",
        "y_pred = rf_random.predict(X_test)\n",
        "\n",
        "size = len(y_pred)\n",
        "strings = np.empty(size, np.unicode_)\n",
        "\n",
        "for i in range (size):\n",
        "    if y_pred[i] == 1:\n",
        "      strings[i] = (\"M\")\n",
        "    else:\n",
        "      strings[i] = (\"B\")\n",
        "\n",
        "from sklearn.metrics import classification_report, confusion_matrix, accuracy_score\n",
        "\n",
        "print(\"Confusion Matrix:\")\n",
        "cm = confusion_matrix(y_test, strings)\n",
        "print(cm)\n",
        "\n",
        "print(\"--------------------------------------------------\")\n",
        "print(\"--------------------------------------------------\")\n",
        "\n",
        "\n",
        "print(\"Performance Evaluation\")\n",
        "print(classification_report(y_test, strings))\n",
        "\n",
        "\n",
        "print(\"--------------------------------------------------\")\n",
        "print(\"--------------------------------------------------\")\n",
        "\n",
        "print(\"Accuracy:\")\n",
        "print(accuracy_score(y_test, strings))\n",
        "\n",
        "import matplotlib.pyplot as plt\n",
        "import seaborn as sns\n",
        "sns.heatmap(cm, annot=True, fmt=\"d\")\n",
        "plt.show()"
      ]
    },
    {
      "cell_type": "markdown",
      "metadata": {
        "id": "zH06QDRA-Ind"
      },
      "source": [
        "### Train : Test = 60 : 40"
      ]
    },
    {
      "cell_type": "code",
      "execution_count": null,
      "metadata": {
        "colab": {
          "base_uri": "https://localhost:8080/",
          "height": 670
        },
        "id": "VuqizMLp-Ine",
        "outputId": "e708b22c-bf13-4599-bc7a-b1f6fd4acc5a"
      },
      "outputs": [
        {
          "name": "stdout",
          "output_type": "stream",
          "text": [
            "{'algorithm': ['viterbi', 'map'],\n",
            " 'covariance_type': ['spherical', 'tied', 'full', 'diag'],\n",
            " 'n_iter': [10, 257, 505, 752, 1000]}\n",
            "\n",
            "Confusion Matrix:\n",
            "[[126   9]\n",
            " [  5  88]]\n",
            "--------------------------------------------------\n",
            "--------------------------------------------------\n",
            "Performance Evaluation\n",
            "              precision    recall  f1-score   support\n",
            "\n",
            "           B       0.96      0.93      0.95       135\n",
            "           M       0.91      0.95      0.93        93\n",
            "\n",
            "    accuracy                           0.94       228\n",
            "   macro avg       0.93      0.94      0.94       228\n",
            "weighted avg       0.94      0.94      0.94       228\n",
            "\n",
            "--------------------------------------------------\n",
            "--------------------------------------------------\n",
            "Accuracy:\n",
            "0.9385964912280702\n"
          ]
        },
        {
          "data": {
            "image/png": "[encoded data removed]",
            "text/plain": [
              "<Figure size 432x288 with 2 Axes>"
            ]
          },
          "metadata": {
            "needs_background": "light"
          },
          "output_type": "display_data"
        }
      ],
      "source": [
        "import pandas as pd\n",
        "import numpy as np\n",
        "\n",
        "# Dataset Preparation\n",
        "df = pd.read_csv(\"https://archive.ics.uci.edu/ml/machine-learning-databases/breast-cancer-wisconsin/wdbc.data\",header=None)\n",
        "\n",
        "df.columns = ['1','Class','3','4','5','6','7','8','9','10','11','12','13','14','15','16','17','18','19'\n",
        "           ,'20','21','22','23','24','25','26','27','28','29','30','31','32']\n",
        "\n",
        "\n",
        "X = df.drop(['1','Class'], axis=1)\n",
        "y = df['Class']\n",
        "\n",
        "from sklearn.model_selection import train_test_split\n",
        "\n",
        "X_train, X_test, y_train, y_test = train_test_split(X,y, test_size=0.4)\n",
        "\n",
        "# Feature Scaling \n",
        "from sklearn.preprocessing import StandardScaler\n",
        "\n",
        "sc = StandardScaler()\n",
        "X_train = sc.fit_transform(X_train)\n",
        "X_test = sc.transform(X_test)\n",
        "\n",
        "# values for random grid\n",
        "n_components = [int(x) for x in np.linspace(1,5, num = 5)]\n",
        "\n",
        "covariance_type = ['spherical', 'tied', 'full', 'diag']\n",
        "\n",
        "algorithm = ['viterbi', 'map']\n",
        "\n",
        "n_iter = [int(x) for x in np.linspace(10, 1000, num = 5)]\n",
        "\n",
        "# Create the random grid\n",
        "random_grid = {\n",
        "               'covariance_type': covariance_type,\n",
        "               'algorithm': algorithm,\n",
        "               'n_iter': n_iter}\n",
        "\n",
        "from pprint import pprint\n",
        "\n",
        "pprint(random_grid)\n",
        "print()\n",
        "\n",
        "# Classification\n",
        "from hmmlearn import hmm\n",
        "\n",
        "classifier = hmm.GaussianHMM(n_components=2)\n",
        "\n",
        "from sklearn.model_selection import GridSearchCV\n",
        "rf_random = GridSearchCV(classifier, random_grid, refit=True)\n",
        "\n",
        "rf_random.fit(X_train)\n",
        "\n",
        "y_pred = rf_random.predict(X_test)\n",
        "\n",
        "size = len(y_pred)\n",
        "strings = np.empty(size, np.unicode_)\n",
        "\n",
        "for i in range (size):\n",
        "    if y_pred[i] == 1:\n",
        "      strings[i] = (\"M\")\n",
        "    else:\n",
        "      strings[i] = (\"B\")\n",
        "\n",
        "from sklearn.metrics import classification_report, confusion_matrix, accuracy_score\n",
        "\n",
        "print(\"Confusion Matrix:\")\n",
        "cm = confusion_matrix(y_test, strings)\n",
        "print(cm)\n",
        "\n",
        "print(\"--------------------------------------------------\")\n",
        "print(\"--------------------------------------------------\")\n",
        "\n",
        "\n",
        "print(\"Performance Evaluation\")\n",
        "print(classification_report(y_test, strings))\n",
        "\n",
        "\n",
        "print(\"--------------------------------------------------\")\n",
        "print(\"--------------------------------------------------\")\n",
        "\n",
        "print(\"Accuracy:\")\n",
        "print(accuracy_score(y_test, strings))\n",
        "\n",
        "import matplotlib.pyplot as plt\n",
        "import seaborn as sns\n",
        "sns.heatmap(cm, annot=True, fmt=\"d\")\n",
        "plt.show()"
      ]
    },
    {
      "cell_type": "markdown",
      "metadata": {
        "id": "gt-DkXb1-ZmU"
      },
      "source": [
        "### Train : Test = 50 : 50"
      ]
    },
    {
      "cell_type": "code",
      "execution_count": null,
      "metadata": {
        "colab": {
          "base_uri": "https://localhost:8080/",
          "height": 670
        },
        "id": "YZq0ay-6-ZmV",
        "outputId": "11852f3d-aac9-459c-c169-26dc43a0a679"
      },
      "outputs": [
        {
          "name": "stdout",
          "output_type": "stream",
          "text": [
            "{'algorithm': ['viterbi', 'map'],\n",
            " 'covariance_type': ['spherical', 'tied', 'full', 'diag'],\n",
            " 'n_iter': [10, 257, 505, 752, 1000]}\n",
            "\n",
            "Confusion Matrix:\n",
            "[[167  13]\n",
            " [  6  99]]\n",
            "--------------------------------------------------\n",
            "--------------------------------------------------\n",
            "Performance Evaluation\n",
            "              precision    recall  f1-score   support\n",
            "\n",
            "           B       0.97      0.93      0.95       180\n",
            "           M       0.88      0.94      0.91       105\n",
            "\n",
            "    accuracy                           0.93       285\n",
            "   macro avg       0.92      0.94      0.93       285\n",
            "weighted avg       0.94      0.93      0.93       285\n",
            "\n",
            "--------------------------------------------------\n",
            "--------------------------------------------------\n",
            "Accuracy:\n",
            "0.9333333333333333\n"
          ]
        },
        {
          "data": {
            "image/png": "[encoded data removed]",
            "text/plain": [
              "<Figure size 432x288 with 2 Axes>"
            ]
          },
          "metadata": {
            "needs_background": "light"
          },
          "output_type": "display_data"
        }
      ],
      "source": [
        "import pandas as pd\n",
        "import numpy as np\n",
        "\n",
        "# Dataset Preparation\n",
        "df = pd.read_csv(\"https://archive.ics.uci.edu/ml/machine-learning-databases/breast-cancer-wisconsin/wdbc.data\",header=None)\n",
        "\n",
        "df.columns = ['1','Class','3','4','5','6','7','8','9','10','11','12','13','14','15','16','17','18','19'\n",
        "           ,'20','21','22','23','24','25','26','27','28','29','30','31','32']\n",
        "\n",
        "\n",
        "X = df.drop(['1','Class'], axis=1)\n",
        "y = df['Class']\n",
        "\n",
        "from sklearn.model_selection import train_test_split\n",
        "\n",
        "X_train, X_test, y_train, y_test = train_test_split(X,y, test_size=0.5)\n",
        "\n",
        "# Feature Scaling \n",
        "from sklearn.preprocessing import StandardScaler\n",
        "\n",
        "sc = StandardScaler()\n",
        "X_train = sc.fit_transform(X_train)\n",
        "X_test = sc.transform(X_test)\n",
        "\n",
        "# values for random grid\n",
        "n_components = [int(x) for x in np.linspace(1,5, num = 5)]\n",
        "\n",
        "covariance_type = ['spherical', 'tied', 'full', 'diag']\n",
        "\n",
        "algorithm = ['viterbi', 'map']\n",
        "\n",
        "n_iter = [int(x) for x in np.linspace(10, 1000, num = 5)]\n",
        "\n",
        "# Create the random grid\n",
        "random_grid = {\n",
        "               'covariance_type': covariance_type,\n",
        "               'algorithm': algorithm,\n",
        "               'n_iter': n_iter}\n",
        "\n",
        "from pprint import pprint\n",
        "\n",
        "pprint(random_grid)\n",
        "print()\n",
        "\n",
        "# Classification\n",
        "from hmmlearn import hmm\n",
        "\n",
        "classifier = hmm.GaussianHMM(n_components=2)\n",
        "\n",
        "from sklearn.model_selection import GridSearchCV\n",
        "rf_random = GridSearchCV(classifier, random_grid, refit=True)\n",
        "\n",
        "rf_random.fit(X_train)\n",
        "\n",
        "y_pred = rf_random.predict(X_test)\n",
        "\n",
        "size = len(y_pred)\n",
        "strings = np.empty(size, np.unicode_)\n",
        "\n",
        "for i in range (size):\n",
        "    if y_pred[i] == 1:\n",
        "      strings[i] = (\"M\")\n",
        "    else:\n",
        "      strings[i] = (\"B\")\n",
        "\n",
        "from sklearn.metrics import classification_report, confusion_matrix, accuracy_score\n",
        "\n",
        "print(\"Confusion Matrix:\")\n",
        "cm = confusion_matrix(y_test, strings)\n",
        "print(cm)\n",
        "\n",
        "print(\"--------------------------------------------------\")\n",
        "print(\"--------------------------------------------------\")\n",
        "\n",
        "\n",
        "print(\"Performance Evaluation\")\n",
        "print(classification_report(y_test, strings))\n",
        "\n",
        "\n",
        "print(\"--------------------------------------------------\")\n",
        "print(\"--------------------------------------------------\")\n",
        "\n",
        "print(\"Accuracy:\")\n",
        "print(accuracy_score(y_test, strings))\n",
        "\n",
        "import matplotlib.pyplot as plt\n",
        "import seaborn as sns\n",
        "sns.heatmap(cm, annot=True, fmt=\"d\")\n",
        "plt.show()"
      ]
    },
    {
      "cell_type": "markdown",
      "metadata": {
        "id": "njWcJ-d3-sss"
      },
      "source": [
        "### Train : Test = 40 : 60"
      ]
    },
    {
      "cell_type": "code",
      "execution_count": null,
      "metadata": {
        "colab": {
          "base_uri": "https://localhost:8080/",
          "height": 670
        },
        "id": "xoy6Sc3x-ss0",
        "outputId": "6d482cd9-2997-46b7-c865-2edc2286adbc"
      },
      "outputs": [
        {
          "name": "stdout",
          "output_type": "stream",
          "text": [
            "{'algorithm': ['viterbi', 'map'],\n",
            " 'covariance_type': ['spherical', 'tied', 'full', 'diag'],\n",
            " 'n_iter': [10, 257, 505, 752, 1000]}\n",
            "\n",
            "Confusion Matrix:\n",
            "[[215   1]\n",
            " [ 19 107]]\n",
            "--------------------------------------------------\n",
            "--------------------------------------------------\n",
            "Performance Evaluation\n",
            "              precision    recall  f1-score   support\n",
            "\n",
            "           B       0.92      1.00      0.96       216\n",
            "           M       0.99      0.85      0.91       126\n",
            "\n",
            "    accuracy                           0.94       342\n",
            "   macro avg       0.95      0.92      0.94       342\n",
            "weighted avg       0.95      0.94      0.94       342\n",
            "\n",
            "--------------------------------------------------\n",
            "--------------------------------------------------\n",
            "Accuracy:\n",
            "0.9415204678362573\n"
          ]
        },
        {
          "data": {
            "image/png": "[encoded data removed]",
            "text/plain": [
              "<Figure size 432x288 with 2 Axes>"
            ]
          },
          "metadata": {
            "needs_background": "light"
          },
          "output_type": "display_data"
        }
      ],
      "source": [
        "import pandas as pd\n",
        "import numpy as np\n",
        "\n",
        "# Dataset Preparation\n",
        "df = pd.read_csv(\"https://archive.ics.uci.edu/ml/machine-learning-databases/breast-cancer-wisconsin/wdbc.data\",header=None)\n",
        "\n",
        "df.columns = ['1','Class','3','4','5','6','7','8','9','10','11','12','13','14','15','16','17','18','19'\n",
        "           ,'20','21','22','23','24','25','26','27','28','29','30','31','32']\n",
        "\n",
        "\n",
        "X = df.drop(['1','Class'], axis=1)\n",
        "y = df['Class']\n",
        "\n",
        "from sklearn.model_selection import train_test_split\n",
        "\n",
        "X_train, X_test, y_train, y_test = train_test_split(X,y, test_size=0.6)\n",
        "\n",
        "# Feature Scaling \n",
        "from sklearn.preprocessing import StandardScaler\n",
        "\n",
        "sc = StandardScaler()\n",
        "X_train = sc.fit_transform(X_train)\n",
        "X_test = sc.transform(X_test)\n",
        "\n",
        "# values for random grid\n",
        "n_components = [int(x) for x in np.linspace(1,5, num = 5)]\n",
        "\n",
        "covariance_type = ['spherical', 'tied', 'full', 'diag']\n",
        "\n",
        "algorithm = ['viterbi', 'map']\n",
        "\n",
        "n_iter = [int(x) for x in np.linspace(10, 1000, num = 5)]\n",
        "\n",
        "# Create the random grid\n",
        "random_grid = {\n",
        "               'covariance_type': covariance_type,\n",
        "               'algorithm': algorithm,\n",
        "               'n_iter': n_iter}\n",
        "\n",
        "from pprint import pprint\n",
        "\n",
        "pprint(random_grid)\n",
        "print()\n",
        "\n",
        "# Classification\n",
        "from hmmlearn import hmm\n",
        "\n",
        "classifier = hmm.GaussianHMM(n_components=2)\n",
        "\n",
        "from sklearn.model_selection import GridSearchCV\n",
        "rf_random = GridSearchCV(classifier, random_grid, refit=True)\n",
        "\n",
        "rf_random.fit(X_train)\n",
        "\n",
        "y_pred = rf_random.predict(X_test)\n",
        "\n",
        "size = len(y_pred)\n",
        "strings = np.empty(size, np.unicode_)\n",
        "\n",
        "for i in range (size):\n",
        "    if y_pred[i] == 1:\n",
        "      strings[i] = (\"M\")\n",
        "    else:\n",
        "      strings[i] = (\"B\")\n",
        "\n",
        "from sklearn.metrics import classification_report, confusion_matrix, accuracy_score\n",
        "\n",
        "print(\"Confusion Matrix:\")\n",
        "cm = confusion_matrix(y_test, strings)\n",
        "print(cm)\n",
        "\n",
        "print(\"--------------------------------------------------\")\n",
        "print(\"--------------------------------------------------\")\n",
        "\n",
        "\n",
        "print(\"Performance Evaluation\")\n",
        "print(classification_report(y_test, strings))\n",
        "\n",
        "\n",
        "print(\"--------------------------------------------------\")\n",
        "print(\"--------------------------------------------------\")\n",
        "\n",
        "print(\"Accuracy:\")\n",
        "print(accuracy_score(y_test, strings))\n",
        "\n",
        "import matplotlib.pyplot as plt\n",
        "import seaborn as sns\n",
        "sns.heatmap(cm, annot=True, fmt=\"d\")\n",
        "plt.show()"
      ]
    },
    {
      "cell_type": "markdown",
      "metadata": {
        "id": "mI8zL-ay-4XL"
      },
      "source": [
        "### Train : Test = 30 : 70"
      ]
    },
    {
      "cell_type": "code",
      "execution_count": null,
      "metadata": {
        "colab": {
          "base_uri": "https://localhost:8080/",
          "height": 670
        },
        "id": "0EHendhi-4XM",
        "outputId": "fe346c0a-53dd-4a8b-8594-b5f5781c3a61"
      },
      "outputs": [
        {
          "name": "stdout",
          "output_type": "stream",
          "text": [
            "{'algorithm': ['viterbi', 'map'],\n",
            " 'covariance_type': ['spherical', 'tied', 'full', 'diag'],\n",
            " 'n_iter': [10, 257, 505, 752, 1000]}\n",
            "\n",
            "Confusion Matrix:\n",
            "[[241   6]\n",
            " [ 69  83]]\n",
            "--------------------------------------------------\n",
            "--------------------------------------------------\n",
            "Performance Evaluation\n",
            "              precision    recall  f1-score   support\n",
            "\n",
            "           B       0.78      0.98      0.87       247\n",
            "           M       0.93      0.55      0.69       152\n",
            "\n",
            "    accuracy                           0.81       399\n",
            "   macro avg       0.86      0.76      0.78       399\n",
            "weighted avg       0.84      0.81      0.80       399\n",
            "\n",
            "--------------------------------------------------\n",
            "--------------------------------------------------\n",
            "Accuracy:\n",
            "0.8120300751879699\n"
          ]
        },
        {
          "data": {
            "image/png": "[encoded data removed]",
            "text/plain": [
              "<Figure size 432x288 with 2 Axes>"
            ]
          },
          "metadata": {
            "needs_background": "light"
          },
          "output_type": "display_data"
        }
      ],
      "source": [
        "import pandas as pd\n",
        "import numpy as np\n",
        "\n",
        "# Dataset Preparation\n",
        "df = pd.read_csv(\"https://archive.ics.uci.edu/ml/machine-learning-databases/breast-cancer-wisconsin/wdbc.data\",header=None)\n",
        "\n",
        "df.columns = ['1','Class','3','4','5','6','7','8','9','10','11','12','13','14','15','16','17','18','19'\n",
        "           ,'20','21','22','23','24','25','26','27','28','29','30','31','32']\n",
        "\n",
        "\n",
        "X = df.drop(['1','Class'], axis=1)\n",
        "y = df['Class']\n",
        "\n",
        "from sklearn.model_selection import train_test_split\n",
        "\n",
        "X_train, X_test, y_train, y_test = train_test_split(X,y, test_size=0.7)\n",
        "\n",
        "# Feature Scaling \n",
        "from sklearn.preprocessing import StandardScaler\n",
        "\n",
        "sc = StandardScaler()\n",
        "X_train = sc.fit_transform(X_train)\n",
        "X_test = sc.transform(X_test)\n",
        "\n",
        "# values for random grid\n",
        "n_components = [int(x) for x in np.linspace(1,5, num = 5)]\n",
        "\n",
        "covariance_type = ['spherical', 'tied', 'full', 'diag']\n",
        "\n",
        "algorithm = ['viterbi', 'map']\n",
        "\n",
        "n_iter = [int(x) for x in np.linspace(10, 1000, num = 5)]\n",
        "\n",
        "# Create the random grid\n",
        "random_grid = {\n",
        "               'covariance_type': covariance_type,\n",
        "               'algorithm': algorithm,\n",
        "               'n_iter': n_iter}\n",
        "\n",
        "from pprint import pprint\n",
        "\n",
        "pprint(random_grid)\n",
        "print()\n",
        "\n",
        "# Classification\n",
        "from hmmlearn import hmm\n",
        "\n",
        "classifier = hmm.GaussianHMM(n_components=2)\n",
        "\n",
        "from sklearn.model_selection import GridSearchCV\n",
        "rf_random = GridSearchCV(classifier, random_grid, refit=True)\n",
        "\n",
        "rf_random.fit(X_train)\n",
        "\n",
        "y_pred = rf_random.predict(X_test)\n",
        "\n",
        "size = len(y_pred)\n",
        "strings = np.empty(size, np.unicode_)\n",
        "\n",
        "for i in range (size):\n",
        "    if y_pred[i] == 1:\n",
        "      strings[i] = (\"M\")\n",
        "    else:\n",
        "      strings[i] = (\"B\")\n",
        "\n",
        "from sklearn.metrics import classification_report, confusion_matrix, accuracy_score\n",
        "\n",
        "print(\"Confusion Matrix:\")\n",
        "cm = confusion_matrix(y_test, strings)\n",
        "print(cm)\n",
        "\n",
        "print(\"--------------------------------------------------\")\n",
        "print(\"--------------------------------------------------\")\n",
        "\n",
        "\n",
        "print(\"Performance Evaluation\")\n",
        "print(classification_report(y_test, strings))\n",
        "\n",
        "\n",
        "print(\"--------------------------------------------------\")\n",
        "print(\"--------------------------------------------------\")\n",
        "\n",
        "print(\"Accuracy:\")\n",
        "print(accuracy_score(y_test, strings))\n",
        "\n",
        "import matplotlib.pyplot as plt\n",
        "import seaborn as sns\n",
        "sns.heatmap(cm, annot=True, fmt=\"d\")\n",
        "plt.show()"
      ]
    },
    {
      "cell_type": "markdown",
      "metadata": {
        "id": "xHArvAtDyTm4"
      },
      "source": [
        "# GMMHMM classifier"
      ]
    },
    {
      "cell_type": "markdown",
      "metadata": {
        "id": "JJwX8PxnyTnL"
      },
      "source": [
        "## Without Tuning"
      ]
    },
    {
      "cell_type": "markdown",
      "metadata": {
        "id": "op9MjlOIyTnL"
      },
      "source": [
        "### Train : Test = 70 : 30"
      ]
    },
    {
      "cell_type": "code",
      "execution_count": null,
      "metadata": {
        "colab": {
          "base_uri": "https://localhost:8080/",
          "height": 599
        },
        "id": "q_537KHjyTnM",
        "outputId": "b81648ed-7da9-45c4-caf2-4712137f39bc"
      },
      "outputs": [
        {
          "name": "stdout",
          "output_type": "stream",
          "text": [
            "Confusion Matrix:\n",
            "[[97  5]\n",
            " [ 6 63]]\n",
            "--------------------------------------------------\n",
            "--------------------------------------------------\n",
            "Performance Evaluation\n",
            "              precision    recall  f1-score   support\n",
            "\n",
            "           B       0.94      0.95      0.95       102\n",
            "           M       0.93      0.91      0.92        69\n",
            "\n",
            "    accuracy                           0.94       171\n",
            "   macro avg       0.93      0.93      0.93       171\n",
            "weighted avg       0.94      0.94      0.94       171\n",
            "\n",
            "--------------------------------------------------\n",
            "--------------------------------------------------\n",
            "Accuracy:\n",
            "0.935672514619883\n"
          ]
        },
        {
          "data": {
            "image/png": "[encoded data removed]",
            "text/plain": [
              "<Figure size 432x288 with 2 Axes>"
            ]
          },
          "metadata": {
            "needs_background": "light"
          },
          "output_type": "display_data"
        }
      ],
      "source": [
        "import pandas as pd\n",
        "import numpy as np\n",
        "\n",
        "# Dataset Preparation\n",
        "df = pd.read_csv(\"https://archive.ics.uci.edu/ml/machine-learning-databases/breast-cancer-wisconsin/wdbc.data\",header=None)\n",
        "\n",
        "df.columns = ['1','Class','3','4','5','6','7','8','9','10','11','12','13','14','15','16','17','18','19'\n",
        "           ,'20','21','22','23','24','25','26','27','28','29','30','31','32']\n",
        "\n",
        "\n",
        "X = df.drop(['1','Class'], axis=1)\n",
        "y = df['Class']\n",
        "\n",
        "from sklearn.model_selection import train_test_split\n",
        "\n",
        "X_train, X_test, y_train, y_test = train_test_split(X,y, test_size=0.3)\n",
        "\n",
        "# Feature Scaling \n",
        "from sklearn.preprocessing import StandardScaler\n",
        "\n",
        "sc = StandardScaler()\n",
        "X_train = sc.fit_transform(X_train)\n",
        "X_test = sc.transform(X_test)\n",
        "\n",
        "# Classification\n",
        "from hmmlearn import hmm\n",
        "\n",
        "classifier = hmm.GMMHMM(n_components=2, covariance_type=\"full\")\n",
        "classifier.fit(X_train)\n",
        "\n",
        "y_pred = classifier.predict(X_test)\n",
        "\n",
        "size = len(y_pred)\n",
        "strings = np.empty(size, np.unicode_)\n",
        "\n",
        "for i in range (size):\n",
        "    if y_pred[i] == 1:\n",
        "      strings[i] = (\"M\")\n",
        "    else:\n",
        "      strings[i] = (\"B\")\n",
        "\n",
        "from sklearn.metrics import classification_report, confusion_matrix, accuracy_score\n",
        "\n",
        "print(\"Confusion Matrix:\")\n",
        "cm = confusion_matrix(y_test, strings)\n",
        "print(cm)\n",
        "\n",
        "print(\"--------------------------------------------------\")\n",
        "print(\"--------------------------------------------------\")\n",
        "\n",
        "\n",
        "print(\"Performance Evaluation\")\n",
        "print(classification_report(y_test, strings))\n",
        "\n",
        "\n",
        "print(\"--------------------------------------------------\")\n",
        "print(\"--------------------------------------------------\")\n",
        "\n",
        "print(\"Accuracy:\")\n",
        "print(accuracy_score(y_test, strings))\n",
        "\n",
        "import matplotlib.pyplot as plt\n",
        "import seaborn as sns\n",
        "sns.heatmap(cm, annot=True, fmt=\"d\")\n",
        "plt.show()"
      ]
    },
    {
      "cell_type": "markdown",
      "metadata": {
        "id": "1Arxze-xyTnN"
      },
      "source": [
        "### Train : Test = 60 : 40"
      ]
    },
    {
      "cell_type": "code",
      "execution_count": null,
      "metadata": {
        "colab": {
          "base_uri": "https://localhost:8080/",
          "height": 599
        },
        "id": "g1VQTB8hyTnN",
        "outputId": "7b3d11e9-abb1-4ed8-b66f-88aa95766f2b"
      },
      "outputs": [
        {
          "name": "stdout",
          "output_type": "stream",
          "text": [
            "Confusion Matrix:\n",
            "[[131  11]\n",
            " [  4  82]]\n",
            "--------------------------------------------------\n",
            "--------------------------------------------------\n",
            "Performance Evaluation\n",
            "              precision    recall  f1-score   support\n",
            "\n",
            "           B       0.97      0.92      0.95       142\n",
            "           M       0.88      0.95      0.92        86\n",
            "\n",
            "    accuracy                           0.93       228\n",
            "   macro avg       0.93      0.94      0.93       228\n",
            "weighted avg       0.94      0.93      0.93       228\n",
            "\n",
            "--------------------------------------------------\n",
            "--------------------------------------------------\n",
            "Accuracy:\n",
            "0.9342105263157895\n"
          ]
        },
        {
          "data": {
            "image/png": "[encoded data removed]",
            "text/plain": [
              "<Figure size 432x288 with 2 Axes>"
            ]
          },
          "metadata": {
            "needs_background": "light"
          },
          "output_type": "display_data"
        }
      ],
      "source": [
        "import pandas as pd\n",
        "import numpy as np\n",
        "\n",
        "# Dataset Preparation\n",
        "df = pd.read_csv(\"https://archive.ics.uci.edu/ml/machine-learning-databases/breast-cancer-wisconsin/wdbc.data\",header=None)\n",
        "\n",
        "df.columns = ['1','Class','3','4','5','6','7','8','9','10','11','12','13','14','15','16','17','18','19'\n",
        "           ,'20','21','22','23','24','25','26','27','28','29','30','31','32']\n",
        "\n",
        "\n",
        "X = df.drop(['1','Class'], axis=1)\n",
        "y = df['Class']\n",
        "\n",
        "from sklearn.model_selection import train_test_split\n",
        "\n",
        "X_train, X_test, y_train, y_test = train_test_split(X,y, test_size=0.4)\n",
        "\n",
        "# Feature Scaling \n",
        "from sklearn.preprocessing import StandardScaler\n",
        "\n",
        "sc = StandardScaler()\n",
        "X_train = sc.fit_transform(X_train)\n",
        "X_test = sc.transform(X_test)\n",
        "\n",
        "# Classification\n",
        "from hmmlearn import hmm\n",
        "\n",
        "classifier = hmm.GMMHMM(n_components=2, covariance_type=\"full\")\n",
        "classifier.fit(X_train)\n",
        "\n",
        "y_pred = classifier.predict(X_test)\n",
        "\n",
        "size = len(y_pred)\n",
        "strings = np.empty(size, np.unicode_)\n",
        "\n",
        "for i in range (size):\n",
        "    if y_pred[i] == 1:\n",
        "      strings[i] = (\"M\")\n",
        "    else:\n",
        "      strings[i] = (\"B\")\n",
        "\n",
        "from sklearn.metrics import classification_report, confusion_matrix, accuracy_score\n",
        "\n",
        "print(\"Confusion Matrix:\")\n",
        "cm = confusion_matrix(y_test, strings)\n",
        "print(cm)\n",
        "\n",
        "print(\"--------------------------------------------------\")\n",
        "print(\"--------------------------------------------------\")\n",
        "\n",
        "\n",
        "print(\"Performance Evaluation\")\n",
        "print(classification_report(y_test, strings))\n",
        "\n",
        "\n",
        "print(\"--------------------------------------------------\")\n",
        "print(\"--------------------------------------------------\")\n",
        "\n",
        "print(\"Accuracy:\")\n",
        "print(accuracy_score(y_test, strings))\n",
        "\n",
        "import matplotlib.pyplot as plt\n",
        "import seaborn as sns\n",
        "sns.heatmap(cm, annot=True, fmt=\"d\")\n",
        "plt.show()"
      ]
    },
    {
      "cell_type": "markdown",
      "metadata": {
        "id": "SJlgzBlayTnO"
      },
      "source": [
        "### Train : Test = 50 : 50"
      ]
    },
    {
      "cell_type": "code",
      "execution_count": null,
      "metadata": {
        "colab": {
          "base_uri": "https://localhost:8080/",
          "height": 599
        },
        "id": "rr_oQPJ-yTnO",
        "outputId": "d1e41f51-1221-4627-ebc3-32352a43ebf9"
      },
      "outputs": [
        {
          "name": "stdout",
          "output_type": "stream",
          "text": [
            "Confusion Matrix:\n",
            "[[170  15]\n",
            " [  7  93]]\n",
            "--------------------------------------------------\n",
            "--------------------------------------------------\n",
            "Performance Evaluation\n",
            "              precision    recall  f1-score   support\n",
            "\n",
            "           B       0.96      0.92      0.94       185\n",
            "           M       0.86      0.93      0.89       100\n",
            "\n",
            "    accuracy                           0.92       285\n",
            "   macro avg       0.91      0.92      0.92       285\n",
            "weighted avg       0.93      0.92      0.92       285\n",
            "\n",
            "--------------------------------------------------\n",
            "--------------------------------------------------\n",
            "Accuracy:\n",
            "0.9228070175438596\n"
          ]
        },
        {
          "data": {
            "image/png": "[encoded data removed]",
            "text/plain": [
              "<Figure size 432x288 with 2 Axes>"
            ]
          },
          "metadata": {
            "needs_background": "light"
          },
          "output_type": "display_data"
        }
      ],
      "source": [
        "import pandas as pd\n",
        "import numpy as np\n",
        "\n",
        "# Dataset Preparation\n",
        "df = pd.read_csv(\"https://archive.ics.uci.edu/ml/machine-learning-databases/breast-cancer-wisconsin/wdbc.data\",header=None)\n",
        "\n",
        "df.columns = ['1','Class','3','4','5','6','7','8','9','10','11','12','13','14','15','16','17','18','19'\n",
        "           ,'20','21','22','23','24','25','26','27','28','29','30','31','32']\n",
        "\n",
        "\n",
        "X = df.drop(['1','Class'], axis=1)\n",
        "y = df['Class']\n",
        "\n",
        "from sklearn.model_selection import train_test_split\n",
        "\n",
        "X_train, X_test, y_train, y_test = train_test_split(X,y, test_size=0.5)\n",
        "\n",
        "# Feature Scaling \n",
        "from sklearn.preprocessing import StandardScaler\n",
        "\n",
        "sc = StandardScaler()\n",
        "X_train = sc.fit_transform(X_train)\n",
        "X_test = sc.transform(X_test)\n",
        "\n",
        "# Classification\n",
        "from hmmlearn import hmm\n",
        "\n",
        "classifier = hmm.GMMHMM(n_components=2, covariance_type=\"full\")\n",
        "classifier.fit(X_train)\n",
        "\n",
        "y_pred = classifier.predict(X_test)\n",
        "\n",
        "size = len(y_pred)\n",
        "strings = np.empty(size, np.unicode_)\n",
        "\n",
        "for i in range (size):\n",
        "    if y_pred[i] == 1:\n",
        "      strings[i] = (\"M\")\n",
        "    else:\n",
        "      strings[i] = (\"B\")\n",
        "\n",
        "from sklearn.metrics import classification_report, confusion_matrix, accuracy_score\n",
        "\n",
        "print(\"Confusion Matrix:\")\n",
        "cm = confusion_matrix(y_test, strings)\n",
        "print(cm)\n",
        "\n",
        "print(\"--------------------------------------------------\")\n",
        "print(\"--------------------------------------------------\")\n",
        "\n",
        "\n",
        "print(\"Performance Evaluation\")\n",
        "print(classification_report(y_test, strings))\n",
        "\n",
        "\n",
        "print(\"--------------------------------------------------\")\n",
        "print(\"--------------------------------------------------\")\n",
        "\n",
        "print(\"Accuracy:\")\n",
        "print(accuracy_score(y_test, strings))\n",
        "\n",
        "import matplotlib.pyplot as plt\n",
        "import seaborn as sns\n",
        "sns.heatmap(cm, annot=True, fmt=\"d\")\n",
        "plt.show()"
      ]
    },
    {
      "cell_type": "markdown",
      "metadata": {
        "id": "lqsuR386yTnP"
      },
      "source": [
        "### Train : Test = 40 : 60"
      ]
    },
    {
      "cell_type": "code",
      "execution_count": null,
      "metadata": {
        "colab": {
          "base_uri": "https://localhost:8080/",
          "height": 601
        },
        "id": "Q4HwXbL4yTnP",
        "outputId": "9f4dddc0-2243-4c52-d78f-9f07f5ddb5ff"
      },
      "outputs": [
        {
          "name": "stdout",
          "output_type": "stream",
          "text": [
            "Confusion Matrix:\n",
            "[[203  11]\n",
            " [  9 119]]\n",
            "--------------------------------------------------\n",
            "--------------------------------------------------\n",
            "Performance Evaluation\n",
            "              precision    recall  f1-score   support\n",
            "\n",
            "           B       0.96      0.95      0.95       214\n",
            "           M       0.92      0.93      0.92       128\n",
            "\n",
            "    accuracy                           0.94       342\n",
            "   macro avg       0.94      0.94      0.94       342\n",
            "weighted avg       0.94      0.94      0.94       342\n",
            "\n",
            "--------------------------------------------------\n",
            "--------------------------------------------------\n",
            "Accuracy:\n",
            "0.9415204678362573\n"
          ]
        },
        {
          "data": {
            "image/png": "[encoded data removed]",
            "text/plain": [
              "<Figure size 432x288 with 2 Axes>"
            ]
          },
          "metadata": {
            "needs_background": "light"
          },
          "output_type": "display_data"
        }
      ],
      "source": [
        "import pandas as pd\n",
        "import numpy as np\n",
        "\n",
        "# Dataset Preparation\n",
        "df = pd.read_csv(\"https://archive.ics.uci.edu/ml/machine-learning-databases/breast-cancer-wisconsin/wdbc.data\",header=None)\n",
        "\n",
        "df.columns = ['1','Class','3','4','5','6','7','8','9','10','11','12','13','14','15','16','17','18','19'\n",
        "           ,'20','21','22','23','24','25','26','27','28','29','30','31','32']\n",
        "\n",
        "\n",
        "X = df.drop(['1','Class'], axis=1)\n",
        "y = df['Class']\n",
        "\n",
        "from sklearn.model_selection import train_test_split\n",
        "\n",
        "X_train, X_test, y_train, y_test = train_test_split(X,y, test_size=0.6)\n",
        "\n",
        "# Feature Scaling \n",
        "from sklearn.preprocessing import StandardScaler\n",
        "\n",
        "sc = StandardScaler()\n",
        "X_train = sc.fit_transform(X_train)\n",
        "X_test = sc.transform(X_test)\n",
        "\n",
        "# Classification\n",
        "from hmmlearn import hmm\n",
        "\n",
        "classifier = hmm.GMMHMM(n_components=2, covariance_type=\"full\")\n",
        "classifier.fit(X_train)\n",
        "\n",
        "y_pred = classifier.predict(X_test)\n",
        "\n",
        "size = len(y_pred)\n",
        "strings = np.empty(size, np.unicode_)\n",
        "\n",
        "for i in range (size):\n",
        "    if y_pred[i] == 1:\n",
        "      strings[i] = (\"M\")\n",
        "    else:\n",
        "      strings[i] = (\"B\")\n",
        "\n",
        "from sklearn.metrics import classification_report, confusion_matrix, accuracy_score\n",
        "\n",
        "print(\"Confusion Matrix:\")\n",
        "cm = confusion_matrix(y_test, strings)\n",
        "print(cm)\n",
        "\n",
        "print(\"--------------------------------------------------\")\n",
        "print(\"--------------------------------------------------\")\n",
        "\n",
        "\n",
        "print(\"Performance Evaluation\")\n",
        "print(classification_report(y_test, strings))\n",
        "\n",
        "\n",
        "print(\"--------------------------------------------------\")\n",
        "print(\"--------------------------------------------------\")\n",
        "\n",
        "print(\"Accuracy:\")\n",
        "print(accuracy_score(y_test, strings))\n",
        "\n",
        "import matplotlib.pyplot as plt\n",
        "import seaborn as sns\n",
        "sns.heatmap(cm, annot=True, fmt=\"d\")\n",
        "plt.show()"
      ]
    },
    {
      "cell_type": "markdown",
      "metadata": {
        "id": "1lgJhvbxyTnQ"
      },
      "source": [
        "### Train : Test = 30 : 70"
      ]
    },
    {
      "cell_type": "code",
      "execution_count": null,
      "metadata": {
        "colab": {
          "base_uri": "https://localhost:8080/",
          "height": 599
        },
        "id": "9WxU9l3EyTnQ",
        "outputId": "8cd58b6b-c1ef-47af-8326-15a5a35e5050"
      },
      "outputs": [
        {
          "name": "stdout",
          "output_type": "stream",
          "text": [
            "Confusion Matrix:\n",
            "[[243   9]\n",
            " [ 15 132]]\n",
            "--------------------------------------------------\n",
            "--------------------------------------------------\n",
            "Performance Evaluation\n",
            "              precision    recall  f1-score   support\n",
            "\n",
            "           B       0.94      0.96      0.95       252\n",
            "           M       0.94      0.90      0.92       147\n",
            "\n",
            "    accuracy                           0.94       399\n",
            "   macro avg       0.94      0.93      0.93       399\n",
            "weighted avg       0.94      0.94      0.94       399\n",
            "\n",
            "--------------------------------------------------\n",
            "--------------------------------------------------\n",
            "Accuracy:\n",
            "0.9398496240601504\n"
          ]
        },
        {
          "data": {
            "image/png": "[encoded data removed]",
            "text/plain": [
              "<Figure size 432x288 with 2 Axes>"
            ]
          },
          "metadata": {
            "needs_background": "light"
          },
          "output_type": "display_data"
        }
      ],
      "source": [
        "import pandas as pd\n",
        "import numpy as np\n",
        "\n",
        "# Dataset Preparation\n",
        "df = pd.read_csv(\"https://archive.ics.uci.edu/ml/machine-learning-databases/breast-cancer-wisconsin/wdbc.data\",header=None)\n",
        "\n",
        "df.columns = ['1','Class','3','4','5','6','7','8','9','10','11','12','13','14','15','16','17','18','19'\n",
        "           ,'20','21','22','23','24','25','26','27','28','29','30','31','32']\n",
        "\n",
        "\n",
        "X = df.drop(['1','Class'], axis=1)\n",
        "y = df['Class']\n",
        "\n",
        "from sklearn.model_selection import train_test_split\n",
        "\n",
        "X_train, X_test, y_train, y_test = train_test_split(X,y, test_size=0.7)\n",
        "\n",
        "# Feature Scaling \n",
        "from sklearn.preprocessing import StandardScaler\n",
        "\n",
        "sc = StandardScaler()\n",
        "X_train = sc.fit_transform(X_train)\n",
        "X_test = sc.transform(X_test)\n",
        "\n",
        "# Classification\n",
        "from hmmlearn import hmm\n",
        "\n",
        "classifier = hmm.GMMHMM(n_components=2, covariance_type=\"full\")\n",
        "classifier.fit(X_train)\n",
        "\n",
        "y_pred = classifier.predict(X_test)\n",
        "\n",
        "size = len(y_pred)\n",
        "strings = np.empty(size, np.unicode_)\n",
        "\n",
        "for i in range (size):\n",
        "    if y_pred[i] == 1:\n",
        "      strings[i] = (\"M\")\n",
        "    else:\n",
        "      strings[i] = (\"B\")\n",
        "\n",
        "from sklearn.metrics import classification_report, confusion_matrix, accuracy_score\n",
        "\n",
        "print(\"Confusion Matrix:\")\n",
        "cm = confusion_matrix(y_test, strings)\n",
        "print(cm)\n",
        "\n",
        "print(\"--------------------------------------------------\")\n",
        "print(\"--------------------------------------------------\")\n",
        "\n",
        "\n",
        "print(\"Performance Evaluation\")\n",
        "print(classification_report(y_test, strings))\n",
        "\n",
        "\n",
        "print(\"--------------------------------------------------\")\n",
        "print(\"--------------------------------------------------\")\n",
        "\n",
        "print(\"Accuracy:\")\n",
        "print(accuracy_score(y_test, strings))\n",
        "\n",
        "import matplotlib.pyplot as plt\n",
        "import seaborn as sns\n",
        "sns.heatmap(cm, annot=True, fmt=\"d\")\n",
        "plt.show()"
      ]
    },
    {
      "cell_type": "markdown",
      "metadata": {
        "id": "9g2tjcEVyTnR"
      },
      "source": [
        "## With Tuning"
      ]
    },
    {
      "cell_type": "markdown",
      "metadata": {
        "id": "pPkHSUdmyTnR"
      },
      "source": [
        "### Train : Test = 70 : 30"
      ]
    },
    {
      "cell_type": "code",
      "execution_count": null,
      "metadata": {
        "colab": {
          "base_uri": "https://localhost:8080/",
          "height": 670
        },
        "id": "G598JhXgyTnR",
        "outputId": "4cf41d77-bc3a-4a59-9ef3-1ee57ef85cbc"
      },
      "outputs": [
        {
          "name": "stdout",
          "output_type": "stream",
          "text": [
            "{'algorithm': ['viterbi', 'map'],\n",
            " 'covariance_type': ['spherical', 'tied', 'full', 'diag'],\n",
            " 'n_iter': [10, 257, 505, 752, 1000]}\n",
            "\n",
            "Confusion Matrix:\n",
            "[[12 95]\n",
            " [55  9]]\n",
            "--------------------------------------------------\n",
            "--------------------------------------------------\n",
            "Performance Evaluation\n",
            "              precision    recall  f1-score   support\n",
            "\n",
            "           B       0.18      0.11      0.14       107\n",
            "           M       0.09      0.14      0.11        64\n",
            "\n",
            "    accuracy                           0.12       171\n",
            "   macro avg       0.13      0.13      0.12       171\n",
            "weighted avg       0.14      0.12      0.13       171\n",
            "\n",
            "--------------------------------------------------\n",
            "--------------------------------------------------\n",
            "Accuracy:\n",
            "0.12280701754385964\n"
          ]
        },
        {
          "data": {
            "image/png": "[encoded data removed]",
            "text/plain": [
              "<Figure size 432x288 with 2 Axes>"
            ]
          },
          "metadata": {
            "needs_background": "light"
          },
          "output_type": "display_data"
        }
      ],
      "source": [
        "import pandas as pd\n",
        "import numpy as np\n",
        "\n",
        "# Dataset Preparation\n",
        "df = pd.read_csv(\"https://archive.ics.uci.edu/ml/machine-learning-databases/breast-cancer-wisconsin/wdbc.data\",header=None)\n",
        "\n",
        "df.columns = ['1','Class','3','4','5','6','7','8','9','10','11','12','13','14','15','16','17','18','19'\n",
        "           ,'20','21','22','23','24','25','26','27','28','29','30','31','32']\n",
        "\n",
        "\n",
        "X = df.drop(['1','Class'], axis=1)\n",
        "y = df['Class']\n",
        "\n",
        "from sklearn.model_selection import train_test_split\n",
        "\n",
        "X_train, X_test, y_train, y_test = train_test_split(X,y, test_size=0.3)\n",
        "\n",
        "# Feature Scaling \n",
        "from sklearn.preprocessing import StandardScaler\n",
        "\n",
        "sc = StandardScaler()\n",
        "X_train = sc.fit_transform(X_train)\n",
        "X_test = sc.transform(X_test)\n",
        "\n",
        "# values for random grid\n",
        "n_components = [int(x) for x in np.linspace(1,5, num = 5)]\n",
        "\n",
        "covariance_type = ['spherical', 'tied', 'full', 'diag']\n",
        "\n",
        "algorithm = ['viterbi', 'map']\n",
        "\n",
        "n_iter = [int(x) for x in np.linspace(10, 1000, num = 5)]\n",
        "\n",
        "# Create the random grid\n",
        "random_grid = {\n",
        "               'covariance_type': covariance_type,\n",
        "               'algorithm': algorithm,\n",
        "               'n_iter': n_iter}\n",
        "\n",
        "from pprint import pprint\n",
        "\n",
        "pprint(random_grid)\n",
        "print()\n",
        "\n",
        "# Classification\n",
        "from hmmlearn import hmm\n",
        "\n",
        "classifier = hmm.GMMHMM(n_components=2)\n",
        "\n",
        "from sklearn.model_selection import GridSearchCV\n",
        "rf_random = GridSearchCV(classifier, random_grid, refit=True)\n",
        "\n",
        "rf_random.fit(X_train)\n",
        "\n",
        "y_pred = rf_random.predict(X_test)\n",
        "\n",
        "size = len(y_pred)\n",
        "strings = np.empty(size, np.unicode_)\n",
        "\n",
        "for i in range (size):\n",
        "    if y_pred[i] == 1:\n",
        "      strings[i] = (\"M\")\n",
        "    else:\n",
        "      strings[i] = (\"B\")\n",
        "\n",
        "from sklearn.metrics import classification_report, confusion_matrix, accuracy_score\n",
        "\n",
        "print(\"Confusion Matrix:\")\n",
        "cm = confusion_matrix(y_test, strings)\n",
        "print(cm)\n",
        "\n",
        "print(\"--------------------------------------------------\")\n",
        "print(\"--------------------------------------------------\")\n",
        "\n",
        "\n",
        "print(\"Performance Evaluation\")\n",
        "print(classification_report(y_test, strings))\n",
        "\n",
        "\n",
        "print(\"--------------------------------------------------\")\n",
        "print(\"--------------------------------------------------\")\n",
        "\n",
        "print(\"Accuracy:\")\n",
        "print(accuracy_score(y_test, strings))\n",
        "\n",
        "import matplotlib.pyplot as plt\n",
        "import seaborn as sns\n",
        "sns.heatmap(cm, annot=True, fmt=\"d\")\n",
        "plt.show()"
      ]
    },
    {
      "cell_type": "markdown",
      "metadata": {
        "id": "xl4ImB-4yTnS"
      },
      "source": [
        "### Train : Test = 60 : 40"
      ]
    },
    {
      "cell_type": "code",
      "execution_count": null,
      "metadata": {
        "colab": {
          "base_uri": "https://localhost:8080/",
          "height": 670
        },
        "id": "GaTFohwQyTnS",
        "outputId": "76dc83e4-e84f-4a9d-c12b-d2157347b954"
      },
      "outputs": [
        {
          "name": "stdout",
          "output_type": "stream",
          "text": [
            "{'algorithm': ['viterbi', 'map'],\n",
            " 'covariance_type': ['spherical', 'tied', 'full', 'diag'],\n",
            " 'n_iter': [10, 257, 505, 752, 1000]}\n",
            "\n",
            "Confusion Matrix:\n",
            "[[134  11]\n",
            " [  7  76]]\n",
            "--------------------------------------------------\n",
            "--------------------------------------------------\n",
            "Performance Evaluation\n",
            "              precision    recall  f1-score   support\n",
            "\n",
            "           B       0.95      0.92      0.94       145\n",
            "           M       0.87      0.92      0.89        83\n",
            "\n",
            "    accuracy                           0.92       228\n",
            "   macro avg       0.91      0.92      0.92       228\n",
            "weighted avg       0.92      0.92      0.92       228\n",
            "\n",
            "--------------------------------------------------\n",
            "--------------------------------------------------\n",
            "Accuracy:\n",
            "0.9210526315789473\n"
          ]
        },
        {
          "data": {
            "image/png": "[encoded data removed]",
            "text/plain": [
              "<Figure size 432x288 with 2 Axes>"
            ]
          },
          "metadata": {
            "needs_background": "light"
          },
          "output_type": "display_data"
        }
      ],
      "source": [
        "import pandas as pd\n",
        "import numpy as np\n",
        "\n",
        "# Dataset Preparation\n",
        "df = pd.read_csv(\"https://archive.ics.uci.edu/ml/machine-learning-databases/breast-cancer-wisconsin/wdbc.data\",header=None)\n",
        "\n",
        "df.columns = ['1','Class','3','4','5','6','7','8','9','10','11','12','13','14','15','16','17','18','19'\n",
        "           ,'20','21','22','23','24','25','26','27','28','29','30','31','32']\n",
        "\n",
        "\n",
        "X = df.drop(['1','Class'], axis=1)\n",
        "y = df['Class']\n",
        "\n",
        "from sklearn.model_selection import train_test_split\n",
        "\n",
        "X_train, X_test, y_train, y_test = train_test_split(X,y, test_size=0.4)\n",
        "\n",
        "# Feature Scaling \n",
        "from sklearn.preprocessing import StandardScaler\n",
        "\n",
        "sc = StandardScaler()\n",
        "X_train = sc.fit_transform(X_train)\n",
        "X_test = sc.transform(X_test)\n",
        "\n",
        "# values for random grid\n",
        "n_components = [int(x) for x in np.linspace(1,5, num = 5)]\n",
        "\n",
        "covariance_type = ['spherical', 'tied', 'full', 'diag']\n",
        "\n",
        "algorithm = ['viterbi', 'map']\n",
        "\n",
        "n_iter = [int(x) for x in np.linspace(10, 1000, num = 5)]\n",
        "\n",
        "# Create the random grid\n",
        "random_grid = {\n",
        "               'covariance_type': covariance_type,\n",
        "               'algorithm': algorithm,\n",
        "               'n_iter': n_iter}\n",
        "\n",
        "from pprint import pprint\n",
        "\n",
        "pprint(random_grid)\n",
        "print()\n",
        "\n",
        "# Classification\n",
        "from hmmlearn import hmm\n",
        "\n",
        "classifier = hmm.GMMHMM(n_components=2)\n",
        "\n",
        "from sklearn.model_selection import GridSearchCV\n",
        "rf_random = GridSearchCV(classifier, random_grid, refit=True)\n",
        "\n",
        "rf_random.fit(X_train)\n",
        "\n",
        "y_pred = rf_random.predict(X_test)\n",
        "\n",
        "size = len(y_pred)\n",
        "strings = np.empty(size, np.unicode_)\n",
        "\n",
        "for i in range (size):\n",
        "    if y_pred[i] == 1:\n",
        "      strings[i] = (\"M\")\n",
        "    else:\n",
        "      strings[i] = (\"B\")\n",
        "\n",
        "from sklearn.metrics import classification_report, confusion_matrix, accuracy_score\n",
        "\n",
        "print(\"Confusion Matrix:\")\n",
        "cm = confusion_matrix(y_test, strings)\n",
        "print(cm)\n",
        "\n",
        "print(\"--------------------------------------------------\")\n",
        "print(\"--------------------------------------------------\")\n",
        "\n",
        "\n",
        "print(\"Performance Evaluation\")\n",
        "print(classification_report(y_test, strings))\n",
        "\n",
        "\n",
        "print(\"--------------------------------------------------\")\n",
        "print(\"--------------------------------------------------\")\n",
        "\n",
        "print(\"Accuracy:\")\n",
        "print(accuracy_score(y_test, strings))\n",
        "\n",
        "import matplotlib.pyplot as plt\n",
        "import seaborn as sns\n",
        "sns.heatmap(cm, annot=True, fmt=\"d\")\n",
        "plt.show()"
      ]
    },
    {
      "cell_type": "markdown",
      "metadata": {
        "id": "w5dWQnFdyTnT"
      },
      "source": [
        "### Train : Test = 50 : 50"
      ]
    },
    {
      "cell_type": "code",
      "execution_count": null,
      "metadata": {
        "colab": {
          "base_uri": "https://localhost:8080/",
          "height": 673
        },
        "id": "zp5CozS0yTnT",
        "outputId": "b382955e-6868-45d7-9d76-970973d4a1de"
      },
      "outputs": [
        {
          "name": "stdout",
          "output_type": "stream",
          "text": [
            "{'algorithm': ['viterbi', 'map'],\n",
            " 'covariance_type': ['spherical', 'tied', 'full', 'diag'],\n",
            " 'n_iter': [10, 257, 505, 752, 1000]}\n",
            "\n",
            "Confusion Matrix:\n",
            "[[161  11]\n",
            " [ 12 101]]\n",
            "--------------------------------------------------\n",
            "--------------------------------------------------\n",
            "Performance Evaluation\n",
            "              precision    recall  f1-score   support\n",
            "\n",
            "           B       0.93      0.94      0.93       172\n",
            "           M       0.90      0.89      0.90       113\n",
            "\n",
            "    accuracy                           0.92       285\n",
            "   macro avg       0.92      0.91      0.92       285\n",
            "weighted avg       0.92      0.92      0.92       285\n",
            "\n",
            "--------------------------------------------------\n",
            "--------------------------------------------------\n",
            "Accuracy:\n",
            "0.9192982456140351\n"
          ]
        },
        {
          "data": {
            "image/png": "[encoded data removed]",
            "text/plain": [
              "<Figure size 432x288 with 2 Axes>"
            ]
          },
          "metadata": {
            "needs_background": "light"
          },
          "output_type": "display_data"
        }
      ],
      "source": [
        "import pandas as pd\n",
        "import numpy as np\n",
        "\n",
        "# Dataset Preparation\n",
        "df = pd.read_csv(\"https://archive.ics.uci.edu/ml/machine-learning-databases/breast-cancer-wisconsin/wdbc.data\",header=None)\n",
        "\n",
        "df.columns = ['1','Class','3','4','5','6','7','8','9','10','11','12','13','14','15','16','17','18','19'\n",
        "           ,'20','21','22','23','24','25','26','27','28','29','30','31','32']\n",
        "\n",
        "\n",
        "X = df.drop(['1','Class'], axis=1)\n",
        "y = df['Class']\n",
        "\n",
        "from sklearn.model_selection import train_test_split\n",
        "\n",
        "X_train, X_test, y_train, y_test = train_test_split(X,y, test_size=0.5)\n",
        "\n",
        "# Feature Scaling \n",
        "from sklearn.preprocessing import StandardScaler\n",
        "\n",
        "sc = StandardScaler()\n",
        "X_train = sc.fit_transform(X_train)\n",
        "X_test = sc.transform(X_test)\n",
        "\n",
        "# values for random grid\n",
        "n_components = [int(x) for x in np.linspace(1,5, num = 5)]\n",
        "\n",
        "covariance_type = ['spherical', 'tied', 'full', 'diag']\n",
        "\n",
        "algorithm = ['viterbi', 'map']\n",
        "\n",
        "n_iter = [int(x) for x in np.linspace(10, 1000, num = 5)]\n",
        "\n",
        "# Create the random grid\n",
        "random_grid = {\n",
        "               'covariance_type': covariance_type,\n",
        "               'algorithm': algorithm,\n",
        "               'n_iter': n_iter}\n",
        "\n",
        "from pprint import pprint\n",
        "\n",
        "pprint(random_grid)\n",
        "print()\n",
        "\n",
        "# Classification\n",
        "from hmmlearn import hmm\n",
        "\n",
        "classifier = hmm.GMMHMM(n_components=2)\n",
        "\n",
        "from sklearn.model_selection import GridSearchCV\n",
        "rf_random = GridSearchCV(classifier, random_grid, refit=True)\n",
        "\n",
        "rf_random.fit(X_train)\n",
        "\n",
        "y_pred = rf_random.predict(X_test)\n",
        "\n",
        "size = len(y_pred)\n",
        "strings = np.empty(size, np.unicode_)\n",
        "\n",
        "for i in range (size):\n",
        "    if y_pred[i] == 1:\n",
        "      strings[i] = (\"M\")\n",
        "    else:\n",
        "      strings[i] = (\"B\")\n",
        "\n",
        "from sklearn.metrics import classification_report, confusion_matrix, accuracy_score\n",
        "\n",
        "print(\"Confusion Matrix:\")\n",
        "cm = confusion_matrix(y_test, strings)\n",
        "print(cm)\n",
        "\n",
        "print(\"--------------------------------------------------\")\n",
        "print(\"--------------------------------------------------\")\n",
        "\n",
        "\n",
        "print(\"Performance Evaluation\")\n",
        "print(classification_report(y_test, strings))\n",
        "\n",
        "\n",
        "print(\"--------------------------------------------------\")\n",
        "print(\"--------------------------------------------------\")\n",
        "\n",
        "print(\"Accuracy:\")\n",
        "print(accuracy_score(y_test, strings))\n",
        "\n",
        "import matplotlib.pyplot as plt\n",
        "import seaborn as sns\n",
        "sns.heatmap(cm, annot=True, fmt=\"d\")\n",
        "plt.show()"
      ]
    },
    {
      "cell_type": "markdown",
      "metadata": {
        "id": "ctzTz-fKyTnU"
      },
      "source": [
        "### Train : Test = 40 : 60"
      ]
    },
    {
      "cell_type": "code",
      "execution_count": null,
      "metadata": {
        "colab": {
          "base_uri": "https://localhost:8080/",
          "height": 670
        },
        "id": "Ma6jspPiyTnU",
        "outputId": "21fc61d9-360b-446d-8886-ed736c4ccddf"
      },
      "outputs": [
        {
          "name": "stdout",
          "output_type": "stream",
          "text": [
            "{'algorithm': ['viterbi', 'map'],\n",
            " 'covariance_type': ['spherical', 'tied', 'full', 'diag'],\n",
            " 'n_iter': [10, 257, 505, 752, 1000]}\n",
            "\n",
            "Confusion Matrix:\n",
            "[[197  18]\n",
            " [ 11 116]]\n",
            "--------------------------------------------------\n",
            "--------------------------------------------------\n",
            "Performance Evaluation\n",
            "              precision    recall  f1-score   support\n",
            "\n",
            "           B       0.95      0.92      0.93       215\n",
            "           M       0.87      0.91      0.89       127\n",
            "\n",
            "    accuracy                           0.92       342\n",
            "   macro avg       0.91      0.91      0.91       342\n",
            "weighted avg       0.92      0.92      0.92       342\n",
            "\n",
            "--------------------------------------------------\n",
            "--------------------------------------------------\n",
            "Accuracy:\n",
            "0.9152046783625731\n"
          ]
        },
        {
          "data": {
            "image/png": "[encoded data removed]",
            "text/plain": [
              "<Figure size 432x288 with 2 Axes>"
            ]
          },
          "metadata": {
            "needs_background": "light"
          },
          "output_type": "display_data"
        }
      ],
      "source": [
        "import pandas as pd\n",
        "import numpy as np\n",
        "\n",
        "# Dataset Preparation\n",
        "df = pd.read_csv(\"https://archive.ics.uci.edu/ml/machine-learning-databases/breast-cancer-wisconsin/wdbc.data\",header=None)\n",
        "\n",
        "df.columns = ['1','Class','3','4','5','6','7','8','9','10','11','12','13','14','15','16','17','18','19'\n",
        "           ,'20','21','22','23','24','25','26','27','28','29','30','31','32']\n",
        "\n",
        "\n",
        "X = df.drop(['1','Class'], axis=1)\n",
        "y = df['Class']\n",
        "\n",
        "from sklearn.model_selection import train_test_split\n",
        "\n",
        "X_train, X_test, y_train, y_test = train_test_split(X,y, test_size=0.6)\n",
        "\n",
        "# Feature Scaling \n",
        "from sklearn.preprocessing import StandardScaler\n",
        "\n",
        "sc = StandardScaler()\n",
        "X_train = sc.fit_transform(X_train)\n",
        "X_test = sc.transform(X_test)\n",
        "\n",
        "# values for random grid\n",
        "n_components = [int(x) for x in np.linspace(1,5, num = 5)]\n",
        "\n",
        "covariance_type = ['spherical', 'tied', 'full', 'diag']\n",
        "\n",
        "algorithm = ['viterbi', 'map']\n",
        "\n",
        "n_iter = [int(x) for x in np.linspace(10, 1000, num = 5)]\n",
        "\n",
        "# Create the random grid\n",
        "random_grid = {\n",
        "               'covariance_type': covariance_type,\n",
        "               'algorithm': algorithm,\n",
        "               'n_iter': n_iter}\n",
        "\n",
        "from pprint import pprint\n",
        "\n",
        "pprint(random_grid)\n",
        "print()\n",
        "\n",
        "# Classification\n",
        "from hmmlearn import hmm\n",
        "\n",
        "classifier = hmm.GMMHMM(n_components=2)\n",
        "\n",
        "from sklearn.model_selection import GridSearchCV\n",
        "rf_random = GridSearchCV(classifier, random_grid, refit=True)\n",
        "\n",
        "rf_random.fit(X_train)\n",
        "\n",
        "y_pred = rf_random.predict(X_test)\n",
        "\n",
        "size = len(y_pred)\n",
        "strings = np.empty(size, np.unicode_)\n",
        "\n",
        "for i in range (size):\n",
        "    if y_pred[i] == 1:\n",
        "      strings[i] = (\"M\")\n",
        "    else:\n",
        "      strings[i] = (\"B\")\n",
        "\n",
        "from sklearn.metrics import classification_report, confusion_matrix, accuracy_score\n",
        "\n",
        "print(\"Confusion Matrix:\")\n",
        "cm = confusion_matrix(y_test, strings)\n",
        "print(cm)\n",
        "\n",
        "print(\"--------------------------------------------------\")\n",
        "print(\"--------------------------------------------------\")\n",
        "\n",
        "\n",
        "print(\"Performance Evaluation\")\n",
        "print(classification_report(y_test, strings))\n",
        "\n",
        "\n",
        "print(\"--------------------------------------------------\")\n",
        "print(\"--------------------------------------------------\")\n",
        "\n",
        "print(\"Accuracy:\")\n",
        "print(accuracy_score(y_test, strings))\n",
        "\n",
        "import matplotlib.pyplot as plt\n",
        "import seaborn as sns\n",
        "sns.heatmap(cm, annot=True, fmt=\"d\")\n",
        "plt.show()"
      ]
    },
    {
      "cell_type": "markdown",
      "metadata": {
        "id": "l_IyqaNgyTnV"
      },
      "source": [
        "### Train : Test = 30 : 70"
      ]
    },
    {
      "cell_type": "code",
      "execution_count": null,
      "metadata": {
        "colab": {
          "base_uri": "https://localhost:8080/",
          "height": 670
        },
        "id": "q32-ORFmyTnV",
        "outputId": "03aac423-5587-4518-dbfa-ac449c194665"
      },
      "outputs": [
        {
          "name": "stdout",
          "output_type": "stream",
          "text": [
            "{'algorithm': ['viterbi', 'map'],\n",
            " 'covariance_type': ['spherical', 'tied', 'full', 'diag'],\n",
            " 'n_iter': [10, 257, 505, 752, 1000]}\n",
            "\n",
            "Confusion Matrix:\n",
            "[[235  22]\n",
            " [ 23 119]]\n",
            "--------------------------------------------------\n",
            "--------------------------------------------------\n",
            "Performance Evaluation\n",
            "              precision    recall  f1-score   support\n",
            "\n",
            "           B       0.91      0.91      0.91       257\n",
            "           M       0.84      0.84      0.84       142\n",
            "\n",
            "    accuracy                           0.89       399\n",
            "   macro avg       0.88      0.88      0.88       399\n",
            "weighted avg       0.89      0.89      0.89       399\n",
            "\n",
            "--------------------------------------------------\n",
            "--------------------------------------------------\n",
            "Accuracy:\n",
            "0.8872180451127819\n"
          ]
        },
        {
          "data": {
            "image/png": "[encoded data removed]",
            "text/plain": [
              "<Figure size 432x288 with 2 Axes>"
            ]
          },
          "metadata": {
            "needs_background": "light"
          },
          "output_type": "display_data"
        }
      ],
      "source": [
        "import pandas as pd\n",
        "import numpy as np\n",
        "\n",
        "# Dataset Preparation\n",
        "df = pd.read_csv(\"https://archive.ics.uci.edu/ml/machine-learning-databases/breast-cancer-wisconsin/wdbc.data\",header=None)\n",
        "\n",
        "df.columns = ['1','Class','3','4','5','6','7','8','9','10','11','12','13','14','15','16','17','18','19'\n",
        "           ,'20','21','22','23','24','25','26','27','28','29','30','31','32']\n",
        "\n",
        "\n",
        "X = df.drop(['1','Class'], axis=1)\n",
        "y = df['Class']\n",
        "\n",
        "from sklearn.model_selection import train_test_split\n",
        "\n",
        "X_train, X_test, y_train, y_test = train_test_split(X,y, test_size=0.7)\n",
        "\n",
        "# Feature Scaling \n",
        "from sklearn.preprocessing import StandardScaler\n",
        "\n",
        "sc = StandardScaler()\n",
        "X_train = sc.fit_transform(X_train)\n",
        "X_test = sc.transform(X_test)\n",
        "\n",
        "# values for random grid\n",
        "n_components = [int(x) for x in np.linspace(1,5, num = 5)]\n",
        "\n",
        "covariance_type = ['spherical', 'tied', 'full', 'diag']\n",
        "\n",
        "algorithm = ['viterbi', 'map']\n",
        "\n",
        "n_iter = [int(x) for x in np.linspace(10, 1000, num = 5)]\n",
        "\n",
        "# Create the random grid\n",
        "random_grid = {\n",
        "               'covariance_type': covariance_type,\n",
        "               'algorithm': algorithm,\n",
        "               'n_iter': n_iter}\n",
        "\n",
        "from pprint import pprint\n",
        "\n",
        "pprint(random_grid)\n",
        "print()\n",
        "\n",
        "# Classification\n",
        "from hmmlearn import hmm\n",
        "\n",
        "classifier = hmm.GMMHMM(n_components=2)\n",
        "\n",
        "from sklearn.model_selection import GridSearchCV\n",
        "rf_random = GridSearchCV(classifier, random_grid, refit=True)\n",
        "\n",
        "rf_random.fit(X_train)\n",
        "\n",
        "y_pred = rf_random.predict(X_test)\n",
        "\n",
        "size = len(y_pred)\n",
        "strings = np.empty(size, np.unicode_)\n",
        "\n",
        "for i in range (size):\n",
        "    if y_pred[i] == 1:\n",
        "      strings[i] = (\"M\")\n",
        "    else:\n",
        "      strings[i] = (\"B\")\n",
        "\n",
        "from sklearn.metrics import classification_report, confusion_matrix, accuracy_score\n",
        "\n",
        "print(\"Confusion Matrix:\")\n",
        "cm = confusion_matrix(y_test, strings)\n",
        "print(cm)\n",
        "\n",
        "print(\"--------------------------------------------------\")\n",
        "print(\"--------------------------------------------------\")\n",
        "\n",
        "\n",
        "print(\"Performance Evaluation\")\n",
        "print(classification_report(y_test, strings))\n",
        "\n",
        "\n",
        "print(\"--------------------------------------------------\")\n",
        "print(\"--------------------------------------------------\")\n",
        "\n",
        "print(\"Accuracy:\")\n",
        "print(accuracy_score(y_test, strings))\n",
        "\n",
        "import matplotlib.pyplot as plt\n",
        "import seaborn as sns\n",
        "sns.heatmap(cm, annot=True, fmt=\"d\")\n",
        "plt.show()"
      ]
    },
    {
      "cell_type": "markdown",
      "metadata": {
        "id": "YTQORU37EJG1"
      },
      "source": [
        "# MultinomialHMM classifier"
      ]
    },
    {
      "cell_type": "markdown",
      "metadata": {
        "id": "83wu7eTBEJG-"
      },
      "source": [
        "## Without Tuning"
      ]
    },
    {
      "cell_type": "markdown",
      "metadata": {
        "id": "3rE3PeZdEJG-"
      },
      "source": [
        "### Train : Test = 70 : 30"
      ]
    },
    {
      "cell_type": "code",
      "execution_count": null,
      "metadata": {
        "colab": {
          "base_uri": "https://localhost:8080/",
          "height": 599
        },
        "id": "SO79GBs9EJG-",
        "outputId": "a3473027-08e8-4324-caec-212fdafbdf84"
      },
      "outputs": [
        {
          "name": "stdout",
          "output_type": "stream",
          "text": [
            "Confusion Matrix:\n",
            "[[95 11]\n",
            " [58  7]]\n",
            "--------------------------------------------------\n",
            "--------------------------------------------------\n",
            "Performance Evaluation\n",
            "              precision    recall  f1-score   support\n",
            "\n",
            "           B       0.62      0.90      0.73       106\n",
            "           M       0.39      0.11      0.17        65\n",
            "\n",
            "    accuracy                           0.60       171\n",
            "   macro avg       0.50      0.50      0.45       171\n",
            "weighted avg       0.53      0.60      0.52       171\n",
            "\n",
            "--------------------------------------------------\n",
            "--------------------------------------------------\n",
            "Accuracy:\n",
            "0.5964912280701754\n"
          ]
        },
        {
          "data": {
            "image/png": "[encoded data removed]",
            "text/plain": [
              "<Figure size 432x288 with 2 Axes>"
            ]
          },
          "metadata": {
            "needs_background": "light"
          },
          "output_type": "display_data"
        }
      ],
      "source": [
        "import pandas as pd\n",
        "import numpy as np\n",
        "\n",
        "# Dataset Preparation\n",
        "df = pd.read_csv(\"https://archive.ics.uci.edu/ml/machine-learning-databases/breast-cancer-wisconsin/wdbc.data\",header=None)\n",
        "\n",
        "df.columns = ['1','Class','3','4','5','6','7','8','9','10','11','12','13','14','15','16','17','18','19'\n",
        "           ,'20','21','22','23','24','25','26','27','28','29','30','31','32']\n",
        "\n",
        "\n",
        "X = df.drop(['1','Class'], axis=1)\n",
        "y = df['Class']\n",
        "\n",
        "from sklearn.model_selection import train_test_split\n",
        "\n",
        "X_train, X_test, y_train, y_test = train_test_split(X,y, test_size=0.3)\n",
        "\n",
        "# Feature Scaling \n",
        "from sklearn.preprocessing import StandardScaler\n",
        "\n",
        "sc = StandardScaler()\n",
        "X_train = sc.fit_transform(X_train)\n",
        "X_test = sc.transform(X_test)\n",
        "\n",
        "# Classification\n",
        "from hmmlearn import hmm\n",
        "\n",
        "classifier = hmm.MultinomialHMM(n_components=2)\n",
        "\n",
        "import math\n",
        "row = len(X_train)\n",
        "col = len(X_train[0])\n",
        "new = [1] * X_train[0].size\n",
        "for i in range(row):\n",
        "    for j in range(col):\n",
        "        X_train[i][j] = X_train[i][j]*10\n",
        "        X_train[i][j] = math.floor(X_train[i][j])\n",
        "    x = X_train[i].astype(np.int)\n",
        "    new = np.vstack([new,x])\n",
        "\n",
        "y = new\n",
        "y = np.absolute(y)\n",
        "X_train = y\n",
        "\n",
        "\n",
        "import math\n",
        "row = len(X_test)\n",
        "col = len(X_test[0])\n",
        "new = [1] * X_train[0].size\n",
        "\n",
        "for i in range(row):\n",
        "    for j in range(col):\n",
        "        X_test[i][j] = X_test[i][j]*10\n",
        "        X_test[i][j] = math.floor(X_test[i][j])\n",
        "    x = X_test[i].astype(np.int)\n",
        "    new = np.vstack([new,x])\n",
        "\n",
        "y = new\n",
        "y = np.absolute(y)\n",
        "X_test = y\n",
        "\n",
        "\n",
        "classifier.fit(X_train)\n",
        "\n",
        "y_pred = classifier.predict(X_test)\n",
        "\n",
        "size = len(y_pred)\n",
        "strings = np.empty(size, np.unicode_)\n",
        "\n",
        "for i in range (size):\n",
        "    if y_pred[i] == 1:\n",
        "      strings[i] = (\"M\")\n",
        "    else:\n",
        "      strings[i] = (\"B\")\n",
        "\n",
        "strings\n",
        "strings = strings[0:y_test.size]\n",
        "\n",
        "from sklearn.metrics import classification_report, confusion_matrix, accuracy_score\n",
        "\n",
        "print(\"Confusion Matrix:\")\n",
        "cm = confusion_matrix(y_test, strings)\n",
        "print(cm)\n",
        "\n",
        "print(\"--------------------------------------------------\")\n",
        "print(\"--------------------------------------------------\")\n",
        "\n",
        "\n",
        "print(\"Performance Evaluation\")\n",
        "print(classification_report(y_test, strings))\n",
        "\n",
        "\n",
        "print(\"--------------------------------------------------\")\n",
        "print(\"--------------------------------------------------\")\n",
        "\n",
        "print(\"Accuracy:\")\n",
        "print(accuracy_score(y_test, strings))\n",
        "\n",
        "import matplotlib.pyplot as plt\n",
        "import seaborn as sns\n",
        "sns.heatmap(cm, annot=True, fmt=\"d\")\n",
        "plt.show()"
      ]
    },
    {
      "cell_type": "markdown",
      "metadata": {
        "id": "MkI_Fr8REJG-"
      },
      "source": [
        "### Train : Test = 60 : 40"
      ]
    },
    {
      "cell_type": "code",
      "execution_count": null,
      "metadata": {
        "colab": {
          "base_uri": "https://localhost:8080/",
          "height": 599
        },
        "id": "QhdYJJMoEJG-",
        "outputId": "3594e029-d571-4d49-990f-1b87fb6cf41b"
      },
      "outputs": [
        {
          "name": "stdout",
          "output_type": "stream",
          "text": [
            "Confusion Matrix:\n",
            "[[74 71]\n",
            " [48 35]]\n",
            "--------------------------------------------------\n",
            "--------------------------------------------------\n",
            "Performance Evaluation\n",
            "              precision    recall  f1-score   support\n",
            "\n",
            "           B       0.61      0.51      0.55       145\n",
            "           M       0.33      0.42      0.37        83\n",
            "\n",
            "    accuracy                           0.48       228\n",
            "   macro avg       0.47      0.47      0.46       228\n",
            "weighted avg       0.51      0.48      0.49       228\n",
            "\n",
            "--------------------------------------------------\n",
            "--------------------------------------------------\n",
            "Accuracy:\n",
            "0.4780701754385965\n"
          ]
        },
        {
          "data": {
            "image/png": "[encoded data removed]",
            "text/plain": [
              "<Figure size 432x288 with 2 Axes>"
            ]
          },
          "metadata": {
            "needs_background": "light"
          },
          "output_type": "display_data"
        }
      ],
      "source": [
        "import pandas as pd\n",
        "import numpy as np\n",
        "\n",
        "# Dataset Preparation\n",
        "df = pd.read_csv(\"https://archive.ics.uci.edu/ml/machine-learning-databases/breast-cancer-wisconsin/wdbc.data\",header=None)\n",
        "\n",
        "df.columns = ['1','Class','3','4','5','6','7','8','9','10','11','12','13','14','15','16','17','18','19'\n",
        "           ,'20','21','22','23','24','25','26','27','28','29','30','31','32']\n",
        "\n",
        "\n",
        "X = df.drop(['1','Class'], axis=1)\n",
        "y = df['Class']\n",
        "\n",
        "from sklearn.model_selection import train_test_split\n",
        "\n",
        "X_train, X_test, y_train, y_test = train_test_split(X,y, test_size=0.4)\n",
        "\n",
        "# Feature Scaling \n",
        "from sklearn.preprocessing import StandardScaler\n",
        "\n",
        "sc = StandardScaler()\n",
        "X_train = sc.fit_transform(X_train)\n",
        "X_test = sc.transform(X_test)\n",
        "\n",
        "# Classification\n",
        "from hmmlearn import hmm\n",
        "\n",
        "classifier = hmm.MultinomialHMM(n_components=2)\n",
        "\n",
        "import math\n",
        "row = len(X_train)\n",
        "col = len(X_train[0])\n",
        "new = [1] * col\n",
        "for i in range(row):\n",
        "    for j in range(col):\n",
        "        X_train[i][j] = X_train[i][j]*10\n",
        "        X_train[i][j] = math.floor(X_train[i][j])\n",
        "    x = X_train[i].astype(np.int)\n",
        "    new = np.vstack([new,x])\n",
        "\n",
        "y = new\n",
        "y = np.absolute(y)\n",
        "X_train = y\n",
        "\n",
        "\n",
        "import math\n",
        "row = len(X_test)\n",
        "col = len(X_test[0])\n",
        "new = [1] * col\n",
        "\n",
        "for i in range(row):\n",
        "    for j in range(col):\n",
        "        X_test[i][j] = X_test[i][j]*10\n",
        "        X_test[i][j] = math.floor(X_test[i][j])\n",
        "    x = X_test[i].astype(np.int)\n",
        "    new = np.vstack([new,x])\n",
        "\n",
        "y = new\n",
        "y = np.absolute(y)\n",
        "X_test = y\n",
        "\n",
        "\n",
        "classifier.fit(X_train)\n",
        "\n",
        "y_pred = classifier.predict(X_test)\n",
        "\n",
        "size = len(y_pred)\n",
        "strings = np.empty(size, np.unicode_)\n",
        "\n",
        "for i in range (size):\n",
        "    if y_pred[i] == 1:\n",
        "      strings[i] = (\"M\")\n",
        "    else:\n",
        "      strings[i] = (\"B\")\n",
        "\n",
        "strings\n",
        "strings = strings[0:y_test.size]\n",
        "\n",
        "from sklearn.metrics import classification_report, confusion_matrix, accuracy_score\n",
        "\n",
        "print(\"Confusion Matrix:\")\n",
        "cm = confusion_matrix(y_test, strings)\n",
        "print(cm)\n",
        "\n",
        "print(\"--------------------------------------------------\")\n",
        "print(\"--------------------------------------------------\")\n",
        "\n",
        "\n",
        "print(\"Performance Evaluation\")\n",
        "print(classification_report(y_test, strings))\n",
        "\n",
        "\n",
        "print(\"--------------------------------------------------\")\n",
        "print(\"--------------------------------------------------\")\n",
        "\n",
        "print(\"Accuracy:\")\n",
        "print(accuracy_score(y_test, strings))\n",
        "\n",
        "import matplotlib.pyplot as plt\n",
        "import seaborn as sns\n",
        "sns.heatmap(cm, annot=True, fmt=\"d\")\n",
        "plt.show()"
      ]
    },
    {
      "cell_type": "markdown",
      "metadata": {
        "id": "CbooBDxpEJG_"
      },
      "source": [
        "### Train : Test = 50 : 50"
      ]
    },
    {
      "cell_type": "code",
      "execution_count": null,
      "metadata": {
        "colab": {
          "base_uri": "https://localhost:8080/",
          "height": 599
        },
        "id": "WR_4bSRWEJG_",
        "outputId": "731471d4-6f15-4d2e-90d4-766c15d11752"
      },
      "outputs": [
        {
          "name": "stdout",
          "output_type": "stream",
          "text": [
            "Confusion Matrix:\n",
            "[[84 98]\n",
            " [40 63]]\n",
            "--------------------------------------------------\n",
            "--------------------------------------------------\n",
            "Performance Evaluation\n",
            "              precision    recall  f1-score   support\n",
            "\n",
            "           B       0.68      0.46      0.55       182\n",
            "           M       0.39      0.61      0.48       103\n",
            "\n",
            "    accuracy                           0.52       285\n",
            "   macro avg       0.53      0.54      0.51       285\n",
            "weighted avg       0.57      0.52      0.52       285\n",
            "\n",
            "--------------------------------------------------\n",
            "--------------------------------------------------\n",
            "Accuracy:\n",
            "0.5157894736842106\n"
          ]
        },
        {
          "data": {
            "image/png": "[encoded data removed]",
            "text/plain": [
              "<Figure size 432x288 with 2 Axes>"
            ]
          },
          "metadata": {
            "needs_background": "light"
          },
          "output_type": "display_data"
        }
      ],
      "source": [
        "import pandas as pd\n",
        "import numpy as np\n",
        "\n",
        "# Dataset Preparation\n",
        "df = pd.read_csv(\"https://archive.ics.uci.edu/ml/machine-learning-databases/breast-cancer-wisconsin/wdbc.data\",header=None)\n",
        "\n",
        "df.columns = ['1','Class','3','4','5','6','7','8','9','10','11','12','13','14','15','16','17','18','19'\n",
        "           ,'20','21','22','23','24','25','26','27','28','29','30','31','32']\n",
        "\n",
        "\n",
        "X = df.drop(['1','Class'], axis=1)\n",
        "y = df['Class']\n",
        "\n",
        "from sklearn.model_selection import train_test_split\n",
        "\n",
        "X_train, X_test, y_train, y_test = train_test_split(X,y, test_size=0.5)\n",
        "\n",
        "# Feature Scaling \n",
        "from sklearn.preprocessing import StandardScaler\n",
        "\n",
        "sc = StandardScaler()\n",
        "X_train = sc.fit_transform(X_train)\n",
        "X_test = sc.transform(X_test)\n",
        "\n",
        "# Classification\n",
        "from hmmlearn import hmm\n",
        "\n",
        "classifier = hmm.MultinomialHMM(n_components=2)\n",
        "\n",
        "import math\n",
        "row = len(X_train)\n",
        "col = len(X_train[0])\n",
        "new = [1] * col\n",
        "for i in range(row):\n",
        "    for j in range(col):\n",
        "        X_train[i][j] = X_train[i][j]*10\n",
        "        X_train[i][j] = math.floor(X_train[i][j])\n",
        "    x = X_train[i].astype(np.int)\n",
        "    new = np.vstack([new,x])\n",
        "\n",
        "y = new\n",
        "y = np.absolute(y)\n",
        "X_train = y\n",
        "\n",
        "\n",
        "import math\n",
        "row = len(X_test)\n",
        "col = len(X_test[0])\n",
        "new = [1] * col\n",
        "\n",
        "for i in range(row):\n",
        "    for j in range(col):\n",
        "        X_test[i][j] = X_test[i][j]*10\n",
        "        X_test[i][j] = math.floor(X_test[i][j])\n",
        "    x = X_test[i].astype(np.int)\n",
        "    new = np.vstack([new,x])\n",
        "\n",
        "y = new\n",
        "y = np.absolute(y)\n",
        "X_test = y\n",
        "\n",
        "\n",
        "classifier.fit(X_train)\n",
        "\n",
        "y_pred = classifier.predict(X_test)\n",
        "\n",
        "size = len(y_pred)\n",
        "strings = np.empty(size, np.unicode_)\n",
        "\n",
        "for i in range (size):\n",
        "    if y_pred[i] == 1:\n",
        "      strings[i] = (\"M\")\n",
        "    else:\n",
        "      strings[i] = (\"B\")\n",
        "\n",
        "strings\n",
        "strings = strings[0:y_test.size]\n",
        "\n",
        "from sklearn.metrics import classification_report, confusion_matrix, accuracy_score\n",
        "\n",
        "print(\"Confusion Matrix:\")\n",
        "cm = confusion_matrix(y_test, strings)\n",
        "print(cm)\n",
        "\n",
        "print(\"--------------------------------------------------\")\n",
        "print(\"--------------------------------------------------\")\n",
        "\n",
        "\n",
        "print(\"Performance Evaluation\")\n",
        "print(classification_report(y_test, strings))\n",
        "\n",
        "\n",
        "print(\"--------------------------------------------------\")\n",
        "print(\"--------------------------------------------------\")\n",
        "\n",
        "print(\"Accuracy:\")\n",
        "print(accuracy_score(y_test, strings))\n",
        "\n",
        "import matplotlib.pyplot as plt\n",
        "import seaborn as sns\n",
        "sns.heatmap(cm, annot=True, fmt=\"d\")\n",
        "plt.show()"
      ]
    },
    {
      "cell_type": "markdown",
      "metadata": {
        "id": "ns1ka-lnEJG_"
      },
      "source": [
        "### Train : Test = 40 : 60"
      ]
    },
    {
      "cell_type": "code",
      "execution_count": null,
      "metadata": {
        "colab": {
          "base_uri": "https://localhost:8080/",
          "height": 599
        },
        "id": "B4rTl37KEJG_",
        "outputId": "9b2e9f97-0cfe-4354-b628-ddbc7b4ce1ff"
      },
      "outputs": [
        {
          "name": "stdout",
          "output_type": "stream",
          "text": [
            "Confusion Matrix:\n",
            "[[122  85]\n",
            " [ 75  60]]\n",
            "--------------------------------------------------\n",
            "--------------------------------------------------\n",
            "Performance Evaluation\n",
            "              precision    recall  f1-score   support\n",
            "\n",
            "           B       0.62      0.59      0.60       207\n",
            "           M       0.41      0.44      0.43       135\n",
            "\n",
            "    accuracy                           0.53       342\n",
            "   macro avg       0.52      0.52      0.52       342\n",
            "weighted avg       0.54      0.53      0.53       342\n",
            "\n",
            "--------------------------------------------------\n",
            "--------------------------------------------------\n",
            "Accuracy:\n",
            "0.5321637426900585\n"
          ]
        },
        {
          "data": {
            "image/png": "[encoded data removed]",
            "text/plain": [
              "<Figure size 432x288 with 2 Axes>"
            ]
          },
          "metadata": {
            "needs_background": "light"
          },
          "output_type": "display_data"
        }
      ],
      "source": [
        "import pandas as pd\n",
        "import numpy as np\n",
        "\n",
        "# Dataset Preparation\n",
        "df = pd.read_csv(\"https://archive.ics.uci.edu/ml/machine-learning-databases/breast-cancer-wisconsin/wdbc.data\",header=None)\n",
        "\n",
        "df.columns = ['1','Class','3','4','5','6','7','8','9','10','11','12','13','14','15','16','17','18','19'\n",
        "           ,'20','21','22','23','24','25','26','27','28','29','30','31','32']\n",
        "\n",
        "\n",
        "X = df.drop(['1','Class'], axis=1)\n",
        "y = df['Class']\n",
        "\n",
        "from sklearn.model_selection import train_test_split\n",
        "\n",
        "X_train, X_test, y_train, y_test = train_test_split(X,y, test_size=0.6)\n",
        "\n",
        "# Feature Scaling \n",
        "from sklearn.preprocessing import StandardScaler\n",
        "\n",
        "sc = StandardScaler()\n",
        "X_train = sc.fit_transform(X_train)\n",
        "X_test = sc.transform(X_test)\n",
        "\n",
        "# Classification\n",
        "from hmmlearn import hmm\n",
        "\n",
        "classifier = hmm.MultinomialHMM(n_components=4, random_state=15,n_iter=10,algorithm='viterbi',params='ste')\n",
        "\n",
        "import math\n",
        "row = len(X_train)\n",
        "col = len(X_train[0])\n",
        "new = [1] * col\n",
        "for i in range(row):\n",
        "    for j in range(col):\n",
        "        X_train[i][j] = X_train[i][j]*10\n",
        "        X_train[i][j] = math.floor(X_train[i][j])\n",
        "    x = X_train[i].astype(np.int)\n",
        "    new = np.vstack([new,x])\n",
        "\n",
        "y = new\n",
        "y = np.absolute(y)\n",
        "X_train = y\n",
        "\n",
        "\n",
        "import math\n",
        "row = len(X_test)\n",
        "col = len(X_test[0])\n",
        "new = [1] * col\n",
        "\n",
        "for i in range(row):\n",
        "    for j in range(col):\n",
        "        X_test[i][j] = X_test[i][j]*10\n",
        "        X_test[i][j] = math.floor(X_test[i][j])\n",
        "    x = X_test[i].astype(np.int)\n",
        "    new = np.vstack([new,x])\n",
        "\n",
        "y = new\n",
        "y = np.absolute(y)\n",
        "X_test = y\n",
        "\n",
        "\n",
        "classifier.fit(X_train)\n",
        "\n",
        "y_pred = classifier.predict(X_test)\n",
        "\n",
        "size = len(y_pred)\n",
        "strings = np.empty(size, np.unicode_)\n",
        "\n",
        "for i in range (size):\n",
        "    if y_pred[i] == 1:\n",
        "      strings[i] = (\"M\")\n",
        "    else:\n",
        "      strings[i] = (\"B\")\n",
        "\n",
        "strings\n",
        "strings = strings[0:y_test.size]\n",
        "\n",
        "from sklearn.metrics import classification_report, confusion_matrix, accuracy_score\n",
        "\n",
        "print(\"Confusion Matrix:\")\n",
        "cm = confusion_matrix(y_test, strings)\n",
        "print(cm)\n",
        "\n",
        "print(\"--------------------------------------------------\")\n",
        "print(\"--------------------------------------------------\")\n",
        "\n",
        "\n",
        "print(\"Performance Evaluation\")\n",
        "print(classification_report(y_test, strings))\n",
        "\n",
        "\n",
        "print(\"--------------------------------------------------\")\n",
        "print(\"--------------------------------------------------\")\n",
        "\n",
        "print(\"Accuracy:\")\n",
        "print(accuracy_score(y_test, strings))\n",
        "\n",
        "import matplotlib.pyplot as plt\n",
        "import seaborn as sns\n",
        "sns.heatmap(cm, annot=True, fmt=\"d\")\n",
        "plt.show()"
      ]
    },
    {
      "cell_type": "markdown",
      "metadata": {
        "id": "ZCFnUsR8EJHA"
      },
      "source": [
        "### Train : Test = 30 : 70"
      ]
    },
    {
      "cell_type": "code",
      "execution_count": null,
      "metadata": {
        "colab": {
          "base_uri": "https://localhost:8080/",
          "height": 599
        },
        "id": "Q11WwFZ6EJHA",
        "outputId": "45606eda-89b6-495e-9136-7fbbec8f1544"
      },
      "outputs": [
        {
          "name": "stdout",
          "output_type": "stream",
          "text": [
            "Confusion Matrix:\n",
            "[[207  43]\n",
            " [128  21]]\n",
            "--------------------------------------------------\n",
            "--------------------------------------------------\n",
            "Performance Evaluation\n",
            "              precision    recall  f1-score   support\n",
            "\n",
            "           B       0.62      0.83      0.71       250\n",
            "           M       0.33      0.14      0.20       149\n",
            "\n",
            "    accuracy                           0.57       399\n",
            "   macro avg       0.47      0.48      0.45       399\n",
            "weighted avg       0.51      0.57      0.52       399\n",
            "\n",
            "--------------------------------------------------\n",
            "--------------------------------------------------\n",
            "Accuracy:\n",
            "0.5714285714285714\n"
          ]
        },
        {
          "data": {
            "image/png": "[encoded data removed]",
            "text/plain": [
              "<Figure size 432x288 with 2 Axes>"
            ]
          },
          "metadata": {
            "needs_background": "light"
          },
          "output_type": "display_data"
        }
      ],
      "source": [
        "import pandas as pd\n",
        "import numpy as np\n",
        "\n",
        "# Dataset Preparation\n",
        "df = pd.read_csv(\"https://archive.ics.uci.edu/ml/machine-learning-databases/breast-cancer-wisconsin/wdbc.data\",header=None)\n",
        "\n",
        "df.columns = ['1','Class','3','4','5','6','7','8','9','10','11','12','13','14','15','16','17','18','19'\n",
        "           ,'20','21','22','23','24','25','26','27','28','29','30','31','32']\n",
        "\n",
        "\n",
        "X = df.drop(['1','Class'], axis=1)\n",
        "y = df['Class']\n",
        "\n",
        "from sklearn.model_selection import train_test_split\n",
        "\n",
        "X_train, X_test, y_train, y_test = train_test_split(X,y, test_size=0.7)\n",
        "\n",
        "# Feature Scaling \n",
        "from sklearn.preprocessing import StandardScaler\n",
        "\n",
        "sc = StandardScaler()\n",
        "X_train = sc.fit_transform(X_train)\n",
        "X_test = sc.transform(X_test)\n",
        "\n",
        "# Classification\n",
        "from hmmlearn import hmm\n",
        "\n",
        "classifier = hmm.MultinomialHMM(n_components=2, random_state=42)\n",
        "\n",
        "import math\n",
        "row = len(X_train)\n",
        "col = len(X_train[0])\n",
        "new = [1] * col\n",
        "for i in range(row):\n",
        "    for j in range(col):\n",
        "        X_train[i][j] = X_train[i][j]*10\n",
        "        X_train[i][j] = math.floor(X_train[i][j])\n",
        "    x = X_train[i].astype(np.int)\n",
        "    new = np.vstack([new,x])\n",
        "\n",
        "y = new\n",
        "y = np.absolute(y)\n",
        "X_train = y\n",
        "\n",
        "\n",
        "import math\n",
        "row = len(X_test)\n",
        "col = len(X_test[0])\n",
        "new = [1] * col\n",
        "\n",
        "for i in range(row):\n",
        "    for j in range(col):\n",
        "        X_test[i][j] = X_test[i][j]*10\n",
        "        X_test[i][j] = math.floor(X_test[i][j])\n",
        "    x = X_test[i].astype(np.int)\n",
        "    new = np.vstack([new,x])\n",
        "\n",
        "y = new\n",
        "y = np.absolute(y)\n",
        "X_test = y\n",
        "\n",
        "\n",
        "classifier.fit(X_train)\n",
        "\n",
        "y_pred = classifier.predict(X_test)\n",
        "\n",
        "size = len(y_pred)\n",
        "strings = np.empty(size, np.unicode_)\n",
        "\n",
        "for i in range (size):\n",
        "    if y_pred[i] == 1:\n",
        "      strings[i] = (\"M\")\n",
        "    else:\n",
        "      strings[i] = (\"B\")\n",
        "\n",
        "strings = strings[0:y_test.size]\n",
        "\n",
        "from sklearn.metrics import classification_report, confusion_matrix, accuracy_score\n",
        "\n",
        "print(\"Confusion Matrix:\")\n",
        "cm = confusion_matrix(y_test, strings)\n",
        "print(cm)\n",
        "\n",
        "print(\"--------------------------------------------------\")\n",
        "print(\"--------------------------------------------------\")\n",
        "\n",
        "\n",
        "print(\"Performance Evaluation\")\n",
        "print(classification_report(y_test, strings))\n",
        "\n",
        "\n",
        "print(\"--------------------------------------------------\")\n",
        "print(\"--------------------------------------------------\")\n",
        "\n",
        "print(\"Accuracy:\")\n",
        "print(accuracy_score(y_test, strings))\n",
        "\n",
        "import matplotlib.pyplot as plt\n",
        "import seaborn as sns\n",
        "sns.heatmap(cm, annot=True, fmt=\"d\")\n",
        "plt.show()"
      ]
    },
    {
      "cell_type": "markdown",
      "metadata": {
        "id": "tBazWbfVEJHA"
      },
      "source": [
        "## With Tuning"
      ]
    },
    {
      "cell_type": "markdown",
      "metadata": {
        "id": "za5uQolCEJHA"
      },
      "source": [
        "### Train : Test = 70 : 30"
      ]
    },
    {
      "cell_type": "code",
      "execution_count": 18,
      "metadata": {
        "colab": {
          "base_uri": "https://localhost:8080/",
          "height": 690
        },
        "id": "POMEUhwr74k8",
        "outputId": "e78203b9-94a2-4f60-a26a-3314fd06ee25"
      },
      "outputs": [
        {
          "name": "stderr",
          "output_type": "stream",
          "text": [
            "/usr/local/lib/python3.7/dist-packages/hmmlearn/utils.py:57: RuntimeWarning: invalid value encountered in subtract\n",
            "  a -= a_lse\n",
            "/usr/local/lib/python3.7/dist-packages/sklearn/metrics/_classification.py:1272: UndefinedMetricWarning: Precision and F-score are ill-defined and being set to 0.0 in labels with no predicted samples. Use `zero_division` parameter to control this behavior.\n",
            "  _warn_prf(average, modifier, msg_start, len(result))\n"
          ]
        },
        {
          "name": "stdout",
          "output_type": "stream",
          "text": [
            "Confusion Matrix:\n",
            "[[103   0]\n",
            " [ 68   0]]\n",
            "--------------------------------------------------\n",
            "--------------------------------------------------\n",
            "Performance Evaluation\n",
            "              precision    recall  f1-score   support\n",
            "\n",
            "           B       0.60      1.00      0.75       103\n",
            "           M       0.00      0.00      0.00        68\n",
            "\n",
            "    accuracy                           0.60       171\n",
            "   macro avg       0.30      0.50      0.38       171\n",
            "weighted avg       0.36      0.60      0.45       171\n",
            "\n",
            "--------------------------------------------------\n",
            "--------------------------------------------------\n",
            "Accuracy:\n",
            "0.6023391812865497\n"
          ]
        },
        {
          "data": {
            "image/png": "[encoded data removed]",
            "text/plain": [
              "<Figure size 432x288 with 2 Axes>"
            ]
          },
          "metadata": {
            "needs_background": "light"
          },
          "output_type": "display_data"
        }
      ],
      "source": [
        "import pandas as pd\n",
        "import numpy as np\n",
        "\n",
        "# Dataset Preparation\n",
        "df = pd.read_csv(\"https://archive.ics.uci.edu/ml/machine-learning-databases/breast-cancer-wisconsin/wdbc.data\",header=None)\n",
        "\n",
        "df.columns = ['1','Class','3','4','5','6','7','8','9','10','11','12','13','14','15','16','17','18','19'\n",
        "           ,'20','21','22','23','24','25','26','27','28','29','30','31','32']\n",
        "\n",
        "\n",
        "X = df.drop(['1','Class'], axis=1)\n",
        "y = df['Class']\n",
        "\n",
        "from sklearn.model_selection import train_test_split\n",
        "\n",
        "X_train, X_test, y_train, y_test = train_test_split(X,y, test_size=0.3)\n",
        "\n",
        "# Feature Scaling \n",
        "from sklearn.preprocessing import StandardScaler\n",
        "\n",
        "sc = StandardScaler()\n",
        "X_train = sc.fit_transform(X_train)\n",
        "X_test = sc.transform(X_test)\n",
        "\n",
        "# Classification\n",
        "from hmmlearn import hmm\n",
        "\n",
        "classifier = hmm.MultinomialHMM(n_components=3, n_iter=1000, algorithm='map')\n",
        "\n",
        "import math\n",
        "row = len(X_train)\n",
        "col = len(X_train[0])\n",
        "new = [1] * col\n",
        "for i in range(row):\n",
        "    for j in range(col):\n",
        "        X_train[i][j] = X_train[i][j]*10\n",
        "        X_train[i][j] = math.floor(X_train[i][j])\n",
        "    x = X_train[i].astype(np.int)\n",
        "    new = np.vstack([new,x])\n",
        "\n",
        "y = new\n",
        "y = np.absolute(y)\n",
        "X_train = y\n",
        "\n",
        "\n",
        "import math\n",
        "row = len(X_test)\n",
        "col = len(X_test[0])\n",
        "new = [1] * col\n",
        "\n",
        "for i in range(row):\n",
        "    for j in range(col):\n",
        "        X_test[i][j] = X_test[i][j]*10\n",
        "        X_test[i][j] = math.floor(X_test[i][j])\n",
        "    x = X_test[i].astype(np.int)\n",
        "    new = np.vstack([new,x])\n",
        "\n",
        "y = new\n",
        "y = np.absolute(y)\n",
        "X_test = y\n",
        "\n",
        "\n",
        "classifier.fit(X_train)\n",
        "\n",
        "y_pred = classifier.predict(X_test)\n",
        "\n",
        "size = len(y_pred)\n",
        "strings = np.empty(size, np.unicode_)\n",
        "\n",
        "for i in range (size):\n",
        "    if y_pred[i] == 1:\n",
        "      strings[i] = (\"M\")\n",
        "    else:\n",
        "      strings[i] = (\"B\")\n",
        "\n",
        "strings\n",
        "strings = strings[0:y_test.size]\n",
        "\n",
        "from sklearn.metrics import classification_report, confusion_matrix, accuracy_score\n",
        "\n",
        "print(\"Confusion Matrix:\")\n",
        "cm = confusion_matrix(y_test, strings)\n",
        "print(cm)\n",
        "\n",
        "print(\"--------------------------------------------------\")\n",
        "print(\"--------------------------------------------------\")\n",
        "\n",
        "\n",
        "print(\"Performance Evaluation\")\n",
        "print(classification_report(y_test, strings))\n",
        "\n",
        "\n",
        "print(\"--------------------------------------------------\")\n",
        "print(\"--------------------------------------------------\")\n",
        "\n",
        "print(\"Accuracy:\")\n",
        "print(accuracy_score(y_test, strings))\n",
        "\n",
        "import matplotlib.pyplot as plt\n",
        "import seaborn as sns\n",
        "sns.heatmap(cm, annot=True, fmt=\"d\")\n",
        "plt.show()"
      ]
    },
    {
      "cell_type": "markdown",
      "metadata": {
        "id": "Uy3RG-vMEJHB"
      },
      "source": [
        "### Train : Test = 60 : 40"
      ]
    },
    {
      "cell_type": "code",
      "execution_count": 16,
      "metadata": {
        "colab": {
          "base_uri": "https://localhost:8080/",
          "height": 690
        },
        "id": "Z4qZ8IvJEJHB",
        "outputId": "5bfc2962-9001-4d9c-b78a-c4cddb84a13a"
      },
      "outputs": [
        {
          "name": "stderr",
          "output_type": "stream",
          "text": [
            "/usr/local/lib/python3.7/dist-packages/hmmlearn/utils.py:57: RuntimeWarning: invalid value encountered in subtract\n",
            "  a -= a_lse\n",
            "/usr/local/lib/python3.7/dist-packages/sklearn/metrics/_classification.py:1272: UndefinedMetricWarning: Precision and F-score are ill-defined and being set to 0.0 in labels with no predicted samples. Use `zero_division` parameter to control this behavior.\n",
            "  _warn_prf(average, modifier, msg_start, len(result))\n"
          ]
        },
        {
          "name": "stdout",
          "output_type": "stream",
          "text": [
            "Confusion Matrix:\n",
            "[[143   0]\n",
            " [ 85   0]]\n",
            "--------------------------------------------------\n",
            "--------------------------------------------------\n",
            "Performance Evaluation\n",
            "              precision    recall  f1-score   support\n",
            "\n",
            "           B       0.63      1.00      0.77       143\n",
            "           M       0.00      0.00      0.00        85\n",
            "\n",
            "    accuracy                           0.63       228\n",
            "   macro avg       0.31      0.50      0.39       228\n",
            "weighted avg       0.39      0.63      0.48       228\n",
            "\n",
            "--------------------------------------------------\n",
            "--------------------------------------------------\n",
            "Accuracy:\n",
            "0.6271929824561403\n"
          ]
        },
        {
          "data": {
            "image/png": "[encoded data removed]",
            "text/plain": [
              "<Figure size 432x288 with 2 Axes>"
            ]
          },
          "metadata": {
            "needs_background": "light"
          },
          "output_type": "display_data"
        }
      ],
      "source": [
        "import pandas as pd\n",
        "import numpy as np\n",
        "\n",
        "# Dataset Preparation\n",
        "df = pd.read_csv(\"https://archive.ics.uci.edu/ml/machine-learning-databases/breast-cancer-wisconsin/wdbc.data\",header=None)\n",
        "\n",
        "df.columns = ['1','Class','3','4','5','6','7','8','9','10','11','12','13','14','15','16','17','18','19'\n",
        "           ,'20','21','22','23','24','25','26','27','28','29','30','31','32']\n",
        "\n",
        "\n",
        "X = df.drop(['1','Class'], axis=1)\n",
        "y = df['Class']\n",
        "\n",
        "from sklearn.model_selection import train_test_split\n",
        "\n",
        "X_train, X_test, y_train, y_test = train_test_split(X,y, test_size=0.4)\n",
        "\n",
        "# Feature Scaling \n",
        "from sklearn.preprocessing import StandardScaler\n",
        "\n",
        "sc = StandardScaler()\n",
        "X_train = sc.fit_transform(X_train)\n",
        "X_test = sc.transform(X_test)\n",
        "\n",
        "# Classification\n",
        "from hmmlearn import hmm\n",
        "\n",
        "classifier = hmm.MultinomialHMM(n_components=3, n_iter=1000, algorithm='map')\n",
        "\n",
        "import math\n",
        "row = len(X_train)\n",
        "col = len(X_train[0])\n",
        "new = [1] * col\n",
        "for i in range(row):\n",
        "    for j in range(col):\n",
        "        X_train[i][j] = X_train[i][j]*10\n",
        "        X_train[i][j] = math.floor(X_train[i][j])\n",
        "    x = X_train[i].astype(np.int)\n",
        "    new = np.vstack([new,x])\n",
        "\n",
        "y = new\n",
        "y = np.absolute(y)\n",
        "X_train = y\n",
        "\n",
        "\n",
        "import math\n",
        "row = len(X_test)\n",
        "col = len(X_test[0])\n",
        "new = [1] * col\n",
        "\n",
        "for i in range(row):\n",
        "    for j in range(col):\n",
        "        X_test[i][j] = X_test[i][j]*10\n",
        "        X_test[i][j] = math.floor(X_test[i][j])\n",
        "    x = X_test[i].astype(np.int)\n",
        "    new = np.vstack([new,x])\n",
        "\n",
        "y = new\n",
        "y = np.absolute(y)\n",
        "X_test = y\n",
        "\n",
        "\n",
        "classifier.fit(X_train)\n",
        "\n",
        "y_pred = classifier.predict(X_test)\n",
        "\n",
        "size = len(y_pred)\n",
        "strings = np.empty(size, np.unicode_)\n",
        "\n",
        "for i in range (size):\n",
        "    if y_pred[i] == 1:\n",
        "      strings[i] = (\"M\")\n",
        "    else:\n",
        "      strings[i] = (\"B\")\n",
        "\n",
        "strings\n",
        "strings = strings[0:y_test.size]\n",
        "\n",
        "from sklearn.metrics import classification_report, confusion_matrix, accuracy_score\n",
        "\n",
        "print(\"Confusion Matrix:\")\n",
        "cm = confusion_matrix(y_test, strings)\n",
        "print(cm)\n",
        "\n",
        "print(\"--------------------------------------------------\")\n",
        "print(\"--------------------------------------------------\")\n",
        "\n",
        "\n",
        "print(\"Performance Evaluation\")\n",
        "print(classification_report(y_test, strings))\n",
        "\n",
        "\n",
        "print(\"--------------------------------------------------\")\n",
        "print(\"--------------------------------------------------\")\n",
        "\n",
        "print(\"Accuracy:\")\n",
        "print(accuracy_score(y_test, strings))\n",
        "\n",
        "import matplotlib.pyplot as plt\n",
        "import seaborn as sns\n",
        "sns.heatmap(cm, annot=True, fmt=\"d\")\n",
        "plt.show()"
      ]
    },
    {
      "cell_type": "markdown",
      "metadata": {
        "id": "UvEwotTYEJHB"
      },
      "source": [
        "### Train : Test = 50 : 50"
      ]
    },
    {
      "cell_type": "code",
      "execution_count": 15,
      "metadata": {
        "colab": {
          "base_uri": "https://localhost:8080/",
          "height": 690
        },
        "id": "pqpnncgTEJHB",
        "outputId": "23414d32-a3d8-4aa3-95aa-5b358a1ffca3"
      },
      "outputs": [
        {
          "name": "stderr",
          "output_type": "stream",
          "text": [
            "/usr/local/lib/python3.7/dist-packages/hmmlearn/utils.py:57: RuntimeWarning: invalid value encountered in subtract\n",
            "  a -= a_lse\n",
            "/usr/local/lib/python3.7/dist-packages/sklearn/metrics/_classification.py:1272: UndefinedMetricWarning: Precision and F-score are ill-defined and being set to 0.0 in labels with no predicted samples. Use `zero_division` parameter to control this behavior.\n",
            "  _warn_prf(average, modifier, msg_start, len(result))\n"
          ]
        },
        {
          "name": "stdout",
          "output_type": "stream",
          "text": [
            "Confusion Matrix:\n",
            "[[181   0]\n",
            " [104   0]]\n",
            "--------------------------------------------------\n",
            "--------------------------------------------------\n",
            "Performance Evaluation\n",
            "              precision    recall  f1-score   support\n",
            "\n",
            "           B       0.64      1.00      0.78       181\n",
            "           M       0.00      0.00      0.00       104\n",
            "\n",
            "    accuracy                           0.64       285\n",
            "   macro avg       0.32      0.50      0.39       285\n",
            "weighted avg       0.40      0.64      0.49       285\n",
            "\n",
            "--------------------------------------------------\n",
            "--------------------------------------------------\n",
            "Accuracy:\n",
            "0.6350877192982456\n"
          ]
        },
        {
          "data": {
            "image/png": "[encoded data removed]",
            "text/plain": [
              "<Figure size 432x288 with 2 Axes>"
            ]
          },
          "metadata": {
            "needs_background": "light"
          },
          "output_type": "display_data"
        }
      ],
      "source": [
        "import pandas as pd\n",
        "import numpy as np\n",
        "\n",
        "# Dataset Preparation\n",
        "df = pd.read_csv(\"https://archive.ics.uci.edu/ml/machine-learning-databases/breast-cancer-wisconsin/wdbc.data\",header=None)\n",
        "\n",
        "df.columns = ['1','Class','3','4','5','6','7','8','9','10','11','12','13','14','15','16','17','18','19'\n",
        "           ,'20','21','22','23','24','25','26','27','28','29','30','31','32']\n",
        "\n",
        "\n",
        "X = df.drop(['1','Class'], axis=1)\n",
        "y = df['Class']\n",
        "\n",
        "from sklearn.model_selection import train_test_split\n",
        "\n",
        "X_train, X_test, y_train, y_test = train_test_split(X,y, test_size=0.5)\n",
        "\n",
        "# Feature Scaling \n",
        "from sklearn.preprocessing import StandardScaler\n",
        "\n",
        "sc = StandardScaler()\n",
        "X_train = sc.fit_transform(X_train)\n",
        "X_test = sc.transform(X_test)\n",
        "\n",
        "# Classification\n",
        "from hmmlearn import hmm\n",
        "\n",
        "classifier = hmm.MultinomialHMM(n_components=3, n_iter=1000, algorithm='map')\n",
        "\n",
        "import math\n",
        "row = len(X_train)\n",
        "col = len(X_train[0])\n",
        "new = [1] * col\n",
        "for i in range(row):\n",
        "    for j in range(col):\n",
        "        X_train[i][j] = X_train[i][j]*10\n",
        "        X_train[i][j] = math.floor(X_train[i][j])\n",
        "    x = X_train[i].astype(np.int)\n",
        "    new = np.vstack([new,x])\n",
        "\n",
        "y = new\n",
        "y = np.absolute(y)\n",
        "X_train = y\n",
        "\n",
        "\n",
        "import math\n",
        "row = len(X_test)\n",
        "col = len(X_test[0])\n",
        "new = [1] * col\n",
        "\n",
        "for i in range(row):\n",
        "    for j in range(col):\n",
        "        X_test[i][j] = X_test[i][j]*10\n",
        "        X_test[i][j] = math.floor(X_test[i][j])\n",
        "    x = X_test[i].astype(np.int)\n",
        "    new = np.vstack([new,x])\n",
        "\n",
        "y = new\n",
        "y = np.absolute(y)\n",
        "X_test = y\n",
        "\n",
        "classifier.fit(X_train)\n",
        "\n",
        "y_pred = classifier.predict(X_test)\n",
        "\n",
        "size = len(y_pred)\n",
        "strings = np.empty(size, np.unicode_)\n",
        "\n",
        "for i in range (size):\n",
        "    if y_pred[i] == 1:\n",
        "      strings[i] = (\"M\")\n",
        "    else:\n",
        "      strings[i] = (\"B\")\n",
        "\n",
        "strings\n",
        "strings = strings[0:y_test.size]\n",
        "\n",
        "from sklearn.metrics import classification_report, confusion_matrix, accuracy_score\n",
        "\n",
        "print(\"Confusion Matrix:\")\n",
        "cm = confusion_matrix(y_test, strings)\n",
        "print(cm)\n",
        "\n",
        "print(\"--------------------------------------------------\")\n",
        "print(\"--------------------------------------------------\")\n",
        "\n",
        "\n",
        "print(\"Performance Evaluation\")\n",
        "print(classification_report(y_test, strings))\n",
        "\n",
        "\n",
        "print(\"--------------------------------------------------\")\n",
        "print(\"--------------------------------------------------\")\n",
        "\n",
        "print(\"Accuracy:\")\n",
        "print(accuracy_score(y_test, strings))\n",
        "\n",
        "import matplotlib.pyplot as plt\n",
        "import seaborn as sns\n",
        "sns.heatmap(cm, annot=True, fmt=\"d\")\n",
        "plt.show()"
      ]
    },
    {
      "cell_type": "markdown",
      "metadata": {
        "id": "bQOs33IBEJHC"
      },
      "source": [
        "### Train : Test = 40 : 60"
      ]
    },
    {
      "cell_type": "code",
      "execution_count": 13,
      "metadata": {
        "colab": {
          "base_uri": "https://localhost:8080/",
          "height": 690
        },
        "id": "vj2YnLmkFVAe",
        "outputId": "cd684059-1252-4eda-f0bc-941e30e0fefb"
      },
      "outputs": [
        {
          "name": "stderr",
          "output_type": "stream",
          "text": [
            "/usr/local/lib/python3.7/dist-packages/hmmlearn/utils.py:57: RuntimeWarning: invalid value encountered in subtract\n",
            "  a -= a_lse\n",
            "/usr/local/lib/python3.7/dist-packages/sklearn/metrics/_classification.py:1272: UndefinedMetricWarning: Precision and F-score are ill-defined and being set to 0.0 in labels with no predicted samples. Use `zero_division` parameter to control this behavior.\n",
            "  _warn_prf(average, modifier, msg_start, len(result))\n"
          ]
        },
        {
          "name": "stdout",
          "output_type": "stream",
          "text": [
            "Confusion Matrix:\n",
            "[[215   0]\n",
            " [127   0]]\n",
            "--------------------------------------------------\n",
            "--------------------------------------------------\n",
            "Performance Evaluation\n",
            "              precision    recall  f1-score   support\n",
            "\n",
            "           B       0.63      1.00      0.77       215\n",
            "           M       0.00      0.00      0.00       127\n",
            "\n",
            "    accuracy                           0.63       342\n",
            "   macro avg       0.31      0.50      0.39       342\n",
            "weighted avg       0.40      0.63      0.49       342\n",
            "\n",
            "--------------------------------------------------\n",
            "--------------------------------------------------\n",
            "Accuracy:\n",
            "0.6286549707602339\n"
          ]
        },
        {
          "data": {
            "image/png": "[encoded data removed]",
            "text/plain": [
              "<Figure size 432x288 with 2 Axes>"
            ]
          },
          "metadata": {
            "needs_background": "light"
          },
          "output_type": "display_data"
        }
      ],
      "source": [
        "import pandas as pd\n",
        "import numpy as np\n",
        "\n",
        "# Dataset Preparation\n",
        "df = pd.read_csv(\"https://archive.ics.uci.edu/ml/machine-learning-databases/breast-cancer-wisconsin/wdbc.data\",header=None)\n",
        "\n",
        "df.columns = ['1','Class','3','4','5','6','7','8','9','10','11','12','13','14','15','16','17','18','19'\n",
        "           ,'20','21','22','23','24','25','26','27','28','29','30','31','32']\n",
        "\n",
        "\n",
        "X = df.drop(['1','Class'], axis=1)\n",
        "y = df['Class']\n",
        "\n",
        "from sklearn.model_selection import train_test_split\n",
        "\n",
        "X_train, X_test, y_train, y_test = train_test_split(X,y, test_size=0.6)\n",
        "\n",
        "# Feature Scaling \n",
        "from sklearn.preprocessing import StandardScaler\n",
        "\n",
        "sc = StandardScaler()\n",
        "X_train = sc.fit_transform(X_train)\n",
        "X_test = sc.transform(X_test)\n",
        "\n",
        "# Classification\n",
        "from hmmlearn import hmm\n",
        "\n",
        "classifier = hmm.MultinomialHMM(n_components=3, n_iter=1000,algorithm='map' )\n",
        "\n",
        "import math\n",
        "row = len(X_train)\n",
        "col = len(X_train[0])\n",
        "new = [1] * col\n",
        "for i in range(row):\n",
        "    for j in range(col):\n",
        "        X_train[i][j] = X_train[i][j]*10\n",
        "        X_train[i][j] = math.floor(X_train[i][j])\n",
        "    x = X_train[i].astype(np.int)\n",
        "    new = np.vstack([new,x])\n",
        "\n",
        "y = new\n",
        "y = np.absolute(y)\n",
        "X_train = y\n",
        "\n",
        "\n",
        "import math\n",
        "row = len(X_test)\n",
        "col = len(X_test[0])\n",
        "new = [1] * col\n",
        "\n",
        "for i in range(row):\n",
        "    for j in range(col):\n",
        "        X_test[i][j] = X_test[i][j]*10\n",
        "        X_test[i][j] = math.floor(X_test[i][j])\n",
        "    x = X_test[i].astype(np.int)\n",
        "    new = np.vstack([new,x])\n",
        "\n",
        "y = new\n",
        "y = np.absolute(y)\n",
        "X_test = y\n",
        "\n",
        "\n",
        "classifier.fit(X_train)\n",
        "\n",
        "y_pred = classifier.predict(X_test)\n",
        "\n",
        "size = len(y_pred)\n",
        "strings = np.empty(size, np.unicode_)\n",
        "\n",
        "for i in range (size):\n",
        "    if y_pred[i] == 1:\n",
        "      strings[i] = (\"M\")\n",
        "    else:\n",
        "      strings[i] = (\"B\")\n",
        "\n",
        "strings\n",
        "strings = strings[0:y_test.size]\n",
        "\n",
        "from sklearn.metrics import classification_report, confusion_matrix, accuracy_score\n",
        "\n",
        "print(\"Confusion Matrix:\")\n",
        "cm = confusion_matrix(y_test, strings)\n",
        "print(cm)\n",
        "\n",
        "print(\"--------------------------------------------------\")\n",
        "print(\"--------------------------------------------------\")\n",
        "\n",
        "\n",
        "print(\"Performance Evaluation\")\n",
        "print(classification_report(y_test, strings))\n",
        "\n",
        "\n",
        "print(\"--------------------------------------------------\")\n",
        "print(\"--------------------------------------------------\")\n",
        "\n",
        "print(\"Accuracy:\")\n",
        "print(accuracy_score(y_test, strings))\n",
        "\n",
        "import matplotlib.pyplot as plt\n",
        "import seaborn as sns\n",
        "sns.heatmap(cm, annot=True, fmt=\"d\")\n",
        "plt.show()"
      ]
    },
    {
      "cell_type": "markdown",
      "metadata": {
        "id": "YfSsde3GEJHC"
      },
      "source": [
        "### Train : Test = 30 : 70"
      ]
    },
    {
      "cell_type": "code",
      "execution_count": 12,
      "metadata": {
        "colab": {
          "base_uri": "https://localhost:8080/",
          "height": 692
        },
        "id": "KxpR2D8TEJHC",
        "outputId": "9bbe5d38-4ce6-45c8-864d-58f2fd91ac4d"
      },
      "outputs": [
        {
          "name": "stderr",
          "output_type": "stream",
          "text": [
            "/usr/local/lib/python3.7/dist-packages/hmmlearn/utils.py:57: RuntimeWarning: invalid value encountered in subtract\n",
            "  a -= a_lse\n",
            "/usr/local/lib/python3.7/dist-packages/sklearn/metrics/_classification.py:1272: UndefinedMetricWarning: Precision and F-score are ill-defined and being set to 0.0 in labels with no predicted samples. Use `zero_division` parameter to control this behavior.\n",
            "  _warn_prf(average, modifier, msg_start, len(result))\n"
          ]
        },
        {
          "name": "stdout",
          "output_type": "stream",
          "text": [
            "Confusion Matrix:\n",
            "[[253   0]\n",
            " [146   0]]\n",
            "--------------------------------------------------\n",
            "--------------------------------------------------\n",
            "Performance Evaluation\n",
            "              precision    recall  f1-score   support\n",
            "\n",
            "           B       0.63      1.00      0.78       253\n",
            "           M       0.00      0.00      0.00       146\n",
            "\n",
            "    accuracy                           0.63       399\n",
            "   macro avg       0.32      0.50      0.39       399\n",
            "weighted avg       0.40      0.63      0.49       399\n",
            "\n",
            "--------------------------------------------------\n",
            "--------------------------------------------------\n",
            "Accuracy:\n",
            "0.6340852130325815\n"
          ]
        },
        {
          "data": {
            "image/png": "[encoded data removed]",
            "text/plain": [
              "<Figure size 432x288 with 2 Axes>"
            ]
          },
          "metadata": {
            "needs_background": "light"
          },
          "output_type": "display_data"
        }
      ],
      "source": [
        "import pandas as pd\n",
        "import numpy as np\n",
        "\n",
        "# Dataset Preparation\n",
        "df = pd.read_csv(\"https://archive.ics.uci.edu/ml/machine-learning-databases/breast-cancer-wisconsin/wdbc.data\",header=None)\n",
        "\n",
        "df.columns = ['1','Class','3','4','5','6','7','8','9','10','11','12','13','14','15','16','17','18','19'\n",
        "           ,'20','21','22','23','24','25','26','27','28','29','30','31','32']\n",
        "\n",
        "\n",
        "X = df.drop(['1','Class'], axis=1)\n",
        "y = df['Class']\n",
        "\n",
        "from sklearn.model_selection import train_test_split\n",
        "\n",
        "X_train, X_test, y_train, y_test = train_test_split(X,y, test_size=0.7)\n",
        "\n",
        "# Feature Scaling \n",
        "from sklearn.preprocessing import StandardScaler\n",
        "\n",
        "sc = StandardScaler()\n",
        "X_train = sc.fit_transform(X_train)\n",
        "X_test = sc.transform(X_test)\n",
        "\n",
        "# Classification\n",
        "from hmmlearn import hmm\n",
        "\n",
        "classifier = hmm.MultinomialHMM(n_components=3, n_iter=1000, algorithm='map')\n",
        "\n",
        "import math\n",
        "row = len(X_train)\n",
        "col = len(X_train[0])\n",
        "new = [1] * col\n",
        "for i in range(row):\n",
        "    for j in range(col):\n",
        "        X_train[i][j] = X_train[i][j]*10\n",
        "        X_train[i][j] = math.floor(X_train[i][j])\n",
        "    x = X_train[i].astype(np.int)\n",
        "    new = np.vstack([new,x])\n",
        "\n",
        "y = new\n",
        "y = np.absolute(y)\n",
        "X_train = y\n",
        "\n",
        "\n",
        "import math\n",
        "row = len(X_test)\n",
        "col = len(X_test[0])\n",
        "new = [1] * col\n",
        "\n",
        "for i in range(row):\n",
        "    for j in range(col):\n",
        "        X_test[i][j] = X_test[i][j]*10\n",
        "        X_test[i][j] = math.floor(X_test[i][j])\n",
        "    x = X_test[i].astype(np.int)\n",
        "    new = np.vstack([new,x])\n",
        "\n",
        "y = new\n",
        "y = np.absolute(y)\n",
        "X_test = y\n",
        "\n",
        "\n",
        "classifier.fit(X_train)\n",
        "\n",
        "y_pred = classifier.predict(X_test)\n",
        "\n",
        "size = len(y_pred)\n",
        "strings = np.empty(size, np.unicode_)\n",
        "\n",
        "for i in range (size):\n",
        "    if y_pred[i] == 1:\n",
        "      strings[i] = (\"M\")\n",
        "    else:\n",
        "      strings[i] = (\"B\")\n",
        "\n",
        "strings\n",
        "strings = strings[0:y_test.size]\n",
        "\n",
        "from sklearn.metrics import classification_report, confusion_matrix, accuracy_score\n",
        "\n",
        "print(\"Confusion Matrix:\")\n",
        "cm = confusion_matrix(y_test, strings)\n",
        "print(cm)\n",
        "\n",
        "print(\"--------------------------------------------------\")\n",
        "print(\"--------------------------------------------------\")\n",
        "\n",
        "\n",
        "print(\"Performance Evaluation\")\n",
        "print(classification_report(y_test, strings))\n",
        "\n",
        "\n",
        "print(\"--------------------------------------------------\")\n",
        "print(\"--------------------------------------------------\")\n",
        "\n",
        "print(\"Accuracy:\")\n",
        "print(accuracy_score(y_test, strings))\n",
        "\n",
        "import matplotlib.pyplot as plt\n",
        "import seaborn as sns\n",
        "sns.heatmap(cm, annot=True, fmt=\"d\")\n",
        "plt.show()"
      ]
    }
  ],
  "metadata": {
    "colab": {
      "collapsed_sections": [
        "1tCBX66q9bp3",
        "zH06QDRA-Ind",
        "gt-DkXb1-ZmU",
        "njWcJ-d3-sss",
        "mI8zL-ay-4XL"
      ],
      "name": "Breast Cancer Dataset.ipynb",
      "provenance": [],
      "toc_visible": true
    },
    "kernelspec": {
      "display_name": "Python 3",
      "name": "python3"
    },
    "language_info": {
      "name": "python"
    }
  },
  "nbformat": 4,
  "nbformat_minor": 0
}
