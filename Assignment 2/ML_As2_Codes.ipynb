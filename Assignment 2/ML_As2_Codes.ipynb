{
  "nbformat": 4,
  "nbformat_minor": 0,
  "metadata": {
    "colab": {
      "name": "ML_As2.ipynb",
      "provenance": [],
      "collapsed_sections": [
        "vdH5TSmdEI21",
        "4ucSBG8U8elz",
        "YklZhis2BwjC"
      ],
      "toc_visible": true
    },
    "kernelspec": {
      "name": "python3",
      "display_name": "Python 3"
    },
    "language_info": {
      "name": "python"
    }
  },
  "cells": [
    {
      "cell_type": "markdown",
      "metadata": {
        "id": "D87cahSGdRlj"
      },
      "source": [
        "# Random Forest Classifier"
      ]
    },
    {
      "cell_type": "markdown",
      "metadata": {
        "id": "-Bw4bKO22HvG"
      },
      "source": [
        "## Without Parameter Tuning"
      ]
    },
    {
      "cell_type": "code",
      "metadata": {
        "colab": {
          "base_uri": "https://localhost:8080/",
          "height": 578
        },
        "id": "wltoJYNwdgjR",
        "outputId": "82b835d5-a4fd-4dd5-8815-14c7c2e6a61f"
      },
      "source": [
        "import pandas as pd\n",
        "\n",
        "# Dataset Preparation\n",
        "dataset = pd.read_csv(\"drive/MyDrive/ML_As2/ionosphere.data\");\n",
        "dataset.columns = [ i for i in range(35) ]\n",
        "X = dataset.drop(columns=[34])\n",
        "y = dataset[34]\n",
        "\n",
        "from sklearn.model_selection import train_test_split\n",
        "X_train, X_test, y_train, y_test = train_test_split(X, y, test_size=0.20, random_state=0)\n",
        "\n",
        "# Feature Scaling\n",
        "from sklearn.preprocessing import StandardScaler\n",
        "\n",
        "sc = StandardScaler()\n",
        "X_train = sc.fit_transform(X_train)\n",
        "X_test = sc.transform(X_test)\n",
        "\n",
        "# Classification \n",
        "from sklearn.ensemble import RandomForestClassifier\n",
        "\n",
        "classifier = RandomForestClassifier()\n",
        "\n",
        "classifier.fit(X_train, y_train) \n",
        "y_pred = classifier.predict(X_test)\n",
        "\n",
        "# Evaluation of Classifier Performance\n",
        "from sklearn.metrics import classification_report, confusion_matrix, accuracy_score\n",
        "\n",
        "print(\"Confusion Matrix:\")\n",
        "print(confusion_matrix(y_test, y_pred))\n",
        "\n",
        "print(\"------------------------------------------------------------\")\n",
        "\n",
        "print(\"Performance Evaluation:\")\n",
        "print(classification_report(y_test, y_pred))\n",
        "\n",
        "print(\"------------------------------------------------------------\")\n",
        "\n",
        "print(\"Accuracy:\")\n",
        "accuracy = accuracy_score(y_test, y_pred)\n",
        "print(accuracy)\n",
        "\n",
        "# Visualizing Performance Measures\n",
        "from sklearn.metrics import plot_confusion_matrix\n",
        "import matplotlib.pyplot as plt  \n",
        "plot_confusion_matrix(classifier, X_test, y_test)\n",
        "plt.show()"
      ],
      "execution_count": null,
      "outputs": [
        {
          "output_type": "stream",
          "name": "stdout",
          "text": [
            "Confusion Matrix:\n",
            "[[25  1]\n",
            " [ 0 44]]\n",
            "------------------------------------------------------------\n",
            "Performance Evaluation:\n",
            "              precision    recall  f1-score   support\n",
            "\n",
            "           b       1.00      0.96      0.98        26\n",
            "           g       0.98      1.00      0.99        44\n",
            "\n",
            "    accuracy                           0.99        70\n",
            "   macro avg       0.99      0.98      0.98        70\n",
            "weighted avg       0.99      0.99      0.99        70\n",
            "\n",
            "------------------------------------------------------------\n",
            "Accuracy:\n",
            "0.9857142857142858\n"
          ]
        },
        {
          "output_type": "display_data",
          "data": {
            "image/png": "[encoded data removed]",
            "text/plain": [
              "<Figure size 432x288 with 2 Axes>"
            ]
          },
          "metadata": {
            "needs_background": "light"
          }
        }
      ]
    },
    {
      "cell_type": "markdown",
      "metadata": {
        "id": "iYwliSkd2RYQ"
      },
      "source": [
        "## With Parameter Tuning"
      ]
    },
    {
      "cell_type": "code",
      "metadata": {
        "colab": {
          "base_uri": "https://localhost:8080/",
          "height": 578
        },
        "id": "yJNtdo4v2RYR",
        "outputId": "31d3b7b7-05cb-4e9b-8ed3-e84178702176"
      },
      "source": [
        "import pandas as pd\n",
        "\n",
        "# Dataset Preparation\n",
        "dataset = pd.read_csv(\"drive/MyDrive/ML_As2/ionosphere.data\");\n",
        "dataset.columns = [ i for i in range(35) ]\n",
        "X = dataset.drop(columns=[34])\n",
        "y = dataset[34]\n",
        "\n",
        "from sklearn.model_selection import train_test_split\n",
        "X_train, X_test, y_train, y_test = train_test_split(X, y, test_size=0.20, random_state=0)\n",
        "\n",
        "# Feature Scaling\n",
        "from sklearn.preprocessing import StandardScaler\n",
        "\n",
        "sc = StandardScaler()\n",
        "X_train = sc.fit_transform(X_train)\n",
        "X_test = sc.transform(X_test)\n",
        "\n",
        "# Classification \n",
        "from sklearn.ensemble import RandomForestClassifier\n",
        "\n",
        "classifier = RandomForestClassifier(criterion=\"entropy\", n_estimators=20,random_state=0)\n",
        "\n",
        "classifier.fit(X_train, y_train) \n",
        "y_pred = classifier.predict(X_test)\n",
        "\n",
        "# Evaluation of Classifier Performance\n",
        "from sklearn.metrics import classification_report, confusion_matrix, accuracy_score\n",
        "\n",
        "print(\"Confusion Matrix:\")\n",
        "print(confusion_matrix(y_test, y_pred))\n",
        "\n",
        "print(\"------------------------------------------------------------\")\n",
        "\n",
        "print(\"Performance Evaluation:\")\n",
        "print(classification_report(y_test, y_pred))\n",
        "\n",
        "print(\"------------------------------------------------------------\")\n",
        "\n",
        "print(\"Accuracy:\")\n",
        "accuracy = accuracy_score(y_test, y_pred)\n",
        "print(accuracy)\n",
        "\n",
        "# Visualizing Performance Measures\n",
        "from sklearn.metrics import plot_confusion_matrix\n",
        "import matplotlib.pyplot as plt  \n",
        "plot_confusion_matrix(classifier, X_test, y_test)\n",
        "plt.show()"
      ],
      "execution_count": null,
      "outputs": [
        {
          "output_type": "stream",
          "name": "stdout",
          "text": [
            "Confusion Matrix:\n",
            "[[26  0]\n",
            " [ 1 43]]\n",
            "------------------------------------------------------------\n",
            "Performance Evaluation:\n",
            "              precision    recall  f1-score   support\n",
            "\n",
            "           b       0.96      1.00      0.98        26\n",
            "           g       1.00      0.98      0.99        44\n",
            "\n",
            "    accuracy                           0.99        70\n",
            "   macro avg       0.98      0.99      0.98        70\n",
            "weighted avg       0.99      0.99      0.99        70\n",
            "\n",
            "------------------------------------------------------------\n",
            "Accuracy:\n",
            "0.9857142857142858\n"
          ]
        },
        {
          "output_type": "display_data",
          "data": {
            "image/png": "[encoded data removed]",
            "text/plain": [
              "<Figure size 432x288 with 2 Axes>"
            ]
          },
          "metadata": {
            "needs_background": "light"
          }
        }
      ]
    },
    {
      "cell_type": "markdown",
      "metadata": {
        "id": "aANMrtpX2uos"
      },
      "source": [
        "## Principal Component Analysis\n",
        "Used Principal Component Analysis (PCA) for feature dimensionality reduction"
      ]
    },
    {
      "cell_type": "code",
      "metadata": {
        "colab": {
          "base_uri": "https://localhost:8080/",
          "height": 666
        },
        "id": "MLGRdraz2uot",
        "outputId": "65412363-f753-4443-bd16-1dd4a005ff14"
      },
      "source": [
        "import pandas as pd\n",
        "\n",
        "# Dataset Preparation\n",
        "dataset = pd.read_csv(\"drive/MyDrive/ML_As2/ionosphere.data\");\n",
        "dataset.columns = [ i for i in range(35) ]\n",
        "X = dataset.drop(columns=[34])\n",
        "y = dataset[34]\n",
        "\n",
        "from sklearn.model_selection import train_test_split\n",
        "X_train, X_test, y_train, y_test = train_test_split(X, y, test_size=0.20, random_state=0)\n",
        "\n",
        "# Feature Scaling\n",
        "from sklearn.preprocessing import StandardScaler\n",
        "\n",
        "sc = StandardScaler()\n",
        "X_train = sc.fit_transform(X_train)\n",
        "X_test = sc.transform(X_test)\n",
        "\n",
        "print(\"Before dimensionality reduction the dimensions of X_train are :\")\n",
        "print(X_train.shape)\n",
        "\n",
        "# Applying PCA function on training and testing set of X component\n",
        "from sklearn.decomposition import PCA \n",
        "pca = PCA(n_components = 2)\n",
        " \n",
        "X_train = pca.fit_transform(X_train)\n",
        "X_test = pca.transform(X_test)\n",
        " \n",
        "explained_variance = pca.explained_variance_ratio_\n",
        "\n",
        "print(\"After dimensionality reduction the dimensions of X_train are :\")\n",
        "print(X_train.shape)\n",
        "\n",
        "# Classification \n",
        "from sklearn.ensemble import RandomForestClassifier\n",
        "\n",
        "classifier = RandomForestClassifier(criterion=\"entropy\", n_estimators=20,random_state=0)\n",
        "\n",
        "classifier.fit(X_train, y_train) \n",
        "y_pred = classifier.predict(X_test)\n",
        "\n",
        "# Evaluation of Classifier Performance\n",
        "from sklearn.metrics import classification_report, confusion_matrix, accuracy_score\n",
        "\n",
        "print(\"\\nConfusion Matrix:\")\n",
        "print(confusion_matrix(y_test, y_pred))\n",
        "\n",
        "print(\"------------------------------------------------------------\")\n",
        "\n",
        "print(\"Performance Evaluation:\")\n",
        "print(classification_report(y_test, y_pred))\n",
        "\n",
        "print(\"------------------------------------------------------------\")\n",
        "\n",
        "print(\"Accuracy:\")\n",
        "accuracy = accuracy_score(y_test, y_pred)\n",
        "print(accuracy)\n",
        "\n",
        "# Visualizing Performance Measures\n",
        "from sklearn.metrics import plot_confusion_matrix\n",
        "import matplotlib.pyplot as plt  \n",
        "plot_confusion_matrix(classifier, X_test, y_test)\n",
        "plt.show()"
      ],
      "execution_count": null,
      "outputs": [
        {
          "output_type": "stream",
          "name": "stdout",
          "text": [
            "Before dimensionality reduction the dimensions of X_train are :\n",
            "(280, 34)\n",
            "After dimensionality reduction the dimensions of X_train are :\n",
            "(280, 2)\n",
            "\n",
            "Confusion Matrix:\n",
            "[[18  8]\n",
            " [ 7 37]]\n",
            "------------------------------------------------------------\n",
            "Performance Evaluation:\n",
            "              precision    recall  f1-score   support\n",
            "\n",
            "           b       0.72      0.69      0.71        26\n",
            "           g       0.82      0.84      0.83        44\n",
            "\n",
            "    accuracy                           0.79        70\n",
            "   macro avg       0.77      0.77      0.77        70\n",
            "weighted avg       0.78      0.79      0.78        70\n",
            "\n",
            "------------------------------------------------------------\n",
            "Accuracy:\n",
            "0.7857142857142857\n"
          ]
        },
        {
          "output_type": "display_data",
          "data": {
            "image/png": "[encoded data removed]",
            "text/plain": [
              "<Figure size 432x288 with 2 Axes>"
            ]
          },
          "metadata": {
            "needs_background": "light"
          }
        }
      ]
    },
    {
      "cell_type": "markdown",
      "metadata": {
        "id": "t2gT9YUaEI2o"
      },
      "source": [
        "# SVM Classifier"
      ]
    },
    {
      "cell_type": "markdown",
      "metadata": {
        "id": "X8pfYJpsEI2z"
      },
      "source": [
        "## Without Parameter Tuning"
      ]
    },
    {
      "cell_type": "code",
      "metadata": {
        "colab": {
          "base_uri": "https://localhost:8080/",
          "height": 578
        },
        "id": "OjyBoBK4EI20",
        "outputId": "2a1a23fc-5c19-4512-bcd2-54ff6d5145e3"
      },
      "source": [
        "import pandas as pd\n",
        "\n",
        "# Dataset Preparation\n",
        "dataset = pd.read_csv(\"drive/MyDrive/ML_As2/ionosphere.data\");\n",
        "dataset.columns = [ i for i in range(35) ]\n",
        "X = dataset.drop(columns=[34])\n",
        "y = dataset[34]\n",
        "\n",
        "from sklearn.model_selection import train_test_split\n",
        "X_train, X_test, y_train, y_test = train_test_split(X, y, test_size=0.20, random_state=0)\n",
        "\n",
        "# Classification \n",
        "from sklearn.svm import SVC\n",
        "\n",
        "classifier = SVC()\n",
        "\n",
        "classifier.fit(X_train, y_train) \n",
        "y_pred = classifier.predict(X_test)\n",
        "\n",
        "# Evaluation of Classifier Performance\n",
        "from sklearn.metrics import classification_report, confusion_matrix, accuracy_score\n",
        "\n",
        "print(\"Confusion Matrix:\")\n",
        "print(confusion_matrix(y_test, y_pred))\n",
        "\n",
        "print(\"------------------------------------------------------------\")\n",
        "\n",
        "print(\"Performance Evaluation:\")\n",
        "print(classification_report(y_test, y_pred))\n",
        "\n",
        "print(\"------------------------------------------------------------\")\n",
        "\n",
        "print(\"Accuracy:\")\n",
        "accuracy = accuracy_score(y_test, y_pred)\n",
        "print(accuracy)\n",
        "\n",
        "# Visualizing Performance Measures\n",
        "from sklearn.metrics import plot_confusion_matrix\n",
        "import matplotlib.pyplot as plt  \n",
        "plot_confusion_matrix(classifier, X_test, y_test)\n",
        "plt.show()"
      ],
      "execution_count": null,
      "outputs": [
        {
          "output_type": "stream",
          "name": "stdout",
          "text": [
            "Confusion Matrix:\n",
            "[[25  1]\n",
            " [ 0 44]]\n",
            "------------------------------------------------------------\n",
            "Performance Evaluation:\n",
            "              precision    recall  f1-score   support\n",
            "\n",
            "           b       1.00      0.96      0.98        26\n",
            "           g       0.98      1.00      0.99        44\n",
            "\n",
            "    accuracy                           0.99        70\n",
            "   macro avg       0.99      0.98      0.98        70\n",
            "weighted avg       0.99      0.99      0.99        70\n",
            "\n",
            "------------------------------------------------------------\n",
            "Accuracy:\n",
            "0.9857142857142858\n"
          ]
        },
        {
          "output_type": "display_data",
          "data": {
            "image/png": "[encoded data removed]",
            "text/plain": [
              "<Figure size 432x288 with 2 Axes>"
            ]
          },
          "metadata": {
            "needs_background": "light"
          }
        }
      ]
    },
    {
      "cell_type": "markdown",
      "metadata": {
        "id": "vdH5TSmdEI21"
      },
      "source": [
        "## With Parameter Tuning"
      ]
    },
    {
      "cell_type": "markdown",
      "metadata": {
        "id": "TLkcBkDEJH5e"
      },
      "source": [
        "### Linear Kernel"
      ]
    },
    {
      "cell_type": "code",
      "metadata": {
        "colab": {
          "base_uri": "https://localhost:8080/",
          "height": 578
        },
        "id": "5F-FAK-KEI21",
        "outputId": "9c2fcf5d-34a6-4b59-badc-c80c106b8101"
      },
      "source": [
        "import pandas as pd\n",
        "\n",
        "# Dataset Preparation\n",
        "dataset = pd.read_csv(\"drive/MyDrive/ML_As2/ionosphere.data\");\n",
        "dataset.columns = [ i for i in range(35) ]\n",
        "X = dataset.drop(columns=[34])\n",
        "y = dataset[34]\n",
        "\n",
        "from sklearn.model_selection import train_test_split\n",
        "X_train, X_test, y_train, y_test = train_test_split(X, y, test_size=0.20, random_state=0)\n",
        "\n",
        "# Classification \n",
        "from sklearn.svm import SVC\n",
        "\n",
        "classifier = SVC(kernel='linear')\n",
        "\n",
        "classifier.fit(X_train, y_train) \n",
        "y_pred = classifier.predict(X_test)\n",
        "\n",
        "# Evaluation of Classifier Performance\n",
        "from sklearn.metrics import classification_report, confusion_matrix, accuracy_score\n",
        "\n",
        "print(\"Confusion Matrix:\")\n",
        "print(confusion_matrix(y_test, y_pred))\n",
        "\n",
        "print(\"------------------------------------------------------------\")\n",
        "\n",
        "print(\"Performance Evaluation:\")\n",
        "print(classification_report(y_test, y_pred))\n",
        "\n",
        "print(\"------------------------------------------------------------\")\n",
        "\n",
        "print(\"Accuracy:\")\n",
        "accuracy = accuracy_score(y_test, y_pred)\n",
        "print(accuracy)\n",
        "\n",
        "# Visualizing Performance Measures\n",
        "from sklearn.metrics import plot_confusion_matrix\n",
        "import matplotlib.pyplot as plt  \n",
        "plot_confusion_matrix(classifier, X_test, y_test)\n",
        "plt.show()"
      ],
      "execution_count": null,
      "outputs": [
        {
          "output_type": "stream",
          "name": "stdout",
          "text": [
            "Confusion Matrix:\n",
            "[[22  4]\n",
            " [ 2 42]]\n",
            "------------------------------------------------------------\n",
            "Performance Evaluation:\n",
            "              precision    recall  f1-score   support\n",
            "\n",
            "           b       0.92      0.85      0.88        26\n",
            "           g       0.91      0.95      0.93        44\n",
            "\n",
            "    accuracy                           0.91        70\n",
            "   macro avg       0.91      0.90      0.91        70\n",
            "weighted avg       0.91      0.91      0.91        70\n",
            "\n",
            "------------------------------------------------------------\n",
            "Accuracy:\n",
            "0.9142857142857143\n"
          ]
        },
        {
          "output_type": "display_data",
          "data": {
            "image/png": "[encoded data removed]",
            "text/plain": [
              "<Figure size 432x288 with 2 Axes>"
            ]
          },
          "metadata": {
            "needs_background": "light"
          }
        }
      ]
    },
    {
      "cell_type": "markdown",
      "metadata": {
        "id": "o9EzfSxVJPXX"
      },
      "source": [
        "### Polynomial Kernel"
      ]
    },
    {
      "cell_type": "code",
      "metadata": {
        "colab": {
          "base_uri": "https://localhost:8080/",
          "height": 578
        },
        "id": "c3VGS91KJPXX",
        "outputId": "d9010dad-cb5f-458c-fb00-9361c2956bd2"
      },
      "source": [
        "import pandas as pd\n",
        "\n",
        "# Dataset Preparation\n",
        "dataset = pd.read_csv(\"drive/MyDrive/ML_As2/ionosphere.data\");\n",
        "dataset.columns = [ i for i in range(35) ]\n",
        "X = dataset.drop(columns=[34])\n",
        "y = dataset[34]\n",
        "\n",
        "from sklearn.model_selection import train_test_split\n",
        "X_train, X_test, y_train, y_test = train_test_split(X, y, test_size=0.20, random_state=0)\n",
        "\n",
        "# Classification \n",
        "from sklearn.svm import SVC\n",
        "\n",
        "classifier = SVC(kernel='poly',degree=2)\n",
        "\n",
        "classifier.fit(X_train, y_train) \n",
        "y_pred = classifier.predict(X_test)\n",
        "\n",
        "# Evaluation of Classifier Performance\n",
        "from sklearn.metrics import classification_report, confusion_matrix, accuracy_score\n",
        "\n",
        "print(\"Confusion Matrix:\")\n",
        "print(confusion_matrix(y_test, y_pred))\n",
        "\n",
        "print(\"------------------------------------------------------------\")\n",
        "\n",
        "print(\"Performance Evaluation:\")\n",
        "print(classification_report(y_test, y_pred))\n",
        "\n",
        "print(\"------------------------------------------------------------\")\n",
        "\n",
        "print(\"Accuracy:\")\n",
        "accuracy = accuracy_score(y_test, y_pred)\n",
        "print(accuracy)\n",
        "\n",
        "# Visualizing Performance Measures\n",
        "from sklearn.metrics import plot_confusion_matrix\n",
        "import matplotlib.pyplot as plt  \n",
        "plot_confusion_matrix(classifier, X_test, y_test)\n",
        "plt.show()"
      ],
      "execution_count": null,
      "outputs": [
        {
          "output_type": "stream",
          "name": "stdout",
          "text": [
            "Confusion Matrix:\n",
            "[[24  2]\n",
            " [ 1 43]]\n",
            "------------------------------------------------------------\n",
            "Performance Evaluation:\n",
            "              precision    recall  f1-score   support\n",
            "\n",
            "           b       0.96      0.92      0.94        26\n",
            "           g       0.96      0.98      0.97        44\n",
            "\n",
            "    accuracy                           0.96        70\n",
            "   macro avg       0.96      0.95      0.95        70\n",
            "weighted avg       0.96      0.96      0.96        70\n",
            "\n",
            "------------------------------------------------------------\n",
            "Accuracy:\n",
            "0.9571428571428572\n"
          ]
        },
        {
          "output_type": "display_data",
          "data": {
            "image/png": "[encoded data removed]",
            "text/plain": [
              "<Figure size 432x288 with 2 Axes>"
            ]
          },
          "metadata": {
            "needs_background": "light"
          }
        }
      ]
    },
    {
      "cell_type": "markdown",
      "metadata": {
        "id": "7djRaMXfJTaY"
      },
      "source": [
        "### Gaussian Kernel"
      ]
    },
    {
      "cell_type": "code",
      "metadata": {
        "colab": {
          "base_uri": "https://localhost:8080/",
          "height": 578
        },
        "id": "YJ9WuDuzJTaY",
        "outputId": "0b5212a0-d761-4ee2-8d08-ac5729a976bc"
      },
      "source": [
        "import pandas as pd\n",
        "\n",
        "# Dataset Preparation\n",
        "dataset = pd.read_csv(\"drive/MyDrive/ML_As2/ionosphere.data\");\n",
        "dataset.columns = [ i for i in range(35) ]\n",
        "X = dataset.drop(columns=[34])\n",
        "y = dataset[34]\n",
        "\n",
        "from sklearn.model_selection import train_test_split\n",
        "X_train, X_test, y_train, y_test = train_test_split(X, y, test_size=0.20, random_state=0)\n",
        "\n",
        "# Classification \n",
        "from sklearn.svm import SVC\n",
        "\n",
        "classifier = SVC(kernel='rbf') # Gaussian Kernel\n",
        "\n",
        "classifier.fit(X_train, y_train) \n",
        "y_pred = classifier.predict(X_test)\n",
        "\n",
        "# Evaluation of Classifier Performance\n",
        "from sklearn.metrics import classification_report, confusion_matrix, accuracy_score\n",
        "\n",
        "print(\"Confusion Matrix:\")\n",
        "print(confusion_matrix(y_test, y_pred))\n",
        "\n",
        "print(\"------------------------------------------------------------\")\n",
        "\n",
        "print(\"Performance Evaluation:\")\n",
        "print(classification_report(y_test, y_pred))\n",
        "\n",
        "print(\"------------------------------------------------------------\")\n",
        "\n",
        "print(\"Accuracy:\")\n",
        "accuracy = accuracy_score(y_test, y_pred)\n",
        "print(accuracy)\n",
        "\n",
        "# Visualizing Performance Measures\n",
        "from sklearn.metrics import plot_confusion_matrix\n",
        "import matplotlib.pyplot as plt  \n",
        "plot_confusion_matrix(classifier, X_test, y_test)\n",
        "plt.show()"
      ],
      "execution_count": null,
      "outputs": [
        {
          "output_type": "stream",
          "name": "stdout",
          "text": [
            "Confusion Matrix:\n",
            "[[25  1]\n",
            " [ 0 44]]\n",
            "------------------------------------------------------------\n",
            "Performance Evaluation:\n",
            "              precision    recall  f1-score   support\n",
            "\n",
            "           b       1.00      0.96      0.98        26\n",
            "           g       0.98      1.00      0.99        44\n",
            "\n",
            "    accuracy                           0.99        70\n",
            "   macro avg       0.99      0.98      0.98        70\n",
            "weighted avg       0.99      0.99      0.99        70\n",
            "\n",
            "------------------------------------------------------------\n",
            "Accuracy:\n",
            "0.9857142857142858\n"
          ]
        },
        {
          "output_type": "display_data",
          "data": {
            "image/png": "[encoded data removed]",
            "text/plain": [
              "<Figure size 432x288 with 2 Axes>"
            ]
          },
          "metadata": {
            "needs_background": "light"
          }
        }
      ]
    },
    {
      "cell_type": "markdown",
      "metadata": {
        "id": "bubXCTbAJfNH"
      },
      "source": [
        "### Sigmoid Kernel"
      ]
    },
    {
      "cell_type": "code",
      "metadata": {
        "colab": {
          "base_uri": "https://localhost:8080/",
          "height": 578
        },
        "id": "f2qUGXVTJfNP",
        "outputId": "a31bdcf2-33d0-4e9e-d3aa-8688e95bbaea"
      },
      "source": [
        "import pandas as pd\n",
        "\n",
        "# Dataset Preparation\n",
        "dataset = pd.read_csv(\"drive/MyDrive/ML_As2/ionosphere.data\");\n",
        "dataset.columns = [ i for i in range(35) ]\n",
        "X = dataset.drop(columns=[34])\n",
        "y = dataset[34]\n",
        "\n",
        "from sklearn.model_selection import train_test_split\n",
        "X_train, X_test, y_train, y_test = train_test_split(X, y, test_size=0.20, random_state=0)\n",
        "\n",
        "# Classification \n",
        "from sklearn.svm import SVC\n",
        "\n",
        "classifier = SVC(kernel='sigmoid')\n",
        "\n",
        "classifier.fit(X_train, y_train) \n",
        "y_pred = classifier.predict(X_test)\n",
        "\n",
        "# Evaluation of Classifier Performance\n",
        "from sklearn.metrics import classification_report, confusion_matrix, accuracy_score\n",
        "\n",
        "print(\"Confusion Matrix:\")\n",
        "print(confusion_matrix(y_test, y_pred))\n",
        "\n",
        "print(\"------------------------------------------------------------\")\n",
        "\n",
        "print(\"Performance Evaluation:\")\n",
        "print(classification_report(y_test, y_pred))\n",
        "\n",
        "print(\"------------------------------------------------------------\")\n",
        "\n",
        "print(\"Accuracy:\")\n",
        "accuracy = accuracy_score(y_test, y_pred)\n",
        "print(accuracy)\n",
        "\n",
        "# Visualizing Performance Measures\n",
        "from sklearn.metrics import plot_confusion_matrix\n",
        "import matplotlib.pyplot as plt  \n",
        "plot_confusion_matrix(classifier, X_test, y_test)\n",
        "plt.show()"
      ],
      "execution_count": null,
      "outputs": [
        {
          "output_type": "stream",
          "name": "stdout",
          "text": [
            "Confusion Matrix:\n",
            "[[17  9]\n",
            " [ 6 38]]\n",
            "------------------------------------------------------------\n",
            "Performance Evaluation:\n",
            "              precision    recall  f1-score   support\n",
            "\n",
            "           b       0.74      0.65      0.69        26\n",
            "           g       0.81      0.86      0.84        44\n",
            "\n",
            "    accuracy                           0.79        70\n",
            "   macro avg       0.77      0.76      0.76        70\n",
            "weighted avg       0.78      0.79      0.78        70\n",
            "\n",
            "------------------------------------------------------------\n",
            "Accuracy:\n",
            "0.7857142857142857\n"
          ]
        },
        {
          "output_type": "display_data",
          "data": {
            "image/png": "[encoded data removed]",
            "text/plain": [
              "<Figure size 432x288 with 2 Axes>"
            ]
          },
          "metadata": {
            "needs_background": "light"
          }
        }
      ]
    },
    {
      "cell_type": "markdown",
      "metadata": {
        "id": "aklmKi3aEI22"
      },
      "source": [
        "## Principal Component Analysis\n",
        "Used Principal Component Analysis (PCA) for feature dimensionality reduction"
      ]
    },
    {
      "cell_type": "code",
      "metadata": {
        "colab": {
          "base_uri": "https://localhost:8080/",
          "height": 666
        },
        "id": "nnw1Lc1pEI22",
        "outputId": "c31ea7c4-02bd-4bcf-9959-2714e4ae741d"
      },
      "source": [
        "import pandas as pd\n",
        "\n",
        "# Dataset Preparation\n",
        "dataset = pd.read_csv(\"drive/MyDrive/ML_As2/ionosphere.data\");\n",
        "dataset.columns = [ i for i in range(35) ]\n",
        "X = dataset.drop(columns=[34])\n",
        "y = dataset[34]\n",
        "\n",
        "from sklearn.model_selection import train_test_split\n",
        "X_train, X_test, y_train, y_test = train_test_split(X, y, test_size=0.20, random_state=0)\n",
        "\n",
        "print(\"Before dimensionality reduction the dimensions of X_train are :\")\n",
        "print(X_train.shape)\n",
        "\n",
        "# Applying PCA function on training and testing set of X component\n",
        "from sklearn.decomposition import PCA \n",
        "pca = PCA(n_components = 2)\n",
        " \n",
        "X_train = pca.fit_transform(X_train)\n",
        "X_test = pca.transform(X_test)\n",
        " \n",
        "explained_variance = pca.explained_variance_ratio_\n",
        "\n",
        "print(\"After dimensionality reduction the dimensions of X_train are :\")\n",
        "print(X_train.shape)\n",
        "\n",
        "# Classification \n",
        "from sklearn.svm import SVC\n",
        "\n",
        "classifier = SVC()\n",
        "\n",
        "classifier.fit(X_train, y_train) \n",
        "y_pred = classifier.predict(X_test)\n",
        "\n",
        "# Evaluation of Classifier Performance\n",
        "from sklearn.metrics import classification_report, confusion_matrix, accuracy_score\n",
        "\n",
        "print(\"\\nConfusion Matrix:\")\n",
        "print(confusion_matrix(y_test, y_pred))\n",
        "\n",
        "print(\"------------------------------------------------------------\")\n",
        "\n",
        "print(\"Performance Evaluation:\")\n",
        "print(classification_report(y_test, y_pred))\n",
        "\n",
        "print(\"------------------------------------------------------------\")\n",
        "\n",
        "print(\"Accuracy:\")\n",
        "accuracy = accuracy_score(y_test, y_pred)\n",
        "print(accuracy)\n",
        "\n",
        "# Visualizing Performance Measures\n",
        "from sklearn.metrics import plot_confusion_matrix\n",
        "import matplotlib.pyplot as plt  \n",
        "plot_confusion_matrix(classifier, X_test, y_test)\n",
        "plt.show()"
      ],
      "execution_count": null,
      "outputs": [
        {
          "output_type": "stream",
          "name": "stdout",
          "text": [
            "Before dimensionality reduction the dimensions of X_train are :\n",
            "(280, 34)\n",
            "After dimensionality reduction the dimensions of X_train are :\n",
            "(280, 34)\n",
            "\n",
            "Confusion Matrix:\n",
            "[[25  1]\n",
            " [ 0 44]]\n",
            "------------------------------------------------------------\n",
            "Performance Evaluation:\n",
            "              precision    recall  f1-score   support\n",
            "\n",
            "           b       1.00      0.96      0.98        26\n",
            "           g       0.98      1.00      0.99        44\n",
            "\n",
            "    accuracy                           0.99        70\n",
            "   macro avg       0.99      0.98      0.98        70\n",
            "weighted avg       0.99      0.99      0.99        70\n",
            "\n",
            "------------------------------------------------------------\n",
            "Accuracy:\n",
            "0.9857142857142858\n"
          ]
        },
        {
          "output_type": "display_data",
          "data": {
            "image/png": "[encoded data removed]",
            "text/plain": [
              "<Figure size 432x288 with 2 Axes>"
            ]
          },
          "metadata": {
            "needs_background": "light"
          }
        }
      ]
    },
    {
      "cell_type": "markdown",
      "metadata": {
        "id": "1d5VobtGGyon"
      },
      "source": [
        "# MLP Classifier"
      ]
    },
    {
      "cell_type": "markdown",
      "metadata": {
        "id": "sEEQygSoGyow"
      },
      "source": [
        "## Without Parameter Tuning"
      ]
    },
    {
      "cell_type": "code",
      "metadata": {
        "colab": {
          "base_uri": "https://localhost:8080/",
          "height": 634
        },
        "id": "kXnl-HVbGyow",
        "outputId": "fd5c524d-d899-4043-83a2-fccebb357fe8"
      },
      "source": [
        "import pandas as pd\n",
        "\n",
        "# Dataset Preparation\n",
        "dataset = pd.read_csv(\"drive/MyDrive/ML_As2/ionosphere.data\");\n",
        "dataset.columns = [ i for i in range(35) ]\n",
        "X = dataset.drop(columns=[34])\n",
        "y = dataset[34]\n",
        "\n",
        "from sklearn.model_selection import train_test_split\n",
        "X_train, X_test, y_train, y_test = train_test_split(X, y, test_size=0.20, random_state=0)\n",
        "\n",
        "# Classification \n",
        "from sklearn.neural_network import MLPClassifier\n",
        "\n",
        "classifier = MLPClassifier()\n",
        "\n",
        "classifier.fit(X_train, y_train) \n",
        "y_pred = classifier.predict(X_test)\n",
        "\n",
        "# Evaluation of Classifier Performance\n",
        "from sklearn.metrics import classification_report, confusion_matrix, accuracy_score\n",
        "\n",
        "print(\"Confusion Matrix:\")\n",
        "print(confusion_matrix(y_test, y_pred))\n",
        "\n",
        "print(\"------------------------------------------------------------\")\n",
        "\n",
        "print(\"Performance Evaluation:\")\n",
        "print(classification_report(y_test, y_pred))\n",
        "\n",
        "print(\"------------------------------------------------------------\")\n",
        "\n",
        "print(\"Accuracy:\")\n",
        "accuracy = accuracy_score(y_test, y_pred)\n",
        "print(accuracy)\n",
        "\n",
        "# Visualizing Performance Measures\n",
        "from sklearn.metrics import plot_confusion_matrix\n",
        "import matplotlib.pyplot as plt  \n",
        "plot_confusion_matrix(classifier, X_test, y_test)\n",
        "plt.show()"
      ],
      "execution_count": null,
      "outputs": [
        {
          "output_type": "stream",
          "name": "stdout",
          "text": [
            "Confusion Matrix:\n",
            "[[23  3]\n",
            " [ 0 44]]\n",
            "------------------------------------------------------------\n",
            "Performance Evaluation:\n",
            "              precision    recall  f1-score   support\n",
            "\n",
            "           b       1.00      0.88      0.94        26\n",
            "           g       0.94      1.00      0.97        44\n",
            "\n",
            "    accuracy                           0.96        70\n",
            "   macro avg       0.97      0.94      0.95        70\n",
            "weighted avg       0.96      0.96      0.96        70\n",
            "\n",
            "------------------------------------------------------------\n",
            "Accuracy:\n",
            "0.9571428571428572\n"
          ]
        },
        {
          "output_type": "stream",
          "name": "stderr",
          "text": [
            "/usr/local/lib/python3.7/dist-packages/sklearn/neural_network/_multilayer_perceptron.py:571: ConvergenceWarning: Stochastic Optimizer: Maximum iterations (200) reached and the optimization hasn't converged yet.\n",
            "  % self.max_iter, ConvergenceWarning)\n"
          ]
        },
        {
          "output_type": "display_data",
          "data": {
            "image/png": "[encoded data removed]",
            "text/plain": [
              "<Figure size 432x288 with 2 Axes>"
            ]
          },
          "metadata": {
            "needs_background": "light"
          }
        }
      ]
    },
    {
      "cell_type": "markdown",
      "metadata": {
        "id": "MPqlFhWsGyox"
      },
      "source": [
        "## With Parameter Tuning"
      ]
    },
    {
      "cell_type": "code",
      "metadata": {
        "colab": {
          "base_uri": "https://localhost:8080/",
          "height": 582
        },
        "id": "FsDA1bAJGyox",
        "outputId": "b82d7946-6aac-403b-ff46-11076fbfc574"
      },
      "source": [
        "import pandas as pd\n",
        "\n",
        "# Dataset Preparation\n",
        "dataset = pd.read_csv(\"drive/MyDrive/ML_As2/ionosphere.data\");\n",
        "dataset.columns = [ i for i in range(35) ]\n",
        "X = dataset.drop(columns=[34])\n",
        "y = dataset[34]\n",
        "\n",
        "from sklearn.model_selection import train_test_split\n",
        "X_train, X_test, y_train, y_test = train_test_split(X, y, test_size=0.20, random_state=0)\n",
        "\n",
        "# Classification \n",
        "from sklearn.neural_network import MLPClassifier\n",
        "\n",
        "classifier = MLPClassifier(hidden_layer_sizes=(10,10,10), max_iter=1000)\n",
        "\n",
        "classifier.fit(X_train, y_train) \n",
        "y_pred = classifier.predict(X_test)\n",
        "\n",
        "# Evaluation of Classifier Performance\n",
        "from sklearn.metrics import classification_report, confusion_matrix, accuracy_score\n",
        "\n",
        "print(\"Confusion Matrix:\")\n",
        "print(confusion_matrix(y_test, y_pred))\n",
        "\n",
        "print(\"------------------------------------------------------------\")\n",
        "\n",
        "print(\"Performance Evaluation:\")\n",
        "print(classification_report(y_test, y_pred))\n",
        "\n",
        "print(\"------------------------------------------------------------\")\n",
        "\n",
        "print(\"Accuracy:\")\n",
        "accuracy = accuracy_score(y_test, y_pred)\n",
        "print(accuracy)\n",
        "\n",
        "# Visualizing Performance Measures\n",
        "from sklearn.metrics import plot_confusion_matrix\n",
        "import matplotlib.pyplot as plt  \n",
        "plot_confusion_matrix(classifier, X_test, y_test)\n",
        "plt.show()"
      ],
      "execution_count": null,
      "outputs": [
        {
          "output_type": "stream",
          "name": "stdout",
          "text": [
            "Confusion Matrix:\n",
            "[[25  1]\n",
            " [ 4 40]]\n",
            "------------------------------------------------------------\n",
            "Performance Evaluation:\n",
            "              precision    recall  f1-score   support\n",
            "\n",
            "           b       0.86      0.96      0.91        26\n",
            "           g       0.98      0.91      0.94        44\n",
            "\n",
            "    accuracy                           0.93        70\n",
            "   macro avg       0.92      0.94      0.93        70\n",
            "weighted avg       0.93      0.93      0.93        70\n",
            "\n",
            "------------------------------------------------------------\n",
            "Accuracy:\n",
            "0.9285714285714286\n"
          ]
        },
        {
          "output_type": "display_data",
          "data": {
            "image/png": "[encoded data removed]",
            "text/plain": [
              "<Figure size 432x288 with 2 Axes>"
            ]
          },
          "metadata": {
            "needs_background": "light"
          }
        }
      ]
    },
    {
      "cell_type": "markdown",
      "metadata": {
        "id": "GBRIyw0CUMWz"
      },
      "source": [
        "### Momentum"
      ]
    },
    {
      "cell_type": "code",
      "metadata": {
        "colab": {
          "base_uri": "https://localhost:8080/",
          "height": 578
        },
        "id": "yVfCeCSfUENA",
        "outputId": "66f6bc4b-a134-457f-ef60-201be0625bc8"
      },
      "source": [
        "import pandas as pd\n",
        "\n",
        "# Dataset Preparation\n",
        "dataset = pd.read_csv(\"drive/MyDrive/ML_As2/ionosphere.data\");\n",
        "dataset.columns = [ i for i in range(35) ]\n",
        "X = dataset.drop(columns=[34])\n",
        "y = dataset[34]\n",
        "\n",
        "from sklearn.model_selection import train_test_split\n",
        "X_train, X_test, y_train, y_test = train_test_split(X, y, test_size=0.20, random_state=0)\n",
        "\n",
        "# Classification \n",
        "from sklearn.neural_network import MLPClassifier\n",
        "\n",
        "classifier = MLPClassifier(momentum=0.5, hidden_layer_sizes=(10,10,10), max_iter=1000)\n",
        "\n",
        "classifier.fit(X_train, y_train) \n",
        "y_pred = classifier.predict(X_test)\n",
        "\n",
        "# Evaluation of Classifier Performance\n",
        "from sklearn.metrics import classification_report, confusion_matrix, accuracy_score\n",
        "\n",
        "print(\"Confusion Matrix:\")\n",
        "print(confusion_matrix(y_test, y_pred))\n",
        "\n",
        "print(\"------------------------------------------------------------\")\n",
        "\n",
        "print(\"Performance Evaluation:\")\n",
        "print(classification_report(y_test, y_pred))\n",
        "\n",
        "print(\"------------------------------------------------------------\")\n",
        "\n",
        "print(\"Accuracy:\")\n",
        "accuracy = accuracy_score(y_test, y_pred)\n",
        "print(accuracy)\n",
        "\n",
        "# Visualizing Performance Measures\n",
        "from sklearn.metrics import plot_confusion_matrix\n",
        "import matplotlib.pyplot as plt  \n",
        "plot_confusion_matrix(classifier, X_test, y_test)\n",
        "plt.show()"
      ],
      "execution_count": null,
      "outputs": [
        {
          "output_type": "stream",
          "name": "stdout",
          "text": [
            "Confusion Matrix:\n",
            "[[24  2]\n",
            " [ 2 42]]\n",
            "------------------------------------------------------------\n",
            "Performance Evaluation:\n",
            "              precision    recall  f1-score   support\n",
            "\n",
            "           b       0.92      0.92      0.92        26\n",
            "           g       0.95      0.95      0.95        44\n",
            "\n",
            "    accuracy                           0.94        70\n",
            "   macro avg       0.94      0.94      0.94        70\n",
            "weighted avg       0.94      0.94      0.94        70\n",
            "\n",
            "------------------------------------------------------------\n",
            "Accuracy:\n",
            "0.9428571428571428\n"
          ]
        },
        {
          "output_type": "display_data",
          "data": {
            "image/png": "[encoded data removed]",
            "text/plain": [
              "<Figure size 432x288 with 2 Axes>"
            ]
          },
          "metadata": {
            "needs_background": "light"
          }
        }
      ]
    },
    {
      "cell_type": "markdown",
      "metadata": {
        "id": "Rb-wvia2U2hi"
      },
      "source": [
        "### Learning Rate"
      ]
    },
    {
      "cell_type": "code",
      "metadata": {
        "colab": {
          "base_uri": "https://localhost:8080/",
          "height": 578
        },
        "id": "PlTNey-JU2hj",
        "outputId": "ebb40028-5cbe-4be6-dbc6-a45f1d366dfe"
      },
      "source": [
        "import pandas as pd\n",
        "\n",
        "# Dataset Preparation\n",
        "dataset = pd.read_csv(\"drive/MyDrive/ML_As2/ionosphere.data\");\n",
        "dataset.columns = [ i for i in range(35) ]\n",
        "X = dataset.drop(columns=[34])\n",
        "y = dataset[34]\n",
        "\n",
        "from sklearn.model_selection import train_test_split\n",
        "X_train, X_test, y_train, y_test = train_test_split(X, y, test_size=0.20, random_state=0)\n",
        "\n",
        "# Classification \n",
        "from sklearn.neural_network import MLPClassifier\n",
        "\n",
        "classifier = MLPClassifier(learning_rate='adaptive', hidden_layer_sizes=(10,10,10), max_iter=1000)\n",
        "\n",
        "classifier.fit(X_train, y_train) \n",
        "y_pred = classifier.predict(X_test)\n",
        "\n",
        "# Evaluation of Classifier Performance\n",
        "from sklearn.metrics import classification_report, confusion_matrix, accuracy_score\n",
        "\n",
        "print(\"Confusion Matrix:\")\n",
        "print(confusion_matrix(y_test, y_pred))\n",
        "\n",
        "print(\"------------------------------------------------------------\")\n",
        "\n",
        "print(\"Performance Evaluation:\")\n",
        "print(classification_report(y_test, y_pred))\n",
        "\n",
        "print(\"------------------------------------------------------------\")\n",
        "\n",
        "print(\"Accuracy:\")\n",
        "accuracy = accuracy_score(y_test, y_pred)\n",
        "print(accuracy)\n",
        "\n",
        "# Visualizing Performance Measures\n",
        "from sklearn.metrics import plot_confusion_matrix\n",
        "import matplotlib.pyplot as plt  \n",
        "plot_confusion_matrix(classifier, X_test, y_test)\n",
        "plt.show()"
      ],
      "execution_count": null,
      "outputs": [
        {
          "output_type": "stream",
          "name": "stdout",
          "text": [
            "Confusion Matrix:\n",
            "[[22  4]\n",
            " [ 1 43]]\n",
            "------------------------------------------------------------\n",
            "Performance Evaluation:\n",
            "              precision    recall  f1-score   support\n",
            "\n",
            "           b       0.96      0.85      0.90        26\n",
            "           g       0.91      0.98      0.95        44\n",
            "\n",
            "    accuracy                           0.93        70\n",
            "   macro avg       0.94      0.91      0.92        70\n",
            "weighted avg       0.93      0.93      0.93        70\n",
            "\n",
            "------------------------------------------------------------\n",
            "Accuracy:\n",
            "0.9285714285714286\n"
          ]
        },
        {
          "output_type": "display_data",
          "data": {
            "image/png": "[encoded data removed]",
            "text/plain": [
              "<Figure size 432x288 with 2 Axes>"
            ]
          },
          "metadata": {
            "needs_background": "light"
          }
        }
      ]
    },
    {
      "cell_type": "markdown",
      "metadata": {
        "id": "ZG0yqZVtV6Em"
      },
      "source": [
        "### Activation"
      ]
    },
    {
      "cell_type": "code",
      "metadata": {
        "colab": {
          "base_uri": "https://localhost:8080/",
          "height": 578
        },
        "id": "DYY0Uo_ZV6Eo",
        "outputId": "77a768b5-6840-4923-bcbe-2c96836a1ef0"
      },
      "source": [
        "import pandas as pd\n",
        "\n",
        "# Dataset Preparation\n",
        "dataset = pd.read_csv(\"drive/MyDrive/ML_As2/ionosphere.data\");\n",
        "dataset.columns = [ i for i in range(35) ]\n",
        "X = dataset.drop(columns=[34])\n",
        "y = dataset[34]\n",
        "\n",
        "from sklearn.model_selection import train_test_split\n",
        "X_train, X_test, y_train, y_test = train_test_split(X, y, test_size=0.20, random_state=0)\n",
        "\n",
        "# Classification \n",
        "from sklearn.neural_network import MLPClassifier\n",
        "\n",
        "classifier = MLPClassifier(activation='identity' , hidden_layer_sizes=(10,10,10), max_iter=1000)\n",
        "\n",
        "classifier.fit(X_train, y_train) \n",
        "y_pred = classifier.predict(X_test)\n",
        "\n",
        "# Evaluation of Classifier Performance\n",
        "from sklearn.metrics import classification_report, confusion_matrix, accuracy_score\n",
        "\n",
        "print(\"Confusion Matrix:\")\n",
        "print(confusion_matrix(y_test, y_pred))\n",
        "\n",
        "print(\"------------------------------------------------------------\")\n",
        "\n",
        "print(\"Performance Evaluation:\")\n",
        "print(classification_report(y_test, y_pred))\n",
        "\n",
        "print(\"------------------------------------------------------------\")\n",
        "\n",
        "print(\"Accuracy:\")\n",
        "accuracy = accuracy_score(y_test, y_pred)\n",
        "print(accuracy)\n",
        "\n",
        "# Visualizing Performance Measures\n",
        "from sklearn.metrics import plot_confusion_matrix\n",
        "import matplotlib.pyplot as plt  \n",
        "plot_confusion_matrix(classifier, X_test, y_test)\n",
        "plt.show()"
      ],
      "execution_count": null,
      "outputs": [
        {
          "output_type": "stream",
          "name": "stdout",
          "text": [
            "Confusion Matrix:\n",
            "[[23  3]\n",
            " [ 3 41]]\n",
            "------------------------------------------------------------\n",
            "Performance Evaluation:\n",
            "              precision    recall  f1-score   support\n",
            "\n",
            "           b       0.88      0.88      0.88        26\n",
            "           g       0.93      0.93      0.93        44\n",
            "\n",
            "    accuracy                           0.91        70\n",
            "   macro avg       0.91      0.91      0.91        70\n",
            "weighted avg       0.91      0.91      0.91        70\n",
            "\n",
            "------------------------------------------------------------\n",
            "Accuracy:\n",
            "0.9142857142857143\n"
          ]
        },
        {
          "output_type": "display_data",
          "data": {
            "image/png": "[encoded data removed]",
            "text/plain": [
              "<Figure size 432x288 with 2 Axes>"
            ]
          },
          "metadata": {
            "needs_background": "light"
          }
        }
      ]
    },
    {
      "cell_type": "markdown",
      "metadata": {
        "id": "x0iziJ_HGyoy"
      },
      "source": [
        "## Principal Component Analysis\n",
        "Used Principal Component Analysis (PCA) for feature dimensionality reduction"
      ]
    },
    {
      "cell_type": "code",
      "metadata": {
        "colab": {
          "base_uri": "https://localhost:8080/",
          "height": 666
        },
        "id": "wvtkLB1qGyoy",
        "outputId": "bcacbd55-f8b8-4319-afa2-c5c70246f08b"
      },
      "source": [
        "import pandas as pd\n",
        "\n",
        "# Dataset Preparation\n",
        "dataset = pd.read_csv(\"drive/MyDrive/ML_As2/ionosphere.data\");\n",
        "dataset.columns = [ i for i in range(35) ]\n",
        "X = dataset.drop(columns=[34])\n",
        "y = dataset[34]\n",
        "\n",
        "from sklearn.model_selection import train_test_split\n",
        "X_train, X_test, y_train, y_test = train_test_split(X, y, test_size=0.20, random_state=0)\n",
        "\n",
        "print(\"Before dimensionality reduction the dimensions of X_train are :\")\n",
        "print(X_train.shape)\n",
        "\n",
        "# Applying PCA function on training and testing set of X component\n",
        "from sklearn.decomposition import PCA \n",
        "pca = PCA(n_components = 2)\n",
        " \n",
        "X_train = pca.fit_transform(X_train)\n",
        "X_test = pca.transform(X_test)\n",
        " \n",
        "explained_variance = pca.explained_variance_ratio_\n",
        "\n",
        "print(\"After dimensionality reduction the dimensions of X_train are :\")\n",
        "print(X_train.shape)\n",
        "\n",
        "# Classification \n",
        "from sklearn.neural_network import MLPClassifier\n",
        "\n",
        "classifier = MLPClassifier( max_iter=1000)\n",
        "\n",
        "classifier.fit(X_train, y_train) \n",
        "y_pred = classifier.predict(X_test)\n",
        "\n",
        "# Evaluation of Classifier Performance\n",
        "from sklearn.metrics import classification_report, confusion_matrix, accuracy_score\n",
        "\n",
        "print(\"\\nConfusion Matrix:\")\n",
        "print(confusion_matrix(y_test, y_pred))\n",
        "\n",
        "print(\"------------------------------------------------------------\")\n",
        "\n",
        "print(\"Performance Evaluation:\")\n",
        "print(classification_report(y_test, y_pred))\n",
        "\n",
        "print(\"------------------------------------------------------------\")\n",
        "\n",
        "print(\"Accuracy:\")\n",
        "accuracy = accuracy_score(y_test, y_pred)\n",
        "print(accuracy)\n",
        "\n",
        "# Visualizing Performance Measures\n",
        "from sklearn.metrics import plot_confusion_matrix\n",
        "import matplotlib.pyplot as plt  \n",
        "plot_confusion_matrix(classifier, X_test, y_test)\n",
        "plt.show()"
      ],
      "execution_count": null,
      "outputs": [
        {
          "output_type": "stream",
          "name": "stdout",
          "text": [
            "Before dimensionality reduction the dimensions of X_train are :\n",
            "(280, 34)\n",
            "After dimensionality reduction the dimensions of X_train are :\n",
            "(280, 2)\n",
            "\n",
            "Confusion Matrix:\n",
            "[[18  8]\n",
            " [ 3 41]]\n",
            "------------------------------------------------------------\n",
            "Performance Evaluation:\n",
            "              precision    recall  f1-score   support\n",
            "\n",
            "           b       0.86      0.69      0.77        26\n",
            "           g       0.84      0.93      0.88        44\n",
            "\n",
            "    accuracy                           0.84        70\n",
            "   macro avg       0.85      0.81      0.82        70\n",
            "weighted avg       0.84      0.84      0.84        70\n",
            "\n",
            "------------------------------------------------------------\n",
            "Accuracy:\n",
            "0.8428571428571429\n"
          ]
        },
        {
          "output_type": "display_data",
          "data": {
            "image/png": "[encoded data removed]",
            "text/plain": [
              "<Figure size 432x288 with 2 Axes>"
            ]
          },
          "metadata": {
            "needs_background": "light"
          }
        }
      ]
    },
    {
      "cell_type": "markdown",
      "metadata": {
        "id": "F654ix_E7jKd"
      },
      "source": [
        "# Calculate Accuarcy Table\n",
        "These are functions & scripts to calculate accuracies of each classiifier per dataset with different values of train test splits\n",
        "\n",
        "The calculated values are represented in tabular format"
      ]
    },
    {
      "cell_type": "markdown",
      "metadata": {
        "id": "4ucSBG8U8elz"
      },
      "source": [
        "## Dataset Preparation "
      ]
    },
    {
      "cell_type": "code",
      "metadata": {
        "id": "g537yR6p7t4U"
      },
      "source": [
        "# Import\n",
        "import pandas as pd"
      ],
      "execution_count": null,
      "outputs": []
    },
    {
      "cell_type": "code",
      "metadata": {
        "id": "K6DJt2pJ8Ul2"
      },
      "source": [
        "# 1. Iris Plants Dataset:\n",
        "def plant():\n",
        "  dataset = pd.read_csv(\"drive/MyDrive/ML_As2/iris.data\");\n",
        "  dataset.columns = [ 'sepal length', 'sepal width', 'petal length', 'petal width', 'class' ]\n",
        "  X = dataset.drop(columns=['class'])\n",
        "  y = dataset[\"class\"]\n",
        "  return (dataset, X, y)"
      ],
      "execution_count": null,
      "outputs": []
    },
    {
      "cell_type": "code",
      "metadata": {
        "id": "gwpg2BvC4xhv"
      },
      "source": [
        "# 3. Ionosphere Dataset:\n",
        "def ion():\n",
        "  dataset = pd.read_csv(\"drive/MyDrive/ML_As2/ionosphere.data\");\n",
        "  dataset.columns = [ i for i in range(35) ]\n",
        "  X = dataset.drop(columns=[34])\n",
        "  y = dataset[34]\n",
        "  return (dataset, X, y)"
      ],
      "execution_count": null,
      "outputs": []
    },
    {
      "cell_type": "code",
      "metadata": {
        "id": "RezvpyI3_Rmw"
      },
      "source": [
        "# 2. Wine Dataset :\n",
        "def wine():\n",
        "  dataset = pd.read_csv(\"drive/MyDrive/ML_As2/wine.data\");\n",
        "  dataset.pop(dataset.columns[-1])\n",
        "  dataset.columns = [ 'Alcohol',\n",
        " \t'Malic acid',\n",
        " \t'Ash',\n",
        "\t'Alcalinity of ash',  \n",
        " \t'Magnesium',\n",
        "\t'Total phenols',\n",
        " \t'Flavanoids',\n",
        " \t'Nonflavanoid phenols',\n",
        " \t'Proanthocyanins',\n",
        "\t'Color intensity',\n",
        " \t'Hue',\n",
        " \t'OD280/OD315 of diluted wines',\n",
        " \t'Proline']\n",
        "  X = dataset.drop(columns=['Alcohol'])\n",
        "  y = dataset[\"Alcohol\"]\n",
        "  return (dataset, X, y)"
      ],
      "execution_count": null,
      "outputs": []
    },
    {
      "cell_type": "code",
      "metadata": {
        "id": "FpykJevCAEtw"
      },
      "source": [
        "# 4. Wisconsin Breast Cancer Dataset :\n",
        "def cancer():\n",
        "  dataset = pd.read_csv(\"drive/MyDrive/ML_As2/breast-cancer-wisconsin.data\");\n",
        "  dataset.columns = [ 'Sample code number',\n",
        "                      'Clump Thickness',\n",
        "                      'Uniformity of Cell Size',\n",
        "                      'Uniformity of Cell Shape',\n",
        "                      'Marginal Adhesion',\n",
        "                      'Single Epithelial Cell Size',\n",
        "                      'Bare Nuclei',\n",
        "                      'Bland Chromatin',\n",
        "                      'Normal Nucleoli',       \n",
        "                      'Mitoses',\n",
        "                      'class' ]\n",
        "  dataset.drop(dataset[dataset['Bare Nuclei'] == '?'].index, inplace=True) # droping rows with missing attribute value denoted by \"?\"\n",
        "  X = dataset.drop(columns=[ 'Sample code number', 'class'])\n",
        "  y = dataset[\"class\"] \n",
        "  return (dataset, X, y)"
      ],
      "execution_count": null,
      "outputs": []
    },
    {
      "cell_type": "markdown",
      "metadata": {
        "id": "YkMN3a-tBL5i"
      },
      "source": [
        "## Classifiers"
      ]
    },
    {
      "cell_type": "code",
      "metadata": {
        "id": "OAKwAcr8BL5t"
      },
      "source": [
        "def random_forest(X_train, X_test, y_train):\n",
        "  \n",
        "  # Feature Scaling\n",
        "  from sklearn.preprocessing import StandardScaler\n",
        "\n",
        "  sc = StandardScaler()\n",
        "  X_train = sc.fit_transform(X_train)\n",
        "  X_test = sc.transform(X_test)\n",
        "\n",
        "  # Classification \n",
        "  from sklearn.ensemble import RandomForestClassifier\n",
        "\n",
        "  classifier = RandomForestClassifier(n_estimators=20,random_state=0)\n",
        "\n",
        "  classifier.fit(X_train, y_train) \n",
        "  y_pred = classifier.predict(X_test)\n",
        "\n",
        "  return y_pred"
      ],
      "execution_count": null,
      "outputs": []
    },
    {
      "cell_type": "code",
      "metadata": {
        "id": "m25e279RZTT0"
      },
      "source": [
        "def svm(X_train, X_test, y_train):\n",
        "\n",
        "  # Classification \n",
        "  from sklearn.svm import SVC\n",
        "\n",
        "  classifier = SVC(kernel='linear')\n",
        "\n",
        "  classifier.fit(X_train, y_train) \n",
        "  y_pred = classifier.predict(X_test)\n",
        "\n",
        "  return y_pred"
      ],
      "execution_count": null,
      "outputs": []
    },
    {
      "cell_type": "code",
      "metadata": {
        "id": "QCb72VmfaWs8"
      },
      "source": [
        "def mlp(X_train, X_test, y_train):\n",
        "\n",
        "  # Classification \n",
        "  from sklearn.neural_network import MLPClassifier\n",
        "\n",
        "  classifier = MLPClassifier(hidden_layer_sizes=(10,10,10), max_iter=1000)\n",
        "\n",
        "  classifier.fit(X_train, y_train) \n",
        "  y_pred = classifier.predict(X_test)\n",
        "\n",
        "  return y_pred"
      ],
      "execution_count": null,
      "outputs": []
    },
    {
      "cell_type": "markdown",
      "metadata": {
        "id": "YklZhis2BwjC"
      },
      "source": [
        "## Evaluation"
      ]
    },
    {
      "cell_type": "code",
      "metadata": {
        "id": "0XgZzASoBvgU"
      },
      "source": [
        "# Evaluation of Classifier Performance \n",
        "\n",
        "def evaluate(y_test,y_pred):\n",
        "  from sklearn.metrics import classification_report, confusion_matrix, accuracy_score\n",
        "\n",
        "  # print(\"Confusion Matrix:\")\n",
        "  # print(confusion_matrix(y_test, y_pred))\n",
        "\n",
        "  # print(\"------------------------------------------------------------\")\n",
        "\n",
        "  # print(\"Performance Evaluation:\")\n",
        "  # print(classification_report(y_test, y_pred))\n",
        "\n",
        "  # print(\"------------------------------------------------------------\")\n",
        "\n",
        "  # print(\"Accuracy:\")\n",
        "  accuracy = accuracy_score(y_test, y_pred)\n",
        "  # print(accuracy)\n",
        "\n",
        "  return accuracy"
      ],
      "execution_count": null,
      "outputs": []
    },
    {
      "cell_type": "markdown",
      "metadata": {
        "id": "Ti57Y6xKIKTf"
      },
      "source": [
        "# Run\n",
        "Run this python script to calculate & generate Accuracy Table with Graphs plotted with calculated values.  "
      ]
    },
    {
      "cell_type": "code",
      "metadata": {
        "colab": {
          "base_uri": "https://localhost:8080/",
          "height": 1000
        },
        "id": "y-anbE-NIV5L",
        "outputId": "ce917103-2e9d-46b6-d46b-af4e23b99911"
      },
      "source": [
        "datasets = [ \"Iris Plants\", \"Wine\", \"Ionosphere\", \"Breast Cancer\" ]\n",
        "classifiers = [ \"Random Forest\", \"SVM\", \"MLP\" ]\n",
        "\n",
        "# Creating Table\n",
        "table = []\n",
        "\n",
        "# create header\n",
        "head = [\"Dataset\", \"Classifier\", \"Train : Test\" , \"Accuracy\"]\n",
        "\n",
        "from sklearn.model_selection import train_test_split\n",
        "import matplotlib.pyplot as plt\n",
        "\n",
        "# Iterating over all 4 datasets\n",
        "for i in range(4):\n",
        "\n",
        "  # Get dataset, X & y of respective datasets\n",
        "  if i==0 :\n",
        "    dataset, X, y = plant()\n",
        "  elif i==1:\n",
        "    dataset, X, y = wine()\n",
        "  elif i==2:\n",
        "    dataset, X, y = ion()\n",
        "  else:\n",
        "    dataset, X, y = cancer()\n",
        "\n",
        "  test_percentages = [0.30, 0.40,0.50, 0.60, 0.70]\n",
        "\n",
        "  # Iterating over the 3 classifiers\n",
        "  for j in range(3):\n",
        "\n",
        "    x_test = []\n",
        "    y_accuracy = []\n",
        "\n",
        "    # Iterating over all Train Test Percentage Ratios\n",
        "    for percentage in test_percentages:\n",
        "      X_train, X_test, y_train, y_test = train_test_split(X, y, test_size=percentage, random_state=0) \n",
        "\n",
        "      # Applying respective classifiers\n",
        "      if j==0 :\n",
        "        y_pred = random_forest(X_train, X_test, y_train)\n",
        "      elif j==1:\n",
        "        y_pred = svm(X_train, X_test, y_train)\n",
        "      else:\n",
        "        y_pred = mlp(X_train, X_test, y_train)\n",
        "\n",
        "      row = []\n",
        "\n",
        "      row.append(datasets[i])\n",
        "\n",
        "      row.append(classifiers[j])\n",
        "\n",
        "      row.append(str(int((1-percentage)*100)) + \" : \"+ str(int(percentage*100)) )\n",
        "      x_test.append(row[2])\n",
        "\n",
        "      # Evaluating Accuracy\n",
        "      accuracy = evaluate(y_test,y_pred)\n",
        "      row.append(accuracy)\n",
        "      y_accuracy.append(accuracy)\n",
        "\n",
        "      table.append(row)\n",
        "\n",
        "    # Plotting graph of Train test split vs Accuracy\n",
        "    plt.plot(x_test,y_accuracy)\n",
        "    plt.xlabel(head[2])\n",
        "    plt.ylabel(head[3])\n",
        "    plt.ylim(0.5,1)\n",
        "    plt.title(str(row[0]) + \"-\" + str(row[1]))\n",
        "    plt.show()\n",
        "\n",
        "# display table\n",
        "from tabulate import tabulate\n",
        "print(tabulate(table, headers=head, tablefmt=\"grid\"))"
      ],
      "execution_count": null,
      "outputs": [
        {
          "output_type": "display_data",
          "data": {
            "image/png": "[encoded data removed]",
            "text/plain": [
              "<Figure size 432x288 with 1 Axes>"
            ]
          },
          "metadata": {
            "needs_background": "light"
          }
        },
        {
          "output_type": "display_data",
          "data": {
            "image/png": "[encoded data removed]",
            "text/plain": [
              "<Figure size 432x288 with 1 Axes>"
            ]
          },
          "metadata": {
            "needs_background": "light"
          }
        },
        {
          "output_type": "stream",
          "name": "stderr",
          "text": [
            "/usr/local/lib/python3.7/dist-packages/sklearn/neural_network/_multilayer_perceptron.py:571: ConvergenceWarning: Stochastic Optimizer: Maximum iterations (1000) reached and the optimization hasn't converged yet.\n",
            "  % self.max_iter, ConvergenceWarning)\n"
          ]
        },
        {
          "output_type": "display_data",
          "data": {
            "image/png": "[encoded data removed]",
            "text/plain": [
              "<Figure size 432x288 with 1 Axes>"
            ]
          },
          "metadata": {
            "needs_background": "light"
          }
        },
        {
          "output_type": "display_data",
          "data": {
            "image/png": "[encoded data removed]",
            "text/plain": [
              "<Figure size 432x288 with 1 Axes>"
            ]
          },
          "metadata": {
            "needs_background": "light"
          }
        },
        {
          "output_type": "display_data",
          "data": {
            "image/png": "[encoded data removed]",
            "text/plain": [
              "<Figure size 432x288 with 1 Axes>"
            ]
          },
          "metadata": {
            "needs_background": "light"
          }
        },
        {
          "output_type": "stream",
          "name": "stderr",
          "text": [
            "/usr/local/lib/python3.7/dist-packages/sklearn/neural_network/_multilayer_perceptron.py:571: ConvergenceWarning: Stochastic Optimizer: Maximum iterations (1000) reached and the optimization hasn't converged yet.\n",
            "  % self.max_iter, ConvergenceWarning)\n",
            "/usr/local/lib/python3.7/dist-packages/sklearn/neural_network/_multilayer_perceptron.py:571: ConvergenceWarning: Stochastic Optimizer: Maximum iterations (1000) reached and the optimization hasn't converged yet.\n",
            "  % self.max_iter, ConvergenceWarning)\n",
            "/usr/local/lib/python3.7/dist-packages/sklearn/neural_network/_multilayer_perceptron.py:571: ConvergenceWarning: Stochastic Optimizer: Maximum iterations (1000) reached and the optimization hasn't converged yet.\n",
            "  % self.max_iter, ConvergenceWarning)\n"
          ]
        },
        {
          "output_type": "display_data",
          "data": {
            "image/png": "[encoded data removed]",
            "text/plain": [
              "<Figure size 432x288 with 1 Axes>"
            ]
          },
          "metadata": {
            "needs_background": "light"
          }
        },
        {
          "output_type": "display_data",
          "data": {
            "image/png": "[encoded data removed]",
            "text/plain": [
              "<Figure size 432x288 with 1 Axes>"
            ]
          },
          "metadata": {
            "needs_background": "light"
          }
        },
        {
          "output_type": "display_data",
          "data": {
            "image/png": "[encoded data removed]",
            "text/plain": [
              "<Figure size 432x288 with 1 Axes>"
            ]
          },
          "metadata": {
            "needs_background": "light"
          }
        },
        {
          "output_type": "display_data",
          "data": {
            "image/png": "[encoded data removed]",
            "text/plain": [
              "<Figure size 432x288 with 1 Axes>"
            ]
          },
          "metadata": {
            "needs_background": "light"
          }
        },
        {
          "output_type": "display_data",
          "data": {
            "image/png": "[encoded data removed]",
            "text/plain": [
              "<Figure size 432x288 with 1 Axes>"
            ]
          },
          "metadata": {
            "needs_background": "light"
          }
        },
        {
          "output_type": "display_data",
          "data": {
            "image/png": "[encoded data removed]",
            "text/plain": [
              "<Figure size 432x288 with 1 Axes>"
            ]
          },
          "metadata": {
            "needs_background": "light"
          }
        },
        {
          "output_type": "display_data",
          "data": {
            "image/png": "[encoded data removed]",
            "text/plain": [
              "<Figure size 432x288 with 1 Axes>"
            ]
          },
          "metadata": {
            "needs_background": "light"
          }
        },
        {
          "output_type": "stream",
          "name": "stdout",
          "text": [
            "+---------------+---------------+----------------+------------+\n",
            "| Dataset       | Classifier    | Train : Test   |   Accuracy |\n",
            "+===============+===============+================+============+\n",
            "| Iris Plants   | Random Forest | 70 : 30        |   0.888889 |\n",
            "+---------------+---------------+----------------+------------+\n",
            "| Iris Plants   | Random Forest | 60 : 40        |   0.933333 |\n",
            "+---------------+---------------+----------------+------------+\n",
            "| Iris Plants   | Random Forest | 50 : 50        |   0.933333 |\n",
            "+---------------+---------------+----------------+------------+\n",
            "| Iris Plants   | Random Forest | 40 : 60        |   0.933333 |\n",
            "+---------------+---------------+----------------+------------+\n",
            "| Iris Plants   | Random Forest | 30 : 70        |   0.942857 |\n",
            "+---------------+---------------+----------------+------------+\n",
            "| Iris Plants   | SVM           | 70 : 30        |   0.911111 |\n",
            "+---------------+---------------+----------------+------------+\n",
            "| Iris Plants   | SVM           | 60 : 40        |   0.966667 |\n",
            "+---------------+---------------+----------------+------------+\n",
            "| Iris Plants   | SVM           | 50 : 50        |   0.96     |\n",
            "+---------------+---------------+----------------+------------+\n",
            "| Iris Plants   | SVM           | 40 : 60        |   0.955556 |\n",
            "+---------------+---------------+----------------+------------+\n",
            "| Iris Plants   | SVM           | 30 : 70        |   0.952381 |\n",
            "+---------------+---------------+----------------+------------+\n",
            "| Iris Plants   | MLP           | 70 : 30        |   0.955556 |\n",
            "+---------------+---------------+----------------+------------+\n",
            "| Iris Plants   | MLP           | 60 : 40        |   0.966667 |\n",
            "+---------------+---------------+----------------+------------+\n",
            "| Iris Plants   | MLP           | 50 : 50        |   0.973333 |\n",
            "+---------------+---------------+----------------+------------+\n",
            "| Iris Plants   | MLP           | 40 : 60        |   0.955556 |\n",
            "+---------------+---------------+----------------+------------+\n",
            "| Iris Plants   | MLP           | 30 : 70        |   0.952381 |\n",
            "+---------------+---------------+----------------+------------+\n",
            "| Wine          | Random Forest | 70 : 30        |   1        |\n",
            "+---------------+---------------+----------------+------------+\n",
            "| Wine          | Random Forest | 60 : 40        |   0.957746 |\n",
            "+---------------+---------------+----------------+------------+\n",
            "| Wine          | Random Forest | 50 : 50        |   0.988764 |\n",
            "+---------------+---------------+----------------+------------+\n",
            "| Wine          | Random Forest | 40 : 60        |   0.953271 |\n",
            "+---------------+---------------+----------------+------------+\n",
            "| Wine          | Random Forest | 30 : 70        |   0.983871 |\n",
            "+---------------+---------------+----------------+------------+\n",
            "| Wine          | SVM           | 70 : 30        |   0.925926 |\n",
            "+---------------+---------------+----------------+------------+\n",
            "| Wine          | SVM           | 60 : 40        |   0.929577 |\n",
            "+---------------+---------------+----------------+------------+\n",
            "| Wine          | SVM           | 50 : 50        |   0.94382  |\n",
            "+---------------+---------------+----------------+------------+\n",
            "| Wine          | SVM           | 40 : 60        |   0.953271 |\n",
            "+---------------+---------------+----------------+------------+\n",
            "| Wine          | SVM           | 30 : 70        |   0.959677 |\n",
            "+---------------+---------------+----------------+------------+\n",
            "| Wine          | MLP           | 70 : 30        |   0.351852 |\n",
            "+---------------+---------------+----------------+------------+\n",
            "| Wine          | MLP           | 60 : 40        |   0.971831 |\n",
            "+---------------+---------------+----------------+------------+\n",
            "| Wine          | MLP           | 50 : 50        |   0.932584 |\n",
            "+---------------+---------------+----------------+------------+\n",
            "| Wine          | MLP           | 40 : 60        |   0.560748 |\n",
            "+---------------+---------------+----------------+------------+\n",
            "| Wine          | MLP           | 30 : 70        |   0.951613 |\n",
            "+---------------+---------------+----------------+------------+\n",
            "| Ionosphere    | Random Forest | 70 : 30        |   0.942857 |\n",
            "+---------------+---------------+----------------+------------+\n",
            "| Ionosphere    | Random Forest | 60 : 40        |   0.95     |\n",
            "+---------------+---------------+----------------+------------+\n",
            "| Ionosphere    | Random Forest | 50 : 50        |   0.908571 |\n",
            "+---------------+---------------+----------------+------------+\n",
            "| Ionosphere    | Random Forest | 40 : 60        |   0.933333 |\n",
            "+---------------+---------------+----------------+------------+\n",
            "| Ionosphere    | Random Forest | 30 : 70        |   0.897959 |\n",
            "+---------------+---------------+----------------+------------+\n",
            "| Ionosphere    | SVM           | 70 : 30        |   0.87619  |\n",
            "+---------------+---------------+----------------+------------+\n",
            "| Ionosphere    | SVM           | 60 : 40        |   0.857143 |\n",
            "+---------------+---------------+----------------+------------+\n",
            "| Ionosphere    | SVM           | 50 : 50        |   0.845714 |\n",
            "+---------------+---------------+----------------+------------+\n",
            "| Ionosphere    | SVM           | 40 : 60        |   0.861905 |\n",
            "+---------------+---------------+----------------+------------+\n",
            "| Ionosphere    | SVM           | 30 : 70        |   0.869388 |\n",
            "+---------------+---------------+----------------+------------+\n",
            "| Ionosphere    | MLP           | 70 : 30        |   0.885714 |\n",
            "+---------------+---------------+----------------+------------+\n",
            "| Ionosphere    | MLP           | 60 : 40        |   0.95     |\n",
            "+---------------+---------------+----------------+------------+\n",
            "| Ionosphere    | MLP           | 50 : 50        |   0.874286 |\n",
            "+---------------+---------------+----------------+------------+\n",
            "| Ionosphere    | MLP           | 40 : 60        |   0.87619  |\n",
            "+---------------+---------------+----------------+------------+\n",
            "| Ionosphere    | MLP           | 30 : 70        |   0.877551 |\n",
            "+---------------+---------------+----------------+------------+\n",
            "| Breast Cancer | Random Forest | 70 : 30        |   0.980488 |\n",
            "+---------------+---------------+----------------+------------+\n",
            "| Breast Cancer | Random Forest | 60 : 40        |   0.970696 |\n",
            "+---------------+---------------+----------------+------------+\n",
            "| Breast Cancer | Random Forest | 50 : 50        |   0.970674 |\n",
            "+---------------+---------------+----------------+------------+\n",
            "| Breast Cancer | Random Forest | 40 : 60        |   0.958537 |\n",
            "+---------------+---------------+----------------+------------+\n",
            "| Breast Cancer | Random Forest | 30 : 70        |   0.958159 |\n",
            "+---------------+---------------+----------------+------------+\n",
            "| Breast Cancer | SVM           | 70 : 30        |   0.97561  |\n",
            "+---------------+---------------+----------------+------------+\n",
            "| Breast Cancer | SVM           | 60 : 40        |   0.974359 |\n",
            "+---------------+---------------+----------------+------------+\n",
            "| Breast Cancer | SVM           | 50 : 50        |   0.958944 |\n",
            "+---------------+---------------+----------------+------------+\n",
            "| Breast Cancer | SVM           | 40 : 60        |   0.958537 |\n",
            "+---------------+---------------+----------------+------------+\n",
            "| Breast Cancer | SVM           | 30 : 70        |   0.958159 |\n",
            "+---------------+---------------+----------------+------------+\n",
            "| Breast Cancer | MLP           | 70 : 30        |   0.965854 |\n",
            "+---------------+---------------+----------------+------------+\n",
            "| Breast Cancer | MLP           | 60 : 40        |   0.952381 |\n",
            "+---------------+---------------+----------------+------------+\n",
            "| Breast Cancer | MLP           | 50 : 50        |   0.947214 |\n",
            "+---------------+---------------+----------------+------------+\n",
            "| Breast Cancer | MLP           | 40 : 60        |   0.929268 |\n",
            "+---------------+---------------+----------------+------------+\n",
            "| Breast Cancer | MLP           | 30 : 70        |   0.92887  |\n",
            "+---------------+---------------+----------------+------------+\n"
          ]
        }
      ]
    }
  ]
}